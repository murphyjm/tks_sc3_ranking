{
 "metadata": {
  "language_info": {
   "codemirror_mode": {
    "name": "ipython",
    "version": 3
   },
   "file_extension": ".py",
   "mimetype": "text/x-python",
   "name": "python",
   "nbconvert_exporter": "python",
   "pygments_lexer": "ipython3",
   "version": "3.7.3-final"
  },
  "orig_nbformat": 2,
  "kernelspec": {
   "name": "python3",
   "display_name": "Python 3",
   "language": "python"
  }
 },
 "nbformat": 4,
 "nbformat_minor": 2,
 "cells": [
  {
   "cell_type": "code",
   "execution_count": 24,
   "metadata": {},
   "outputs": [],
   "source": [
    "import pandas as pd\n",
    "import numpy as np\n",
    "import plotly.express as px\n",
    "pd.set_option('display.max_columns', None)\n",
    "pd.set_option('display.max_rows', None)"
   ]
  },
  {
   "cell_type": "code",
   "execution_count": 46,
   "metadata": {},
   "outputs": [
    {
     "output_type": "execute_result",
     "data": {
      "text/plain": [
       "   radius_bin  insol_bin  st_Teff_bin Source Pipeline   Full TOI ID  \\\n",
       "0           1          1            1             NaN  TRAPPIST-1 f   \n",
       "1           1          1            1             NaN  TRAPPIST-1 g   \n",
       "2           1          2            1             NaN     L 98-59 d   \n",
       "3           1          2            1            spoc       1680.01   \n",
       "4           1          2            1             NaN    TOI-1266 c   \n",
       "\n",
       "   Planet Radius Value  Orbital Period Value  Effective Temperature Value  \\\n",
       "0             1.045000              9.206690                       2559.0   \n",
       "1             1.127000             12.352940                       2559.0   \n",
       "2             1.570000              7.451200                       3412.0   \n",
       "3             1.504177              4.802622                       3231.0   \n",
       "4             1.560000             18.801510                       3600.0   \n",
       "\n",
       "   Effective Stellar Flux Value  Planet Equilibrium Temperature (K) Value  \\\n",
       "0                      0.382000                                       NaN   \n",
       "1                      0.258000                                       NaN   \n",
       "2                      4.850000                                       NaN   \n",
       "3                      4.451139                                370.456769   \n",
       "4                      2.300000                                       NaN   \n",
       "\n",
       "   mass_flag  V mag     K_amp         TSM       t_HIRES         X  \\\n",
       "0        1.0    NaN  1.119433   26.358027           NaN       NaN   \n",
       "1        1.0    NaN  2.000039   15.211929           NaN       NaN   \n",
       "2        1.0    NaN  1.654040  231.859771           NaN       NaN   \n",
       "3        0.0  15.87  3.394083   62.382792  1.143576e+06  0.000055   \n",
       "4        1.0    NaN  0.902542   48.751463           NaN       NaN   \n",
       "\n",
       "           TIC  TSM_Vmag_priority  X_priority  vip_rank  KP_flag  \n",
       "0          NaN                1.0         1.0       NaN     True  \n",
       "1          NaN                2.0         2.0       NaN     True  \n",
       "2          NaN                2.0         NaN       NaN     True  \n",
       "3  259168516.0                1.0         2.0       NaN    False  \n",
       "4          NaN                3.0         NaN       NaN     True  "
      ],
      "text/html": "<div>\n<style scoped>\n    .dataframe tbody tr th:only-of-type {\n        vertical-align: middle;\n    }\n\n    .dataframe tbody tr th {\n        vertical-align: top;\n    }\n\n    .dataframe thead th {\n        text-align: right;\n    }\n</style>\n<table border=\"1\" class=\"dataframe\">\n  <thead>\n    <tr style=\"text-align: right;\">\n      <th></th>\n      <th>radius_bin</th>\n      <th>insol_bin</th>\n      <th>st_Teff_bin</th>\n      <th>Source Pipeline</th>\n      <th>Full TOI ID</th>\n      <th>Planet Radius Value</th>\n      <th>Orbital Period Value</th>\n      <th>Effective Temperature Value</th>\n      <th>Effective Stellar Flux Value</th>\n      <th>Planet Equilibrium Temperature (K) Value</th>\n      <th>mass_flag</th>\n      <th>V mag</th>\n      <th>K_amp</th>\n      <th>TSM</th>\n      <th>t_HIRES</th>\n      <th>X</th>\n      <th>TIC</th>\n      <th>TSM_Vmag_priority</th>\n      <th>X_priority</th>\n      <th>vip_rank</th>\n      <th>KP_flag</th>\n    </tr>\n  </thead>\n  <tbody>\n    <tr>\n      <th>0</th>\n      <td>1</td>\n      <td>1</td>\n      <td>1</td>\n      <td>NaN</td>\n      <td>TRAPPIST-1 f</td>\n      <td>1.045000</td>\n      <td>9.206690</td>\n      <td>2559.0</td>\n      <td>0.382000</td>\n      <td>NaN</td>\n      <td>1.0</td>\n      <td>NaN</td>\n      <td>1.119433</td>\n      <td>26.358027</td>\n      <td>NaN</td>\n      <td>NaN</td>\n      <td>NaN</td>\n      <td>1.0</td>\n      <td>1.0</td>\n      <td>NaN</td>\n      <td>True</td>\n    </tr>\n    <tr>\n      <th>1</th>\n      <td>1</td>\n      <td>1</td>\n      <td>1</td>\n      <td>NaN</td>\n      <td>TRAPPIST-1 g</td>\n      <td>1.127000</td>\n      <td>12.352940</td>\n      <td>2559.0</td>\n      <td>0.258000</td>\n      <td>NaN</td>\n      <td>1.0</td>\n      <td>NaN</td>\n      <td>2.000039</td>\n      <td>15.211929</td>\n      <td>NaN</td>\n      <td>NaN</td>\n      <td>NaN</td>\n      <td>2.0</td>\n      <td>2.0</td>\n      <td>NaN</td>\n      <td>True</td>\n    </tr>\n    <tr>\n      <th>2</th>\n      <td>1</td>\n      <td>2</td>\n      <td>1</td>\n      <td>NaN</td>\n      <td>L 98-59 d</td>\n      <td>1.570000</td>\n      <td>7.451200</td>\n      <td>3412.0</td>\n      <td>4.850000</td>\n      <td>NaN</td>\n      <td>1.0</td>\n      <td>NaN</td>\n      <td>1.654040</td>\n      <td>231.859771</td>\n      <td>NaN</td>\n      <td>NaN</td>\n      <td>NaN</td>\n      <td>2.0</td>\n      <td>NaN</td>\n      <td>NaN</td>\n      <td>True</td>\n    </tr>\n    <tr>\n      <th>3</th>\n      <td>1</td>\n      <td>2</td>\n      <td>1</td>\n      <td>spoc</td>\n      <td>1680.01</td>\n      <td>1.504177</td>\n      <td>4.802622</td>\n      <td>3231.0</td>\n      <td>4.451139</td>\n      <td>370.456769</td>\n      <td>0.0</td>\n      <td>15.87</td>\n      <td>3.394083</td>\n      <td>62.382792</td>\n      <td>1.143576e+06</td>\n      <td>0.000055</td>\n      <td>259168516.0</td>\n      <td>1.0</td>\n      <td>2.0</td>\n      <td>NaN</td>\n      <td>False</td>\n    </tr>\n    <tr>\n      <th>4</th>\n      <td>1</td>\n      <td>2</td>\n      <td>1</td>\n      <td>NaN</td>\n      <td>TOI-1266 c</td>\n      <td>1.560000</td>\n      <td>18.801510</td>\n      <td>3600.0</td>\n      <td>2.300000</td>\n      <td>NaN</td>\n      <td>1.0</td>\n      <td>NaN</td>\n      <td>0.902542</td>\n      <td>48.751463</td>\n      <td>NaN</td>\n      <td>NaN</td>\n      <td>NaN</td>\n      <td>3.0</td>\n      <td>NaN</td>\n      <td>NaN</td>\n      <td>True</td>\n    </tr>\n  </tbody>\n</table>\n</div>"
     },
     "metadata": {},
     "execution_count": 46
    }
   ],
   "source": [
    "fname = 'sc3_target_list_2020-01-11_no_k_amp_cut.csv'\n",
    "df = pd.read_csv(f'data/sc3_target_lists/{fname}')\n",
    "df['KP_flag'] = df['Source Pipeline'].isna() # Distinguish between confirmed planets from the exoplanet archive and TOIs\n",
    "df.head()"
   ]
  },
  {
   "cell_type": "code",
   "execution_count": 47,
   "metadata": {},
   "outputs": [
    {
     "output_type": "execute_result",
     "data": {
      "text/plain": [
       "       Name   toi     ticnum  vmag    teff    feh      mass  radius  \\\n",
       "0    191939  1339  269701147  8.97  5326.0 -0.250  0.836650  1.3620   \n",
       "1   T001136  1136  142276270  9.53  5747.5  0.030  1.028042  1.0130   \n",
       "2    235088  1430  293954617  9.19  5040.0  0.010  0.847972  0.7840   \n",
       "3     95072  1776   21535395  8.09  5677.0 -0.355  0.870404  1.0695   \n",
       "4  HIP97166  1255  237222864  9.92  5151.5  0.330  0.905458  0.8785   \n",
       "\n",
       "   num_nights  num_nights_hires_j  num_nights_apf  last_observed   texp_keck  \\\n",
       "0         151                  74           102.0              1  376.288305   \n",
       "1         114                  51            72.0              1  630.261261   \n",
       "2          70                  46            25.0              2  230.404377   \n",
       "3          39                  26            14.0              2  167.309546   \n",
       "4          87                  42            64.0              3  902.652773   \n",
       "\n",
       "   total_exptime_hires_j  \n",
       "0               7.370975  \n",
       "1               6.758843  \n",
       "2               4.377344  \n",
       "3               1.049889  \n",
       "4               8.423288  "
      ],
      "text/html": "<div>\n<style scoped>\n    .dataframe tbody tr th:only-of-type {\n        vertical-align: middle;\n    }\n\n    .dataframe tbody tr th {\n        vertical-align: top;\n    }\n\n    .dataframe thead th {\n        text-align: right;\n    }\n</style>\n<table border=\"1\" class=\"dataframe\">\n  <thead>\n    <tr style=\"text-align: right;\">\n      <th></th>\n      <th>Name</th>\n      <th>toi</th>\n      <th>ticnum</th>\n      <th>vmag</th>\n      <th>teff</th>\n      <th>feh</th>\n      <th>mass</th>\n      <th>radius</th>\n      <th>num_nights</th>\n      <th>num_nights_hires_j</th>\n      <th>num_nights_apf</th>\n      <th>last_observed</th>\n      <th>texp_keck</th>\n      <th>total_exptime_hires_j</th>\n    </tr>\n  </thead>\n  <tbody>\n    <tr>\n      <th>0</th>\n      <td>191939</td>\n      <td>1339</td>\n      <td>269701147</td>\n      <td>8.97</td>\n      <td>5326.0</td>\n      <td>-0.250</td>\n      <td>0.836650</td>\n      <td>1.3620</td>\n      <td>151</td>\n      <td>74</td>\n      <td>102.0</td>\n      <td>1</td>\n      <td>376.288305</td>\n      <td>7.370975</td>\n    </tr>\n    <tr>\n      <th>1</th>\n      <td>T001136</td>\n      <td>1136</td>\n      <td>142276270</td>\n      <td>9.53</td>\n      <td>5747.5</td>\n      <td>0.030</td>\n      <td>1.028042</td>\n      <td>1.0130</td>\n      <td>114</td>\n      <td>51</td>\n      <td>72.0</td>\n      <td>1</td>\n      <td>630.261261</td>\n      <td>6.758843</td>\n    </tr>\n    <tr>\n      <th>2</th>\n      <td>235088</td>\n      <td>1430</td>\n      <td>293954617</td>\n      <td>9.19</td>\n      <td>5040.0</td>\n      <td>0.010</td>\n      <td>0.847972</td>\n      <td>0.7840</td>\n      <td>70</td>\n      <td>46</td>\n      <td>25.0</td>\n      <td>2</td>\n      <td>230.404377</td>\n      <td>4.377344</td>\n    </tr>\n    <tr>\n      <th>3</th>\n      <td>95072</td>\n      <td>1776</td>\n      <td>21535395</td>\n      <td>8.09</td>\n      <td>5677.0</td>\n      <td>-0.355</td>\n      <td>0.870404</td>\n      <td>1.0695</td>\n      <td>39</td>\n      <td>26</td>\n      <td>14.0</td>\n      <td>2</td>\n      <td>167.309546</td>\n      <td>1.049889</td>\n    </tr>\n    <tr>\n      <th>4</th>\n      <td>HIP97166</td>\n      <td>1255</td>\n      <td>237222864</td>\n      <td>9.92</td>\n      <td>5151.5</td>\n      <td>0.330</td>\n      <td>0.905458</td>\n      <td>0.8785</td>\n      <td>87</td>\n      <td>42</td>\n      <td>64.0</td>\n      <td>3</td>\n      <td>902.652773</td>\n      <td>8.423288</td>\n    </tr>\n  </tbody>\n</table>\n</div>"
     },
     "metadata": {},
     "execution_count": 47
    }
   ],
   "source": [
    "fname = 'sc3_members_2021-01-11.csv'\n",
    "df_jump = pd.read_csv(f'data/jump/{fname}')\n",
    "df_jump.head()"
   ]
  },
  {
   "cell_type": "code",
   "execution_count": 48,
   "metadata": {},
   "outputs": [
    {
     "output_type": "execute_result",
     "data": {
      "text/plain": [
       "    radius_bin  insol_bin  st_Teff_bin Source Pipeline Full TOI ID  \\\n",
       "0            1          4            3            spoc     1776.01   \n",
       "1            1          5            3            spoc      561.02   \n",
       "2            3          3            3            spoc      561.01   \n",
       "3            3          3            3            spoc      561.03   \n",
       "4            2          3            2            spoc     1430.01   \n",
       "5            2          4            3            spoc     1473.01   \n",
       "6            2          4            3            spoc      266.01   \n",
       "7            2          4            3            spoc      266.02   \n",
       "8            3          2            2            spoc     1759.01   \n",
       "9            3          2            2            spoc     2088.01   \n",
       "10           3          3            2            spoc     1255.01   \n",
       "11           3          3            3            spoc     1339.01   \n",
       "12           3          3            3            spoc     1339.02   \n",
       "13           3          3            3            spoc     1339.03   \n",
       "14           3          3            3            spoc      469.01   \n",
       "15           3          3            3            spoc     1247.01   \n",
       "16           3          3            3            spoc     1136.04   \n",
       "17           3          4            3            spoc     1136.02   \n",
       "18           4          3            3            spoc     1136.03   \n",
       "19           3          4            2            spoc     1410.01   \n",
       "20           3          4            3            spoc      509.01   \n",
       "21           3          4            3            spoc      554.01   \n",
       "22           3          4            3            spoc      669.01   \n",
       "23           4          3            3            spoc     1471.01   \n",
       "24           4          4            2            spoc     1272.01   \n",
       "\n",
       "    Planet Radius Value  Orbital Period Value  Effective Temperature Value  \\\n",
       "0              1.403392              2.800991                      5723.87   \n",
       "1              1.554210              0.446547                      5391.00   \n",
       "2              3.772776             10.781327                      5391.00   \n",
       "3              2.842121             16.371650                      5391.00   \n",
       "4              2.229178              7.434007                      5064.00   \n",
       "5              2.493360              5.255294                      5958.00   \n",
       "6              2.407741             10.767807                      5784.00   \n",
       "7              1.759371              6.191320                      5784.00   \n",
       "8              3.279929             18.848100                      3960.00   \n",
       "9              3.582759            124.725199                      4902.00   \n",
       "10             2.550421             10.288910                      5126.00   \n",
       "11             3.233810              8.880251                      5555.70   \n",
       "12             3.033951             28.580332                      5555.70   \n",
       "13             3.160000             38.350000                      5555.70   \n",
       "14             3.685246             13.632935                      6114.00   \n",
       "15             2.544450             15.923473                      5711.85   \n",
       "16             2.540807             18.804756                      5729.00   \n",
       "17             3.002270              6.256742                      5729.00   \n",
       "18             4.037327             26.321864                      5729.00   \n",
       "19             2.943638              1.216835                      4634.60   \n",
       "20             2.936300              9.059882                      5560.26   \n",
       "21             3.411592              7.048602                      6337.87   \n",
       "22             3.842242              3.948678                      5581.90   \n",
       "23             4.282738             20.772024                      5625.56   \n",
       "24             4.289363              3.315997                      4972.70   \n",
       "\n",
       "    Effective Stellar Flux Value  Planet Equilibrium Temperature (K) Value  \\\n",
       "0                     560.334922                               1240.885393   \n",
       "1                    4628.630447                               2103.695493   \n",
       "2                      66.330454                                727.860233   \n",
       "3                      38.003128                                633.249107   \n",
       "4                      72.546440                                744.344144   \n",
       "5                     299.625751                               1061.120081   \n",
       "6                     104.770454                                815.979892   \n",
       "7                     219.127828                                981.282679   \n",
       "8                       2.485872                                320.250225   \n",
       "9                       1.733858                                292.666600   \n",
       "10                     59.759036                                709.121488   \n",
       "11                     99.074489                                804.655919   \n",
       "12                     20.849989                                544.999630   \n",
       "13                     14.800000                                499.000000   \n",
       "14                     89.071512                                783.527882   \n",
       "15                     70.920985                                740.139256   \n",
       "16                     48.445427                                672.872761   \n",
       "17                    210.125477                                971.045159   \n",
       "18                     30.940040                                601.519853   \n",
       "19                    565.541505                               1243.757952   \n",
       "20                    135.582100                                948.478000   \n",
       "21                    416.682397                               1152.314530   \n",
       "22                    641.234094                               1283.435066   \n",
       "23                     81.617867                                766.595136   \n",
       "24                    217.521583                                979.479471   \n",
       "\n",
       "    mass_flag     V mag     K_amp         TSM       t_HIRES         X  \\\n",
       "0         0.0   8.26000  1.146325   12.253961   9059.295448  0.001353   \n",
       "1         0.0  10.25200  2.661764   78.276586  10523.754937  0.007438   \n",
       "2         0.0  10.25200  4.159028   87.143100   4310.486215  0.020217   \n",
       "3         0.0  10.25200  2.235564   52.460884  14918.866815  0.003516   \n",
       "4         0.0   9.19000  2.053198   97.366257   6650.409218  0.014641   \n",
       "5         0.0   8.84400  2.362245   97.258434   3653.087060  0.026624   \n",
       "6         0.0  10.07000  2.046347   48.271160  15057.452664  0.003206   \n",
       "7         0.0  10.07000  1.443660   38.607739  30253.813001  0.001276   \n",
       "8         0.0  11.93000  3.623383   82.486050  26636.765809  0.003097   \n",
       "9         0.0  11.63800  1.867851   21.140684  76599.431247  0.000276   \n",
       "10        0.0   9.92000  2.298211   64.436722  10397.524630  0.006197   \n",
       "11        0.0   8.97000  3.370558  130.815680   2015.145159  0.064916   \n",
       "12        0.0   8.97000  2.048272   81.550772   5456.756080  0.014945   \n",
       "13        0.0   8.97000  1.990101   77.955026   5780.423237  0.013486   \n",
       "14        0.0   9.49000  3.216821  104.239872   3571.544191  0.029186   \n",
       "15        0.0   9.08000  1.766189   55.046986   8121.491618  0.006778   \n",
       "16        0.0   9.53400  1.657266   47.911052  14012.819558  0.003419   \n",
       "17        0.0   9.53400  3.176226   87.257568   3814.934830  0.022873   \n",
       "18        0.0   9.53400  3.255495   71.373820   3631.414657  0.019655   \n",
       "19        0.0  11.11100  6.752781  117.908189   3606.987575  0.032689   \n",
       "20        0.0   8.58000  2.769020  115.823706   2084.768611  0.055557   \n",
       "21        0.0   6.91134  1.733525  107.534784   1143.893197  0.094008   \n",
       "22        0.0  10.60600  7.619698   66.390053   1779.239269  0.037314   \n",
       "23        0.0   9.20000  3.969217  102.621488   1795.974551  0.057140   \n",
       "24        0.0  11.75800  8.322015   78.391731   4309.758180  0.018189   \n",
       "\n",
       "            TIC  TSM_Vmag_priority  X_priority  vip_rank  KP_flag      Name  \\\n",
       "0    21535395.0                1.0         1.0       NaN    False     95072   \n",
       "1   377064495.0                2.0         1.0       NaN    False   T000561   \n",
       "2   377064495.0                NaN         NaN       NaN    False   T000561   \n",
       "3   377064495.0                NaN         NaN       NaN    False   T000561   \n",
       "4   293954617.0                NaN         2.0       NaN    False    235088   \n",
       "5   352413427.0                NaN         4.0       NaN    False      6061   \n",
       "6   164767175.0                NaN         NaN       NaN    False   HIP8152   \n",
       "7   164767175.0                NaN         NaN       NaN    False   HIP8152   \n",
       "8   408636441.0                1.0         1.0       NaN    False   T001759   \n",
       "9   441765914.0                NaN         2.0       NaN    False   T002088   \n",
       "10  237222864.0                NaN         NaN       NaN    False  HIP97166   \n",
       "11  269701147.0                2.0         2.0       NaN    False    191939   \n",
       "12  269701147.0                NaN         NaN       NaN    False    191939   \n",
       "13  269701147.0                NaN         NaN       NaN    False    191939   \n",
       "14   33692729.0                NaN         3.0       NaN    False     42813   \n",
       "15  232540264.0                NaN         NaN       NaN    False    135694   \n",
       "16  142276270.0                NaN         NaN       NaN    False   T001136   \n",
       "17  142276270.0                NaN         NaN       NaN    False   T001136   \n",
       "18  142276270.0                NaN         3.0       NaN    False   T001136   \n",
       "19  199444169.0                1.0         1.0       NaN    False   T001410   \n",
       "20  453211454.0                2.0         4.0       NaN    False     63935   \n",
       "21  407966340.0                1.0         1.0       NaN    False     25463   \n",
       "22  124573851.0                NaN         5.0       NaN    False   T000669   \n",
       "23  306263608.0                1.0         1.0       NaN    False     12572   \n",
       "24  417948359.0                NaN         5.0       NaN    False   T001272   \n",
       "\n",
       "     toi     ticnum    vmag    teff    feh      mass  radius  num_nights  \\\n",
       "0   1776   21535395   8.090  5677.0 -0.355  0.870404  1.0695          39   \n",
       "1    561  377064495  10.250  5302.0 -0.480  0.752508  0.8350          65   \n",
       "2    561  377064495  10.250  5302.0 -0.480  0.752508  0.8350          65   \n",
       "3    561  377064495  10.250  5302.0 -0.480  0.752508  0.8350          65   \n",
       "4   1430  293954617   9.190  5040.0  0.010  0.847972  0.7840          70   \n",
       "5   1473  352413427   8.840  5921.0 -0.080  1.032723  1.0900          98   \n",
       "6    266  164767175  10.070  5549.5 -0.080  0.918288  1.1120          58   \n",
       "7    266  164767175  10.070  5549.5 -0.080  0.918288  1.1120          58   \n",
       "8   1759  408636441  12.200  3920.5 -0.195  0.600835  0.6250          25   \n",
       "9   2088  441765914  11.481  4878.0  0.190  0.877790  0.8840           9   \n",
       "10  1255  237222864   9.920  5151.5  0.330  0.905458  0.8785          87   \n",
       "11  1339  269701147   8.970  5326.0 -0.250  0.836650  1.3620         151   \n",
       "12  1339  269701147   8.970  5326.0 -0.250  0.836650  1.3620         151   \n",
       "13  1339  269701147   8.970  5326.0 -0.250  0.836650  1.3620         151   \n",
       "14   469   33692729   9.490  5247.0  0.330  0.970983  1.0195          50   \n",
       "15  1247  232540264   9.080  5700.5 -0.225  0.885300  0.9925          95   \n",
       "16  1136  142276270   9.530  5747.5  0.030  1.028042  1.0130         114   \n",
       "17  1136  142276270   9.530  5747.5  0.030  1.028042  1.0130         114   \n",
       "18  1136  142276270   9.530  5747.5  0.030  1.028042  1.0130         114   \n",
       "19  1410  199444169  11.110  4506.0  0.165  0.766170  0.7320          36   \n",
       "20   509  453211454   8.580  5490.0  0.070  0.929936  1.0750         128   \n",
       "21   554  407966340   6.910  6221.0 -0.200  1.211015  1.9400         177   \n",
       "22   669  124573851  10.610  5607.5 -0.060  0.916836  1.0170          44   \n",
       "23  1471  306263608   9.200  5553.0 -0.100  0.906052  1.0750          61   \n",
       "24  1272  417948359  11.760  5013.5  0.235  0.870501  0.8015          38   \n",
       "\n",
       "    num_nights_hires_j  num_nights_apf  last_observed    texp_keck  \\\n",
       "0                   26            14.0              2   167.309546   \n",
       "1                   65             NaN             12  1223.265481   \n",
       "2                   65             NaN             12  1223.265481   \n",
       "3                   65             NaN             12  1223.265481   \n",
       "4                   46            25.0              2   230.404377   \n",
       "5                   63            41.0             33   166.913240   \n",
       "6                   58             NaN             18  1036.384051   \n",
       "7                   58             NaN             18  1036.384051   \n",
       "8                   25             NaN             18  2352.179817   \n",
       "9                    9             NaN            105  1368.432001   \n",
       "10                  42            64.0              3   902.652773   \n",
       "11                  74           102.0              1   376.288305   \n",
       "12                  74           102.0              1   376.288305   \n",
       "13                  74           102.0              1   376.288305   \n",
       "14                  50             NaN             12   607.464245   \n",
       "15                  43            55.0            103   416.409588   \n",
       "16                  51            72.0              1   630.261261   \n",
       "17                  51            72.0              1   630.261261   \n",
       "18                  51            72.0              1   630.261261   \n",
       "19                  36             NaN             39   972.351043   \n",
       "20                  46            98.0              6   262.736688   \n",
       "21                  69           132.0             12    56.431386   \n",
       "22                  44             NaN             12   852.100044   \n",
       "23                  26            38.0              4   465.072565   \n",
       "24                  38             NaN             12  1179.592391   \n",
       "\n",
       "    total_exptime_hires_j  \n",
       "0                1.049889  \n",
       "1               14.434062  \n",
       "2               14.434062  \n",
       "3               14.434062  \n",
       "4                4.377344  \n",
       "5                3.787916  \n",
       "6               11.942192  \n",
       "7               11.942192  \n",
       "8                7.457150  \n",
       "9                2.719638  \n",
       "10               8.423288  \n",
       "11               7.370975  \n",
       "12               7.370975  \n",
       "13               7.370975  \n",
       "14               6.624832  \n",
       "15               4.303161  \n",
       "16               6.758843  \n",
       "17               6.758843  \n",
       "18               6.758843  \n",
       "19               7.909333  \n",
       "20               4.797029  \n",
       "21               2.305276  \n",
       "22              10.754261  \n",
       "23               2.699125  \n",
       "24              10.359387  "
      ],
      "text/html": "<div>\n<style scoped>\n    .dataframe tbody tr th:only-of-type {\n        vertical-align: middle;\n    }\n\n    .dataframe tbody tr th {\n        vertical-align: top;\n    }\n\n    .dataframe thead th {\n        text-align: right;\n    }\n</style>\n<table border=\"1\" class=\"dataframe\">\n  <thead>\n    <tr style=\"text-align: right;\">\n      <th></th>\n      <th>radius_bin</th>\n      <th>insol_bin</th>\n      <th>st_Teff_bin</th>\n      <th>Source Pipeline</th>\n      <th>Full TOI ID</th>\n      <th>Planet Radius Value</th>\n      <th>Orbital Period Value</th>\n      <th>Effective Temperature Value</th>\n      <th>Effective Stellar Flux Value</th>\n      <th>Planet Equilibrium Temperature (K) Value</th>\n      <th>mass_flag</th>\n      <th>V mag</th>\n      <th>K_amp</th>\n      <th>TSM</th>\n      <th>t_HIRES</th>\n      <th>X</th>\n      <th>TIC</th>\n      <th>TSM_Vmag_priority</th>\n      <th>X_priority</th>\n      <th>vip_rank</th>\n      <th>KP_flag</th>\n      <th>Name</th>\n      <th>toi</th>\n      <th>ticnum</th>\n      <th>vmag</th>\n      <th>teff</th>\n      <th>feh</th>\n      <th>mass</th>\n      <th>radius</th>\n      <th>num_nights</th>\n      <th>num_nights_hires_j</th>\n      <th>num_nights_apf</th>\n      <th>last_observed</th>\n      <th>texp_keck</th>\n      <th>total_exptime_hires_j</th>\n    </tr>\n  </thead>\n  <tbody>\n    <tr>\n      <th>0</th>\n      <td>1</td>\n      <td>4</td>\n      <td>3</td>\n      <td>spoc</td>\n      <td>1776.01</td>\n      <td>1.403392</td>\n      <td>2.800991</td>\n      <td>5723.87</td>\n      <td>560.334922</td>\n      <td>1240.885393</td>\n      <td>0.0</td>\n      <td>8.26000</td>\n      <td>1.146325</td>\n      <td>12.253961</td>\n      <td>9059.295448</td>\n      <td>0.001353</td>\n      <td>21535395.0</td>\n      <td>1.0</td>\n      <td>1.0</td>\n      <td>NaN</td>\n      <td>False</td>\n      <td>95072</td>\n      <td>1776</td>\n      <td>21535395</td>\n      <td>8.090</td>\n      <td>5677.0</td>\n      <td>-0.355</td>\n      <td>0.870404</td>\n      <td>1.0695</td>\n      <td>39</td>\n      <td>26</td>\n      <td>14.0</td>\n      <td>2</td>\n      <td>167.309546</td>\n      <td>1.049889</td>\n    </tr>\n    <tr>\n      <th>1</th>\n      <td>1</td>\n      <td>5</td>\n      <td>3</td>\n      <td>spoc</td>\n      <td>561.02</td>\n      <td>1.554210</td>\n      <td>0.446547</td>\n      <td>5391.00</td>\n      <td>4628.630447</td>\n      <td>2103.695493</td>\n      <td>0.0</td>\n      <td>10.25200</td>\n      <td>2.661764</td>\n      <td>78.276586</td>\n      <td>10523.754937</td>\n      <td>0.007438</td>\n      <td>377064495.0</td>\n      <td>2.0</td>\n      <td>1.0</td>\n      <td>NaN</td>\n      <td>False</td>\n      <td>T000561</td>\n      <td>561</td>\n      <td>377064495</td>\n      <td>10.250</td>\n      <td>5302.0</td>\n      <td>-0.480</td>\n      <td>0.752508</td>\n      <td>0.8350</td>\n      <td>65</td>\n      <td>65</td>\n      <td>NaN</td>\n      <td>12</td>\n      <td>1223.265481</td>\n      <td>14.434062</td>\n    </tr>\n    <tr>\n      <th>2</th>\n      <td>3</td>\n      <td>3</td>\n      <td>3</td>\n      <td>spoc</td>\n      <td>561.01</td>\n      <td>3.772776</td>\n      <td>10.781327</td>\n      <td>5391.00</td>\n      <td>66.330454</td>\n      <td>727.860233</td>\n      <td>0.0</td>\n      <td>10.25200</td>\n      <td>4.159028</td>\n      <td>87.143100</td>\n      <td>4310.486215</td>\n      <td>0.020217</td>\n      <td>377064495.0</td>\n      <td>NaN</td>\n      <td>NaN</td>\n      <td>NaN</td>\n      <td>False</td>\n      <td>T000561</td>\n      <td>561</td>\n      <td>377064495</td>\n      <td>10.250</td>\n      <td>5302.0</td>\n      <td>-0.480</td>\n      <td>0.752508</td>\n      <td>0.8350</td>\n      <td>65</td>\n      <td>65</td>\n      <td>NaN</td>\n      <td>12</td>\n      <td>1223.265481</td>\n      <td>14.434062</td>\n    </tr>\n    <tr>\n      <th>3</th>\n      <td>3</td>\n      <td>3</td>\n      <td>3</td>\n      <td>spoc</td>\n      <td>561.03</td>\n      <td>2.842121</td>\n      <td>16.371650</td>\n      <td>5391.00</td>\n      <td>38.003128</td>\n      <td>633.249107</td>\n      <td>0.0</td>\n      <td>10.25200</td>\n      <td>2.235564</td>\n      <td>52.460884</td>\n      <td>14918.866815</td>\n      <td>0.003516</td>\n      <td>377064495.0</td>\n      <td>NaN</td>\n      <td>NaN</td>\n      <td>NaN</td>\n      <td>False</td>\n      <td>T000561</td>\n      <td>561</td>\n      <td>377064495</td>\n      <td>10.250</td>\n      <td>5302.0</td>\n      <td>-0.480</td>\n      <td>0.752508</td>\n      <td>0.8350</td>\n      <td>65</td>\n      <td>65</td>\n      <td>NaN</td>\n      <td>12</td>\n      <td>1223.265481</td>\n      <td>14.434062</td>\n    </tr>\n    <tr>\n      <th>4</th>\n      <td>2</td>\n      <td>3</td>\n      <td>2</td>\n      <td>spoc</td>\n      <td>1430.01</td>\n      <td>2.229178</td>\n      <td>7.434007</td>\n      <td>5064.00</td>\n      <td>72.546440</td>\n      <td>744.344144</td>\n      <td>0.0</td>\n      <td>9.19000</td>\n      <td>2.053198</td>\n      <td>97.366257</td>\n      <td>6650.409218</td>\n      <td>0.014641</td>\n      <td>293954617.0</td>\n      <td>NaN</td>\n      <td>2.0</td>\n      <td>NaN</td>\n      <td>False</td>\n      <td>235088</td>\n      <td>1430</td>\n      <td>293954617</td>\n      <td>9.190</td>\n      <td>5040.0</td>\n      <td>0.010</td>\n      <td>0.847972</td>\n      <td>0.7840</td>\n      <td>70</td>\n      <td>46</td>\n      <td>25.0</td>\n      <td>2</td>\n      <td>230.404377</td>\n      <td>4.377344</td>\n    </tr>\n    <tr>\n      <th>5</th>\n      <td>2</td>\n      <td>4</td>\n      <td>3</td>\n      <td>spoc</td>\n      <td>1473.01</td>\n      <td>2.493360</td>\n      <td>5.255294</td>\n      <td>5958.00</td>\n      <td>299.625751</td>\n      <td>1061.120081</td>\n      <td>0.0</td>\n      <td>8.84400</td>\n      <td>2.362245</td>\n      <td>97.258434</td>\n      <td>3653.087060</td>\n      <td>0.026624</td>\n      <td>352413427.0</td>\n      <td>NaN</td>\n      <td>4.0</td>\n      <td>NaN</td>\n      <td>False</td>\n      <td>6061</td>\n      <td>1473</td>\n      <td>352413427</td>\n      <td>8.840</td>\n      <td>5921.0</td>\n      <td>-0.080</td>\n      <td>1.032723</td>\n      <td>1.0900</td>\n      <td>98</td>\n      <td>63</td>\n      <td>41.0</td>\n      <td>33</td>\n      <td>166.913240</td>\n      <td>3.787916</td>\n    </tr>\n    <tr>\n      <th>6</th>\n      <td>2</td>\n      <td>4</td>\n      <td>3</td>\n      <td>spoc</td>\n      <td>266.01</td>\n      <td>2.407741</td>\n      <td>10.767807</td>\n      <td>5784.00</td>\n      <td>104.770454</td>\n      <td>815.979892</td>\n      <td>0.0</td>\n      <td>10.07000</td>\n      <td>2.046347</td>\n      <td>48.271160</td>\n      <td>15057.452664</td>\n      <td>0.003206</td>\n      <td>164767175.0</td>\n      <td>NaN</td>\n      <td>NaN</td>\n      <td>NaN</td>\n      <td>False</td>\n      <td>HIP8152</td>\n      <td>266</td>\n      <td>164767175</td>\n      <td>10.070</td>\n      <td>5549.5</td>\n      <td>-0.080</td>\n      <td>0.918288</td>\n      <td>1.1120</td>\n      <td>58</td>\n      <td>58</td>\n      <td>NaN</td>\n      <td>18</td>\n      <td>1036.384051</td>\n      <td>11.942192</td>\n    </tr>\n    <tr>\n      <th>7</th>\n      <td>2</td>\n      <td>4</td>\n      <td>3</td>\n      <td>spoc</td>\n      <td>266.02</td>\n      <td>1.759371</td>\n      <td>6.191320</td>\n      <td>5784.00</td>\n      <td>219.127828</td>\n      <td>981.282679</td>\n      <td>0.0</td>\n      <td>10.07000</td>\n      <td>1.443660</td>\n      <td>38.607739</td>\n      <td>30253.813001</td>\n      <td>0.001276</td>\n      <td>164767175.0</td>\n      <td>NaN</td>\n      <td>NaN</td>\n      <td>NaN</td>\n      <td>False</td>\n      <td>HIP8152</td>\n      <td>266</td>\n      <td>164767175</td>\n      <td>10.070</td>\n      <td>5549.5</td>\n      <td>-0.080</td>\n      <td>0.918288</td>\n      <td>1.1120</td>\n      <td>58</td>\n      <td>58</td>\n      <td>NaN</td>\n      <td>18</td>\n      <td>1036.384051</td>\n      <td>11.942192</td>\n    </tr>\n    <tr>\n      <th>8</th>\n      <td>3</td>\n      <td>2</td>\n      <td>2</td>\n      <td>spoc</td>\n      <td>1759.01</td>\n      <td>3.279929</td>\n      <td>18.848100</td>\n      <td>3960.00</td>\n      <td>2.485872</td>\n      <td>320.250225</td>\n      <td>0.0</td>\n      <td>11.93000</td>\n      <td>3.623383</td>\n      <td>82.486050</td>\n      <td>26636.765809</td>\n      <td>0.003097</td>\n      <td>408636441.0</td>\n      <td>1.0</td>\n      <td>1.0</td>\n      <td>NaN</td>\n      <td>False</td>\n      <td>T001759</td>\n      <td>1759</td>\n      <td>408636441</td>\n      <td>12.200</td>\n      <td>3920.5</td>\n      <td>-0.195</td>\n      <td>0.600835</td>\n      <td>0.6250</td>\n      <td>25</td>\n      <td>25</td>\n      <td>NaN</td>\n      <td>18</td>\n      <td>2352.179817</td>\n      <td>7.457150</td>\n    </tr>\n    <tr>\n      <th>9</th>\n      <td>3</td>\n      <td>2</td>\n      <td>2</td>\n      <td>spoc</td>\n      <td>2088.01</td>\n      <td>3.582759</td>\n      <td>124.725199</td>\n      <td>4902.00</td>\n      <td>1.733858</td>\n      <td>292.666600</td>\n      <td>0.0</td>\n      <td>11.63800</td>\n      <td>1.867851</td>\n      <td>21.140684</td>\n      <td>76599.431247</td>\n      <td>0.000276</td>\n      <td>441765914.0</td>\n      <td>NaN</td>\n      <td>2.0</td>\n      <td>NaN</td>\n      <td>False</td>\n      <td>T002088</td>\n      <td>2088</td>\n      <td>441765914</td>\n      <td>11.481</td>\n      <td>4878.0</td>\n      <td>0.190</td>\n      <td>0.877790</td>\n      <td>0.8840</td>\n      <td>9</td>\n      <td>9</td>\n      <td>NaN</td>\n      <td>105</td>\n      <td>1368.432001</td>\n      <td>2.719638</td>\n    </tr>\n    <tr>\n      <th>10</th>\n      <td>3</td>\n      <td>3</td>\n      <td>2</td>\n      <td>spoc</td>\n      <td>1255.01</td>\n      <td>2.550421</td>\n      <td>10.288910</td>\n      <td>5126.00</td>\n      <td>59.759036</td>\n      <td>709.121488</td>\n      <td>0.0</td>\n      <td>9.92000</td>\n      <td>2.298211</td>\n      <td>64.436722</td>\n      <td>10397.524630</td>\n      <td>0.006197</td>\n      <td>237222864.0</td>\n      <td>NaN</td>\n      <td>NaN</td>\n      <td>NaN</td>\n      <td>False</td>\n      <td>HIP97166</td>\n      <td>1255</td>\n      <td>237222864</td>\n      <td>9.920</td>\n      <td>5151.5</td>\n      <td>0.330</td>\n      <td>0.905458</td>\n      <td>0.8785</td>\n      <td>87</td>\n      <td>42</td>\n      <td>64.0</td>\n      <td>3</td>\n      <td>902.652773</td>\n      <td>8.423288</td>\n    </tr>\n    <tr>\n      <th>11</th>\n      <td>3</td>\n      <td>3</td>\n      <td>3</td>\n      <td>spoc</td>\n      <td>1339.01</td>\n      <td>3.233810</td>\n      <td>8.880251</td>\n      <td>5555.70</td>\n      <td>99.074489</td>\n      <td>804.655919</td>\n      <td>0.0</td>\n      <td>8.97000</td>\n      <td>3.370558</td>\n      <td>130.815680</td>\n      <td>2015.145159</td>\n      <td>0.064916</td>\n      <td>269701147.0</td>\n      <td>2.0</td>\n      <td>2.0</td>\n      <td>NaN</td>\n      <td>False</td>\n      <td>191939</td>\n      <td>1339</td>\n      <td>269701147</td>\n      <td>8.970</td>\n      <td>5326.0</td>\n      <td>-0.250</td>\n      <td>0.836650</td>\n      <td>1.3620</td>\n      <td>151</td>\n      <td>74</td>\n      <td>102.0</td>\n      <td>1</td>\n      <td>376.288305</td>\n      <td>7.370975</td>\n    </tr>\n    <tr>\n      <th>12</th>\n      <td>3</td>\n      <td>3</td>\n      <td>3</td>\n      <td>spoc</td>\n      <td>1339.02</td>\n      <td>3.033951</td>\n      <td>28.580332</td>\n      <td>5555.70</td>\n      <td>20.849989</td>\n      <td>544.999630</td>\n      <td>0.0</td>\n      <td>8.97000</td>\n      <td>2.048272</td>\n      <td>81.550772</td>\n      <td>5456.756080</td>\n      <td>0.014945</td>\n      <td>269701147.0</td>\n      <td>NaN</td>\n      <td>NaN</td>\n      <td>NaN</td>\n      <td>False</td>\n      <td>191939</td>\n      <td>1339</td>\n      <td>269701147</td>\n      <td>8.970</td>\n      <td>5326.0</td>\n      <td>-0.250</td>\n      <td>0.836650</td>\n      <td>1.3620</td>\n      <td>151</td>\n      <td>74</td>\n      <td>102.0</td>\n      <td>1</td>\n      <td>376.288305</td>\n      <td>7.370975</td>\n    </tr>\n    <tr>\n      <th>13</th>\n      <td>3</td>\n      <td>3</td>\n      <td>3</td>\n      <td>spoc</td>\n      <td>1339.03</td>\n      <td>3.160000</td>\n      <td>38.350000</td>\n      <td>5555.70</td>\n      <td>14.800000</td>\n      <td>499.000000</td>\n      <td>0.0</td>\n      <td>8.97000</td>\n      <td>1.990101</td>\n      <td>77.955026</td>\n      <td>5780.423237</td>\n      <td>0.013486</td>\n      <td>269701147.0</td>\n      <td>NaN</td>\n      <td>NaN</td>\n      <td>NaN</td>\n      <td>False</td>\n      <td>191939</td>\n      <td>1339</td>\n      <td>269701147</td>\n      <td>8.970</td>\n      <td>5326.0</td>\n      <td>-0.250</td>\n      <td>0.836650</td>\n      <td>1.3620</td>\n      <td>151</td>\n      <td>74</td>\n      <td>102.0</td>\n      <td>1</td>\n      <td>376.288305</td>\n      <td>7.370975</td>\n    </tr>\n    <tr>\n      <th>14</th>\n      <td>3</td>\n      <td>3</td>\n      <td>3</td>\n      <td>spoc</td>\n      <td>469.01</td>\n      <td>3.685246</td>\n      <td>13.632935</td>\n      <td>6114.00</td>\n      <td>89.071512</td>\n      <td>783.527882</td>\n      <td>0.0</td>\n      <td>9.49000</td>\n      <td>3.216821</td>\n      <td>104.239872</td>\n      <td>3571.544191</td>\n      <td>0.029186</td>\n      <td>33692729.0</td>\n      <td>NaN</td>\n      <td>3.0</td>\n      <td>NaN</td>\n      <td>False</td>\n      <td>42813</td>\n      <td>469</td>\n      <td>33692729</td>\n      <td>9.490</td>\n      <td>5247.0</td>\n      <td>0.330</td>\n      <td>0.970983</td>\n      <td>1.0195</td>\n      <td>50</td>\n      <td>50</td>\n      <td>NaN</td>\n      <td>12</td>\n      <td>607.464245</td>\n      <td>6.624832</td>\n    </tr>\n    <tr>\n      <th>15</th>\n      <td>3</td>\n      <td>3</td>\n      <td>3</td>\n      <td>spoc</td>\n      <td>1247.01</td>\n      <td>2.544450</td>\n      <td>15.923473</td>\n      <td>5711.85</td>\n      <td>70.920985</td>\n      <td>740.139256</td>\n      <td>0.0</td>\n      <td>9.08000</td>\n      <td>1.766189</td>\n      <td>55.046986</td>\n      <td>8121.491618</td>\n      <td>0.006778</td>\n      <td>232540264.0</td>\n      <td>NaN</td>\n      <td>NaN</td>\n      <td>NaN</td>\n      <td>False</td>\n      <td>135694</td>\n      <td>1247</td>\n      <td>232540264</td>\n      <td>9.080</td>\n      <td>5700.5</td>\n      <td>-0.225</td>\n      <td>0.885300</td>\n      <td>0.9925</td>\n      <td>95</td>\n      <td>43</td>\n      <td>55.0</td>\n      <td>103</td>\n      <td>416.409588</td>\n      <td>4.303161</td>\n    </tr>\n    <tr>\n      <th>16</th>\n      <td>3</td>\n      <td>3</td>\n      <td>3</td>\n      <td>spoc</td>\n      <td>1136.04</td>\n      <td>2.540807</td>\n      <td>18.804756</td>\n      <td>5729.00</td>\n      <td>48.445427</td>\n      <td>672.872761</td>\n      <td>0.0</td>\n      <td>9.53400</td>\n      <td>1.657266</td>\n      <td>47.911052</td>\n      <td>14012.819558</td>\n      <td>0.003419</td>\n      <td>142276270.0</td>\n      <td>NaN</td>\n      <td>NaN</td>\n      <td>NaN</td>\n      <td>False</td>\n      <td>T001136</td>\n      <td>1136</td>\n      <td>142276270</td>\n      <td>9.530</td>\n      <td>5747.5</td>\n      <td>0.030</td>\n      <td>1.028042</td>\n      <td>1.0130</td>\n      <td>114</td>\n      <td>51</td>\n      <td>72.0</td>\n      <td>1</td>\n      <td>630.261261</td>\n      <td>6.758843</td>\n    </tr>\n    <tr>\n      <th>17</th>\n      <td>3</td>\n      <td>4</td>\n      <td>3</td>\n      <td>spoc</td>\n      <td>1136.02</td>\n      <td>3.002270</td>\n      <td>6.256742</td>\n      <td>5729.00</td>\n      <td>210.125477</td>\n      <td>971.045159</td>\n      <td>0.0</td>\n      <td>9.53400</td>\n      <td>3.176226</td>\n      <td>87.257568</td>\n      <td>3814.934830</td>\n      <td>0.022873</td>\n      <td>142276270.0</td>\n      <td>NaN</td>\n      <td>NaN</td>\n      <td>NaN</td>\n      <td>False</td>\n      <td>T001136</td>\n      <td>1136</td>\n      <td>142276270</td>\n      <td>9.530</td>\n      <td>5747.5</td>\n      <td>0.030</td>\n      <td>1.028042</td>\n      <td>1.0130</td>\n      <td>114</td>\n      <td>51</td>\n      <td>72.0</td>\n      <td>1</td>\n      <td>630.261261</td>\n      <td>6.758843</td>\n    </tr>\n    <tr>\n      <th>18</th>\n      <td>4</td>\n      <td>3</td>\n      <td>3</td>\n      <td>spoc</td>\n      <td>1136.03</td>\n      <td>4.037327</td>\n      <td>26.321864</td>\n      <td>5729.00</td>\n      <td>30.940040</td>\n      <td>601.519853</td>\n      <td>0.0</td>\n      <td>9.53400</td>\n      <td>3.255495</td>\n      <td>71.373820</td>\n      <td>3631.414657</td>\n      <td>0.019655</td>\n      <td>142276270.0</td>\n      <td>NaN</td>\n      <td>3.0</td>\n      <td>NaN</td>\n      <td>False</td>\n      <td>T001136</td>\n      <td>1136</td>\n      <td>142276270</td>\n      <td>9.530</td>\n      <td>5747.5</td>\n      <td>0.030</td>\n      <td>1.028042</td>\n      <td>1.0130</td>\n      <td>114</td>\n      <td>51</td>\n      <td>72.0</td>\n      <td>1</td>\n      <td>630.261261</td>\n      <td>6.758843</td>\n    </tr>\n    <tr>\n      <th>19</th>\n      <td>3</td>\n      <td>4</td>\n      <td>2</td>\n      <td>spoc</td>\n      <td>1410.01</td>\n      <td>2.943638</td>\n      <td>1.216835</td>\n      <td>4634.60</td>\n      <td>565.541505</td>\n      <td>1243.757952</td>\n      <td>0.0</td>\n      <td>11.11100</td>\n      <td>6.752781</td>\n      <td>117.908189</td>\n      <td>3606.987575</td>\n      <td>0.032689</td>\n      <td>199444169.0</td>\n      <td>1.0</td>\n      <td>1.0</td>\n      <td>NaN</td>\n      <td>False</td>\n      <td>T001410</td>\n      <td>1410</td>\n      <td>199444169</td>\n      <td>11.110</td>\n      <td>4506.0</td>\n      <td>0.165</td>\n      <td>0.766170</td>\n      <td>0.7320</td>\n      <td>36</td>\n      <td>36</td>\n      <td>NaN</td>\n      <td>39</td>\n      <td>972.351043</td>\n      <td>7.909333</td>\n    </tr>\n    <tr>\n      <th>20</th>\n      <td>3</td>\n      <td>4</td>\n      <td>3</td>\n      <td>spoc</td>\n      <td>509.01</td>\n      <td>2.936300</td>\n      <td>9.059882</td>\n      <td>5560.26</td>\n      <td>135.582100</td>\n      <td>948.478000</td>\n      <td>0.0</td>\n      <td>8.58000</td>\n      <td>2.769020</td>\n      <td>115.823706</td>\n      <td>2084.768611</td>\n      <td>0.055557</td>\n      <td>453211454.0</td>\n      <td>2.0</td>\n      <td>4.0</td>\n      <td>NaN</td>\n      <td>False</td>\n      <td>63935</td>\n      <td>509</td>\n      <td>453211454</td>\n      <td>8.580</td>\n      <td>5490.0</td>\n      <td>0.070</td>\n      <td>0.929936</td>\n      <td>1.0750</td>\n      <td>128</td>\n      <td>46</td>\n      <td>98.0</td>\n      <td>6</td>\n      <td>262.736688</td>\n      <td>4.797029</td>\n    </tr>\n    <tr>\n      <th>21</th>\n      <td>3</td>\n      <td>4</td>\n      <td>3</td>\n      <td>spoc</td>\n      <td>554.01</td>\n      <td>3.411592</td>\n      <td>7.048602</td>\n      <td>6337.87</td>\n      <td>416.682397</td>\n      <td>1152.314530</td>\n      <td>0.0</td>\n      <td>6.91134</td>\n      <td>1.733525</td>\n      <td>107.534784</td>\n      <td>1143.893197</td>\n      <td>0.094008</td>\n      <td>407966340.0</td>\n      <td>1.0</td>\n      <td>1.0</td>\n      <td>NaN</td>\n      <td>False</td>\n      <td>25463</td>\n      <td>554</td>\n      <td>407966340</td>\n      <td>6.910</td>\n      <td>6221.0</td>\n      <td>-0.200</td>\n      <td>1.211015</td>\n      <td>1.9400</td>\n      <td>177</td>\n      <td>69</td>\n      <td>132.0</td>\n      <td>12</td>\n      <td>56.431386</td>\n      <td>2.305276</td>\n    </tr>\n    <tr>\n      <th>22</th>\n      <td>3</td>\n      <td>4</td>\n      <td>3</td>\n      <td>spoc</td>\n      <td>669.01</td>\n      <td>3.842242</td>\n      <td>3.948678</td>\n      <td>5581.90</td>\n      <td>641.234094</td>\n      <td>1283.435066</td>\n      <td>0.0</td>\n      <td>10.60600</td>\n      <td>7.619698</td>\n      <td>66.390053</td>\n      <td>1779.239269</td>\n      <td>0.037314</td>\n      <td>124573851.0</td>\n      <td>NaN</td>\n      <td>5.0</td>\n      <td>NaN</td>\n      <td>False</td>\n      <td>T000669</td>\n      <td>669</td>\n      <td>124573851</td>\n      <td>10.610</td>\n      <td>5607.5</td>\n      <td>-0.060</td>\n      <td>0.916836</td>\n      <td>1.0170</td>\n      <td>44</td>\n      <td>44</td>\n      <td>NaN</td>\n      <td>12</td>\n      <td>852.100044</td>\n      <td>10.754261</td>\n    </tr>\n    <tr>\n      <th>23</th>\n      <td>4</td>\n      <td>3</td>\n      <td>3</td>\n      <td>spoc</td>\n      <td>1471.01</td>\n      <td>4.282738</td>\n      <td>20.772024</td>\n      <td>5625.56</td>\n      <td>81.617867</td>\n      <td>766.595136</td>\n      <td>0.0</td>\n      <td>9.20000</td>\n      <td>3.969217</td>\n      <td>102.621488</td>\n      <td>1795.974551</td>\n      <td>0.057140</td>\n      <td>306263608.0</td>\n      <td>1.0</td>\n      <td>1.0</td>\n      <td>NaN</td>\n      <td>False</td>\n      <td>12572</td>\n      <td>1471</td>\n      <td>306263608</td>\n      <td>9.200</td>\n      <td>5553.0</td>\n      <td>-0.100</td>\n      <td>0.906052</td>\n      <td>1.0750</td>\n      <td>61</td>\n      <td>26</td>\n      <td>38.0</td>\n      <td>4</td>\n      <td>465.072565</td>\n      <td>2.699125</td>\n    </tr>\n    <tr>\n      <th>24</th>\n      <td>4</td>\n      <td>4</td>\n      <td>2</td>\n      <td>spoc</td>\n      <td>1272.01</td>\n      <td>4.289363</td>\n      <td>3.315997</td>\n      <td>4972.70</td>\n      <td>217.521583</td>\n      <td>979.479471</td>\n      <td>0.0</td>\n      <td>11.75800</td>\n      <td>8.322015</td>\n      <td>78.391731</td>\n      <td>4309.758180</td>\n      <td>0.018189</td>\n      <td>417948359.0</td>\n      <td>NaN</td>\n      <td>5.0</td>\n      <td>NaN</td>\n      <td>False</td>\n      <td>T001272</td>\n      <td>1272</td>\n      <td>417948359</td>\n      <td>11.760</td>\n      <td>5013.5</td>\n      <td>0.235</td>\n      <td>0.870501</td>\n      <td>0.8015</td>\n      <td>38</td>\n      <td>38</td>\n      <td>NaN</td>\n      <td>12</td>\n      <td>1179.592391</td>\n      <td>10.359387</td>\n    </tr>\n  </tbody>\n</table>\n</div>"
     },
     "metadata": {},
     "execution_count": 48
    }
   ],
   "source": [
    "df.merge(df_jump, left_on='TIC', right_on='ticnum')"
   ]
  },
  {
   "cell_type": "code",
   "execution_count": 52,
   "metadata": {},
   "outputs": [
    {
     "output_type": "stream",
     "name": "stdout",
     "text": [
      "269701147 (aka 191939, 1339) is IN the sc3 target list df with a bin rank of: [ 2. nan nan]\n142276270 (aka T001136, 1136) is IN the sc3 target list df with a bin rank of: [nan nan  3.]\n293954617 (aka 235088, 1430) is IN the sc3 target list df with a bin rank of: [2.]\n21535395 (aka 95072, 1776) is IN the sc3 target list df with a bin rank of: [1.]\n237222864 (aka HIP97166, 1255) is IN the sc3 target list df with a bin rank of: [nan]\n306263608 (aka 12572, 1471) is IN the sc3 target list df with a bin rank of: [1.]\n453211454 (aka 63935, 509) is IN the sc3 target list df with a bin rank of: [4.]\n407966340 (aka 25463, 554) is IN the sc3 target list df with a bin rank of: [1.]\n33692729 (aka 42813, 469) is IN the sc3 target list df with a bin rank of: [3.]\n377064495 (aka T000561, 561) is IN the sc3 target list df with a bin rank of: [ 1. nan nan]\n124573851 (aka T000669, 669) is IN the sc3 target list df with a bin rank of: [5.]\n417948359 (aka T001272, 1272) is IN the sc3 target list df with a bin rank of: [5.]\n**** 408618999 (aka T001736, 1736) is NOT IN the sc3 target list df ****\n164767175 (aka HIP8152, 266) is IN the sc3 target list df with a bin rank of: [nan nan]\n408636441 (aka T001759, 1759) is IN the sc3 target list df with a bin rank of: [1.]\n352413427 (aka 6061, 1473) is IN the sc3 target list df with a bin rank of: [4.]\n199444169 (aka T001410, 1410) is IN the sc3 target list df with a bin rank of: [1.]\n232540264 (aka 135694, 1247) is IN the sc3 target list df with a bin rank of: [nan]\n**** 199376584 (aka 332231, 1456) is NOT IN the sc3 target list df ****\n441765914 (aka T002088, 2088) is IN the sc3 target list df with a bin rank of: [2.]\n"
     ]
    }
   ],
   "source": [
    "for i, tic in enumerate(df_jump['ticnum']):\n",
    "    # if tic == 352413427:\n",
    "    #     import pdb; pdb.set_trace()\n",
    "    if tic in df['TIC'].dropna().astype(int).values:\n",
    "        print(f\"{tic} (aka {df_jump.loc[i, 'Name']}, {df_jump.loc[i, 'toi']}) is IN the sc3 target list df with a bin rank of: {df[df['TIC'] == tic]['X_priority'].values}\")\n",
    "    else:\n",
    "        print(f\"**** {tic} (aka {df_jump.loc[i, 'Name']}, {df_jump.loc[i, 'toi']}) is NOT IN the sc3 target list df ****\")"
   ]
  },
  {
   "cell_type": "code",
   "execution_count": 22,
   "metadata": {},
   "outputs": [
    {
     "output_type": "execute_result",
     "data": {
      "text/plain": [
       "     radius_bin  insol_bin  st_Teff_bin Source Pipeline Full TOI ID  \\\n",
       "326           4          4            2            spoc     2022.01   \n",
       "327           4          4            2            spoc     1179.01   \n",
       "328           4          4            2             NaN  HAT-P-11 b   \n",
       "329           4          4            2            spoc      465.01   \n",
       "330           4          4            2            spoc     1694.01   \n",
       "331           4          4            2             NaN  WASP-156 b   \n",
       "332           4          4            2            spoc     1272.01   \n",
       "333           4          4            2            spoc     1472.01   \n",
       "\n",
       "     Planet Radius Value  Orbital Period Value  Effective Temperature Value  \\\n",
       "326             5.805450              0.448735                       3975.0   \n",
       "327             4.955913              1.261524                       4927.9   \n",
       "328             4.360000              4.887802                       4780.0   \n",
       "329             5.635860              3.836317                       4910.0   \n",
       "330             5.480027              3.770130                       5058.0   \n",
       "331             5.717000              3.836169                       4910.0   \n",
       "332             4.289363              3.315997                       4972.7   \n",
       "333             4.307598              6.364103                       5103.0   \n",
       "\n",
       "     Effective Stellar Flux Value  Planet Equilibrium Temperature (K) Value  \\\n",
       "326                    928.877466                               1408.021727   \n",
       "327                    708.171641                               1315.692450   \n",
       "328                    100.770000                                       NaN   \n",
       "329                    146.636007                                887.523592   \n",
       "330                    195.288170                                953.419593   \n",
       "331                    150.000000                                       NaN   \n",
       "332                    217.521583                                979.479471   \n",
       "333                    110.004112                                825.984655   \n",
       "\n",
       "     mass_flag   V mag      K_amp         TSM      t_HIRES         X  \\\n",
       "326        0.0  13.134  33.245106  245.955378   959.079201  0.256449   \n",
       "327        0.0  10.879  14.844673  209.453293   602.793636  0.347471   \n",
       "328        1.0     NaN  11.597476  192.604323          NaN       NaN   \n",
       "329        0.0  11.559  12.478885  132.982914  1595.726207  0.083337   \n",
       "330        0.0  11.446  11.926515  116.048502  1574.282901  0.073715   \n",
       "331        1.0     NaN  18.699785   92.643857          NaN       NaN   \n",
       "332        0.0  11.758   8.322015   78.391731  4309.758180  0.018189   \n",
       "333        0.0  11.302   6.590384   71.845245  4515.319481  0.015911   \n",
       "\n",
       "             TIC  TSM_Vmag_priority  X_priority  vip_rank  KP_flag  \n",
       "326   11996814.0                2.0         2.0       NaN    False  \n",
       "327  148914726.0                1.0         1.0       NaN    False  \n",
       "328          NaN                3.0         NaN       NaN     True  \n",
       "329  270380593.0                NaN         3.0       NaN    False  \n",
       "330  396740648.0                NaN         4.0       NaN    False  \n",
       "331          NaN                NaN         NaN       NaN     True  \n",
       "332  417948359.0                NaN         5.0       NaN    False  \n",
       "333  306955329.0                NaN         NaN       NaN    False  "
      ],
      "text/html": "<div>\n<style scoped>\n    .dataframe tbody tr th:only-of-type {\n        vertical-align: middle;\n    }\n\n    .dataframe tbody tr th {\n        vertical-align: top;\n    }\n\n    .dataframe thead th {\n        text-align: right;\n    }\n</style>\n<table border=\"1\" class=\"dataframe\">\n  <thead>\n    <tr style=\"text-align: right;\">\n      <th></th>\n      <th>radius_bin</th>\n      <th>insol_bin</th>\n      <th>st_Teff_bin</th>\n      <th>Source Pipeline</th>\n      <th>Full TOI ID</th>\n      <th>Planet Radius Value</th>\n      <th>Orbital Period Value</th>\n      <th>Effective Temperature Value</th>\n      <th>Effective Stellar Flux Value</th>\n      <th>Planet Equilibrium Temperature (K) Value</th>\n      <th>mass_flag</th>\n      <th>V mag</th>\n      <th>K_amp</th>\n      <th>TSM</th>\n      <th>t_HIRES</th>\n      <th>X</th>\n      <th>TIC</th>\n      <th>TSM_Vmag_priority</th>\n      <th>X_priority</th>\n      <th>vip_rank</th>\n      <th>KP_flag</th>\n    </tr>\n  </thead>\n  <tbody>\n    <tr>\n      <th>326</th>\n      <td>4</td>\n      <td>4</td>\n      <td>2</td>\n      <td>spoc</td>\n      <td>2022.01</td>\n      <td>5.805450</td>\n      <td>0.448735</td>\n      <td>3975.0</td>\n      <td>928.877466</td>\n      <td>1408.021727</td>\n      <td>0.0</td>\n      <td>13.134</td>\n      <td>33.245106</td>\n      <td>245.955378</td>\n      <td>959.079201</td>\n      <td>0.256449</td>\n      <td>11996814.0</td>\n      <td>2.0</td>\n      <td>2.0</td>\n      <td>NaN</td>\n      <td>False</td>\n    </tr>\n    <tr>\n      <th>327</th>\n      <td>4</td>\n      <td>4</td>\n      <td>2</td>\n      <td>spoc</td>\n      <td>1179.01</td>\n      <td>4.955913</td>\n      <td>1.261524</td>\n      <td>4927.9</td>\n      <td>708.171641</td>\n      <td>1315.692450</td>\n      <td>0.0</td>\n      <td>10.879</td>\n      <td>14.844673</td>\n      <td>209.453293</td>\n      <td>602.793636</td>\n      <td>0.347471</td>\n      <td>148914726.0</td>\n      <td>1.0</td>\n      <td>1.0</td>\n      <td>NaN</td>\n      <td>False</td>\n    </tr>\n    <tr>\n      <th>328</th>\n      <td>4</td>\n      <td>4</td>\n      <td>2</td>\n      <td>NaN</td>\n      <td>HAT-P-11 b</td>\n      <td>4.360000</td>\n      <td>4.887802</td>\n      <td>4780.0</td>\n      <td>100.770000</td>\n      <td>NaN</td>\n      <td>1.0</td>\n      <td>NaN</td>\n      <td>11.597476</td>\n      <td>192.604323</td>\n      <td>NaN</td>\n      <td>NaN</td>\n      <td>NaN</td>\n      <td>3.0</td>\n      <td>NaN</td>\n      <td>NaN</td>\n      <td>True</td>\n    </tr>\n    <tr>\n      <th>329</th>\n      <td>4</td>\n      <td>4</td>\n      <td>2</td>\n      <td>spoc</td>\n      <td>465.01</td>\n      <td>5.635860</td>\n      <td>3.836317</td>\n      <td>4910.0</td>\n      <td>146.636007</td>\n      <td>887.523592</td>\n      <td>0.0</td>\n      <td>11.559</td>\n      <td>12.478885</td>\n      <td>132.982914</td>\n      <td>1595.726207</td>\n      <td>0.083337</td>\n      <td>270380593.0</td>\n      <td>NaN</td>\n      <td>3.0</td>\n      <td>NaN</td>\n      <td>False</td>\n    </tr>\n    <tr>\n      <th>330</th>\n      <td>4</td>\n      <td>4</td>\n      <td>2</td>\n      <td>spoc</td>\n      <td>1694.01</td>\n      <td>5.480027</td>\n      <td>3.770130</td>\n      <td>5058.0</td>\n      <td>195.288170</td>\n      <td>953.419593</td>\n      <td>0.0</td>\n      <td>11.446</td>\n      <td>11.926515</td>\n      <td>116.048502</td>\n      <td>1574.282901</td>\n      <td>0.073715</td>\n      <td>396740648.0</td>\n      <td>NaN</td>\n      <td>4.0</td>\n      <td>NaN</td>\n      <td>False</td>\n    </tr>\n    <tr>\n      <th>331</th>\n      <td>4</td>\n      <td>4</td>\n      <td>2</td>\n      <td>NaN</td>\n      <td>WASP-156 b</td>\n      <td>5.717000</td>\n      <td>3.836169</td>\n      <td>4910.0</td>\n      <td>150.000000</td>\n      <td>NaN</td>\n      <td>1.0</td>\n      <td>NaN</td>\n      <td>18.699785</td>\n      <td>92.643857</td>\n      <td>NaN</td>\n      <td>NaN</td>\n      <td>NaN</td>\n      <td>NaN</td>\n      <td>NaN</td>\n      <td>NaN</td>\n      <td>True</td>\n    </tr>\n    <tr>\n      <th>332</th>\n      <td>4</td>\n      <td>4</td>\n      <td>2</td>\n      <td>spoc</td>\n      <td>1272.01</td>\n      <td>4.289363</td>\n      <td>3.315997</td>\n      <td>4972.7</td>\n      <td>217.521583</td>\n      <td>979.479471</td>\n      <td>0.0</td>\n      <td>11.758</td>\n      <td>8.322015</td>\n      <td>78.391731</td>\n      <td>4309.758180</td>\n      <td>0.018189</td>\n      <td>417948359.0</td>\n      <td>NaN</td>\n      <td>5.0</td>\n      <td>NaN</td>\n      <td>False</td>\n    </tr>\n    <tr>\n      <th>333</th>\n      <td>4</td>\n      <td>4</td>\n      <td>2</td>\n      <td>spoc</td>\n      <td>1472.01</td>\n      <td>4.307598</td>\n      <td>6.364103</td>\n      <td>5103.0</td>\n      <td>110.004112</td>\n      <td>825.984655</td>\n      <td>0.0</td>\n      <td>11.302</td>\n      <td>6.590384</td>\n      <td>71.845245</td>\n      <td>4515.319481</td>\n      <td>0.015911</td>\n      <td>306955329.0</td>\n      <td>NaN</td>\n      <td>NaN</td>\n      <td>NaN</td>\n      <td>False</td>\n    </tr>\n  </tbody>\n</table>\n</div>"
     },
     "metadata": {},
     "execution_count": 22
    }
   ],
   "source": [
    "df[(df['radius_bin'] == 4) & (df['insol_bin'] == 4) & (df['st_Teff_bin'] == 2)]"
   ]
  },
  {
   "cell_type": "code",
   "execution_count": 28,
   "metadata": {},
   "outputs": [],
   "source": [
    "def create_3d_scatter(df):\n",
    "    fig = px.scatter_3d(\n",
    "        df, \n",
    "        x='Effective Temperature Value', \n",
    "        y='Planet Radius Value', \n",
    "        log_y=True,\n",
    "        z='Effective Stellar Flux Value', \n",
    "        log_z=True,\n",
    "        color='TSM',\n",
    "        symbol='KP_flag', \n",
    "        size='Planet Radius Value', \n",
    "        size_max=30, opacity=0.7, \n",
    "        range_y=[1, 10], range_z=[0.1, 1e4], range_color=[0,200], \n",
    "        labels={'Effective Temperature Value':\"Teff [K]\", 'Orbital Period Value':'Orbital period [d]', 'TSM':'TSM', 'Effective Stellar Flux Value':'Instellation flux [x Earth]', 'X_priority':'Bin rank', \"Planet Radius Value\":\"Planet radius [Re]\", 'KP_flag':\"Confirmed planet?\"}, \n",
    "        custom_data=['Full TOI ID', 'Planet Radius Value', 'Orbital Period Value', 'Effective Temperature Value', 'Effective Stellar Flux Value', 'TSM', 'X_priority', 'V mag'])\n",
    "\n",
    "    # Update the grid lines to reflect the binning used.\n",
    "    teff_bins = [2500,3900,5200,6500]\n",
    "    insol_bins = 10**(np.linspace(-1,4,6))\n",
    "    radius_bins = 10**(np.linspace(0,1,6))\n",
    "    radius_bins[-1] = 11.2 # Upper limit is R_jup in units of R_earth\n",
    "\n",
    "    fig.update_layout(\n",
    "        margin = dict(l=0, r=0, b=0, t=0), \n",
    "        scene = dict(\n",
    "            xaxis = dict(tickvals = teff_bins),\n",
    "            yaxis = dict(tickvals = radius_bins),\n",
    "            zaxis = dict(tickvals = insol_bins)\n",
    "        )\n",
    "    )\n",
    "\n",
    "    # Information to display when you hover over a point.\n",
    "    fig.update_traces(\n",
    "        hovertemplate=\"<br>\".join([\n",
    "            \"Name: %{customdata[0]}\",\n",
    "            \"Bin rank: %{customdata[6]}\",\n",
    "            \"Rp: %{customdata[1]:.2f} Re\",\n",
    "            \"Teff: %{customdata[3]:.0f} K\",\n",
    "            \"Sinc: %{customdata[4]:.0f} Se\",\n",
    "            \"P: %{customdata[2]:.1f} d\",\n",
    "            \"TSM: %{customdata[5]:.0f}\",\n",
    "            \"V mag: %{customdata[7]:.1f}\"\n",
    "        ])\n",
    "    )\n",
    "\n",
    "    # Move colorbar to left side\n",
    "    fig.update_layout(coloraxis_colorbar=dict(yanchor=\"top\", y=1, x=0,\n",
    "                                            ticks=\"outside\"))\n",
    "\n",
    "    return fig"
   ]
  },
  {
   "cell_type": "code",
   "execution_count": 31,
   "metadata": {},
   "outputs": [
    {
     "output_type": "display_data",
     "data": {
      "application/vnd.plotly.v1+json": {
       "config": {
        "plotlyServerURL": "https://plot.ly"
       },
       "data": [
        {
         "customdata": [
          [
           "2022.01",
           5.80545,
           0.4487350000000001,
           3975,
           928.877466,
           245.95537781804632,
           2,
           13.134
          ],
          [
           "1179.01",
           4.955913,
           1.261524,
           4927.9,
           708.171641,
           209.45329328948392,
           1,
           10.879000000000001
          ],
          [
           "465.01",
           5.63586,
           3.836317,
           4910,
           146.636007,
           132.98291434892272,
           3,
           11.559000000000001
          ],
          [
           "1694.01",
           5.480027,
           3.77013,
           5058,
           195.28817,
           116.04850176639215,
           4,
           11.446
          ],
          [
           "1272.01",
           4.289363,
           3.3159970000000003,
           4972.7,
           217.521583,
           78.39173117043164,
           5,
           11.758
          ],
          [
           "1472.01",
           4.3075980000000005,
           6.364103,
           5103,
           110.004112,
           71.84524527554501,
           null,
           11.302
          ]
         ],
         "hovertemplate": "Name: %{customdata[0]}<br>Bin rank: %{customdata[6]}<br>Rp: %{customdata[1]:.2f} Re<br>Teff: %{customdata[3]:.0f} K<br>Sinc: %{customdata[4]:.0f} Se<br>P: %{customdata[2]:.1f} d<br>TSM: %{customdata[5]:.0f}<br>V mag: %{customdata[7]:.1f}",
         "legendgroup": "False",
         "marker": {
          "color": [
           245.95537781804632,
           209.45329328948392,
           132.98291434892272,
           116.04850176639215,
           78.39173117043164,
           71.84524527554501
          ],
          "coloraxis": "coloraxis",
          "opacity": 0.7,
          "size": [
           5.80545,
           4.955913,
           5.63586,
           5.480027,
           4.289363,
           4.3075980000000005
          ],
          "sizemode": "area",
          "sizeref": 0.0064505000000000005,
          "symbol": "circle"
         },
         "mode": "markers",
         "name": "False",
         "scene": "scene",
         "showlegend": true,
         "type": "scatter3d",
         "x": [
          3975,
          4927.9,
          4910,
          5058,
          4972.7,
          5103
         ],
         "y": [
          5.80545,
          4.955913,
          5.63586,
          5.480027,
          4.289363,
          4.3075980000000005
         ],
         "z": [
          928.877466,
          708.171641,
          146.636007,
          195.28817,
          217.521583,
          110.004112
         ]
        },
        {
         "customdata": [
          [
           "HAT-P-11 b",
           4.36,
           4.88780244,
           4780,
           100.77,
           192.60432348577743,
           null,
           null
          ],
          [
           "WASP-156 b",
           5.7170000000000005,
           3.836169,
           4910,
           150,
           92.64385668003428,
           null,
           null
          ]
         ],
         "hovertemplate": "Name: %{customdata[0]}<br>Bin rank: %{customdata[6]}<br>Rp: %{customdata[1]:.2f} Re<br>Teff: %{customdata[3]:.0f} K<br>Sinc: %{customdata[4]:.0f} Se<br>P: %{customdata[2]:.1f} d<br>TSM: %{customdata[5]:.0f}<br>V mag: %{customdata[7]:.1f}",
         "legendgroup": "True",
         "marker": {
          "color": [
           192.60432348577743,
           92.64385668003428
          ],
          "coloraxis": "coloraxis",
          "opacity": 0.7,
          "size": [
           4.36,
           5.7170000000000005
          ],
          "sizemode": "area",
          "sizeref": 0.0064505000000000005,
          "symbol": "diamond"
         },
         "mode": "markers",
         "name": "True",
         "scene": "scene",
         "showlegend": true,
         "type": "scatter3d",
         "x": [
          4780,
          4910
         ],
         "y": [
          4.36,
          5.7170000000000005
         ],
         "z": [
          100.77,
          150
         ]
        }
       ],
       "layout": {
        "coloraxis": {
         "cmax": 200,
         "cmin": 0,
         "colorbar": {
          "ticks": "outside",
          "title": {
           "text": "TSM"
          },
          "x": 0,
          "y": 1,
          "yanchor": "top"
         },
         "colorscale": [
          [
           0,
           "#0d0887"
          ],
          [
           0.1111111111111111,
           "#46039f"
          ],
          [
           0.2222222222222222,
           "#7201a8"
          ],
          [
           0.3333333333333333,
           "#9c179e"
          ],
          [
           0.4444444444444444,
           "#bd3786"
          ],
          [
           0.5555555555555556,
           "#d8576b"
          ],
          [
           0.6666666666666666,
           "#ed7953"
          ],
          [
           0.7777777777777778,
           "#fb9f3a"
          ],
          [
           0.8888888888888888,
           "#fdca26"
          ],
          [
           1,
           "#f0f921"
          ]
         ]
        },
        "legend": {
         "itemsizing": "constant",
         "title": {
          "text": "Confirmed planet?"
         },
         "tracegroupgap": 0
        },
        "margin": {
         "b": 0,
         "l": 0,
         "r": 0,
         "t": 0
        },
        "scene": {
         "domain": {
          "x": [
           0,
           1
          ],
          "y": [
           0,
           1
          ]
         },
         "xaxis": {
          "tickvals": [
           2500,
           3900,
           5200,
           6500
          ],
          "title": {
           "text": "Teff [K]"
          }
         },
         "yaxis": {
          "range": [
           0,
           1
          ],
          "tickvals": [
           1,
           1.5848931924611136,
           2.51188643150958,
           3.981071705534973,
           6.309573444801933,
           11.2
          ],
          "title": {
           "text": "Planet radius [Re]"
          },
          "type": "log"
         },
         "zaxis": {
          "range": [
           -0.9999999999999998,
           4
          ],
          "tickvals": [
           0.1,
           1,
           10,
           100,
           1000,
           10000
          ],
          "title": {
           "text": "Instellation flux [x Earth]"
          },
          "type": "log"
         }
        },
        "template": {
         "data": {
          "bar": [
           {
            "error_x": {
             "color": "#2a3f5f"
            },
            "error_y": {
             "color": "#2a3f5f"
            },
            "marker": {
             "line": {
              "color": "#E5ECF6",
              "width": 0.5
             }
            },
            "type": "bar"
           }
          ],
          "barpolar": [
           {
            "marker": {
             "line": {
              "color": "#E5ECF6",
              "width": 0.5
             }
            },
            "type": "barpolar"
           }
          ],
          "carpet": [
           {
            "aaxis": {
             "endlinecolor": "#2a3f5f",
             "gridcolor": "white",
             "linecolor": "white",
             "minorgridcolor": "white",
             "startlinecolor": "#2a3f5f"
            },
            "baxis": {
             "endlinecolor": "#2a3f5f",
             "gridcolor": "white",
             "linecolor": "white",
             "minorgridcolor": "white",
             "startlinecolor": "#2a3f5f"
            },
            "type": "carpet"
           }
          ],
          "choropleth": [
           {
            "colorbar": {
             "outlinewidth": 0,
             "ticks": ""
            },
            "type": "choropleth"
           }
          ],
          "contour": [
           {
            "colorbar": {
             "outlinewidth": 0,
             "ticks": ""
            },
            "colorscale": [
             [
              0,
              "#0d0887"
             ],
             [
              0.1111111111111111,
              "#46039f"
             ],
             [
              0.2222222222222222,
              "#7201a8"
             ],
             [
              0.3333333333333333,
              "#9c179e"
             ],
             [
              0.4444444444444444,
              "#bd3786"
             ],
             [
              0.5555555555555556,
              "#d8576b"
             ],
             [
              0.6666666666666666,
              "#ed7953"
             ],
             [
              0.7777777777777778,
              "#fb9f3a"
             ],
             [
              0.8888888888888888,
              "#fdca26"
             ],
             [
              1,
              "#f0f921"
             ]
            ],
            "type": "contour"
           }
          ],
          "contourcarpet": [
           {
            "colorbar": {
             "outlinewidth": 0,
             "ticks": ""
            },
            "type": "contourcarpet"
           }
          ],
          "heatmap": [
           {
            "colorbar": {
             "outlinewidth": 0,
             "ticks": ""
            },
            "colorscale": [
             [
              0,
              "#0d0887"
             ],
             [
              0.1111111111111111,
              "#46039f"
             ],
             [
              0.2222222222222222,
              "#7201a8"
             ],
             [
              0.3333333333333333,
              "#9c179e"
             ],
             [
              0.4444444444444444,
              "#bd3786"
             ],
             [
              0.5555555555555556,
              "#d8576b"
             ],
             [
              0.6666666666666666,
              "#ed7953"
             ],
             [
              0.7777777777777778,
              "#fb9f3a"
             ],
             [
              0.8888888888888888,
              "#fdca26"
             ],
             [
              1,
              "#f0f921"
             ]
            ],
            "type": "heatmap"
           }
          ],
          "heatmapgl": [
           {
            "colorbar": {
             "outlinewidth": 0,
             "ticks": ""
            },
            "colorscale": [
             [
              0,
              "#0d0887"
             ],
             [
              0.1111111111111111,
              "#46039f"
             ],
             [
              0.2222222222222222,
              "#7201a8"
             ],
             [
              0.3333333333333333,
              "#9c179e"
             ],
             [
              0.4444444444444444,
              "#bd3786"
             ],
             [
              0.5555555555555556,
              "#d8576b"
             ],
             [
              0.6666666666666666,
              "#ed7953"
             ],
             [
              0.7777777777777778,
              "#fb9f3a"
             ],
             [
              0.8888888888888888,
              "#fdca26"
             ],
             [
              1,
              "#f0f921"
             ]
            ],
            "type": "heatmapgl"
           }
          ],
          "histogram": [
           {
            "marker": {
             "colorbar": {
              "outlinewidth": 0,
              "ticks": ""
             }
            },
            "type": "histogram"
           }
          ],
          "histogram2d": [
           {
            "colorbar": {
             "outlinewidth": 0,
             "ticks": ""
            },
            "colorscale": [
             [
              0,
              "#0d0887"
             ],
             [
              0.1111111111111111,
              "#46039f"
             ],
             [
              0.2222222222222222,
              "#7201a8"
             ],
             [
              0.3333333333333333,
              "#9c179e"
             ],
             [
              0.4444444444444444,
              "#bd3786"
             ],
             [
              0.5555555555555556,
              "#d8576b"
             ],
             [
              0.6666666666666666,
              "#ed7953"
             ],
             [
              0.7777777777777778,
              "#fb9f3a"
             ],
             [
              0.8888888888888888,
              "#fdca26"
             ],
             [
              1,
              "#f0f921"
             ]
            ],
            "type": "histogram2d"
           }
          ],
          "histogram2dcontour": [
           {
            "colorbar": {
             "outlinewidth": 0,
             "ticks": ""
            },
            "colorscale": [
             [
              0,
              "#0d0887"
             ],
             [
              0.1111111111111111,
              "#46039f"
             ],
             [
              0.2222222222222222,
              "#7201a8"
             ],
             [
              0.3333333333333333,
              "#9c179e"
             ],
             [
              0.4444444444444444,
              "#bd3786"
             ],
             [
              0.5555555555555556,
              "#d8576b"
             ],
             [
              0.6666666666666666,
              "#ed7953"
             ],
             [
              0.7777777777777778,
              "#fb9f3a"
             ],
             [
              0.8888888888888888,
              "#fdca26"
             ],
             [
              1,
              "#f0f921"
             ]
            ],
            "type": "histogram2dcontour"
           }
          ],
          "mesh3d": [
           {
            "colorbar": {
             "outlinewidth": 0,
             "ticks": ""
            },
            "type": "mesh3d"
           }
          ],
          "parcoords": [
           {
            "line": {
             "colorbar": {
              "outlinewidth": 0,
              "ticks": ""
             }
            },
            "type": "parcoords"
           }
          ],
          "pie": [
           {
            "automargin": true,
            "type": "pie"
           }
          ],
          "scatter": [
           {
            "marker": {
             "colorbar": {
              "outlinewidth": 0,
              "ticks": ""
             }
            },
            "type": "scatter"
           }
          ],
          "scatter3d": [
           {
            "line": {
             "colorbar": {
              "outlinewidth": 0,
              "ticks": ""
             }
            },
            "marker": {
             "colorbar": {
              "outlinewidth": 0,
              "ticks": ""
             }
            },
            "type": "scatter3d"
           }
          ],
          "scattercarpet": [
           {
            "marker": {
             "colorbar": {
              "outlinewidth": 0,
              "ticks": ""
             }
            },
            "type": "scattercarpet"
           }
          ],
          "scattergeo": [
           {
            "marker": {
             "colorbar": {
              "outlinewidth": 0,
              "ticks": ""
             }
            },
            "type": "scattergeo"
           }
          ],
          "scattergl": [
           {
            "marker": {
             "colorbar": {
              "outlinewidth": 0,
              "ticks": ""
             }
            },
            "type": "scattergl"
           }
          ],
          "scattermapbox": [
           {
            "marker": {
             "colorbar": {
              "outlinewidth": 0,
              "ticks": ""
             }
            },
            "type": "scattermapbox"
           }
          ],
          "scatterpolar": [
           {
            "marker": {
             "colorbar": {
              "outlinewidth": 0,
              "ticks": ""
             }
            },
            "type": "scatterpolar"
           }
          ],
          "scatterpolargl": [
           {
            "marker": {
             "colorbar": {
              "outlinewidth": 0,
              "ticks": ""
             }
            },
            "type": "scatterpolargl"
           }
          ],
          "scatterternary": [
           {
            "marker": {
             "colorbar": {
              "outlinewidth": 0,
              "ticks": ""
             }
            },
            "type": "scatterternary"
           }
          ],
          "surface": [
           {
            "colorbar": {
             "outlinewidth": 0,
             "ticks": ""
            },
            "colorscale": [
             [
              0,
              "#0d0887"
             ],
             [
              0.1111111111111111,
              "#46039f"
             ],
             [
              0.2222222222222222,
              "#7201a8"
             ],
             [
              0.3333333333333333,
              "#9c179e"
             ],
             [
              0.4444444444444444,
              "#bd3786"
             ],
             [
              0.5555555555555556,
              "#d8576b"
             ],
             [
              0.6666666666666666,
              "#ed7953"
             ],
             [
              0.7777777777777778,
              "#fb9f3a"
             ],
             [
              0.8888888888888888,
              "#fdca26"
             ],
             [
              1,
              "#f0f921"
             ]
            ],
            "type": "surface"
           }
          ],
          "table": [
           {
            "cells": {
             "fill": {
              "color": "#EBF0F8"
             },
             "line": {
              "color": "white"
             }
            },
            "header": {
             "fill": {
              "color": "#C8D4E3"
             },
             "line": {
              "color": "white"
             }
            },
            "type": "table"
           }
          ]
         },
         "layout": {
          "annotationdefaults": {
           "arrowcolor": "#2a3f5f",
           "arrowhead": 0,
           "arrowwidth": 1
          },
          "autotypenumbers": "strict",
          "coloraxis": {
           "colorbar": {
            "outlinewidth": 0,
            "ticks": ""
           }
          },
          "colorscale": {
           "diverging": [
            [
             0,
             "#8e0152"
            ],
            [
             0.1,
             "#c51b7d"
            ],
            [
             0.2,
             "#de77ae"
            ],
            [
             0.3,
             "#f1b6da"
            ],
            [
             0.4,
             "#fde0ef"
            ],
            [
             0.5,
             "#f7f7f7"
            ],
            [
             0.6,
             "#e6f5d0"
            ],
            [
             0.7,
             "#b8e186"
            ],
            [
             0.8,
             "#7fbc41"
            ],
            [
             0.9,
             "#4d9221"
            ],
            [
             1,
             "#276419"
            ]
           ],
           "sequential": [
            [
             0,
             "#0d0887"
            ],
            [
             0.1111111111111111,
             "#46039f"
            ],
            [
             0.2222222222222222,
             "#7201a8"
            ],
            [
             0.3333333333333333,
             "#9c179e"
            ],
            [
             0.4444444444444444,
             "#bd3786"
            ],
            [
             0.5555555555555556,
             "#d8576b"
            ],
            [
             0.6666666666666666,
             "#ed7953"
            ],
            [
             0.7777777777777778,
             "#fb9f3a"
            ],
            [
             0.8888888888888888,
             "#fdca26"
            ],
            [
             1,
             "#f0f921"
            ]
           ],
           "sequentialminus": [
            [
             0,
             "#0d0887"
            ],
            [
             0.1111111111111111,
             "#46039f"
            ],
            [
             0.2222222222222222,
             "#7201a8"
            ],
            [
             0.3333333333333333,
             "#9c179e"
            ],
            [
             0.4444444444444444,
             "#bd3786"
            ],
            [
             0.5555555555555556,
             "#d8576b"
            ],
            [
             0.6666666666666666,
             "#ed7953"
            ],
            [
             0.7777777777777778,
             "#fb9f3a"
            ],
            [
             0.8888888888888888,
             "#fdca26"
            ],
            [
             1,
             "#f0f921"
            ]
           ]
          },
          "colorway": [
           "#636efa",
           "#EF553B",
           "#00cc96",
           "#ab63fa",
           "#FFA15A",
           "#19d3f3",
           "#FF6692",
           "#B6E880",
           "#FF97FF",
           "#FECB52"
          ],
          "font": {
           "color": "#2a3f5f"
          },
          "geo": {
           "bgcolor": "white",
           "lakecolor": "white",
           "landcolor": "#E5ECF6",
           "showlakes": true,
           "showland": true,
           "subunitcolor": "white"
          },
          "hoverlabel": {
           "align": "left"
          },
          "hovermode": "closest",
          "mapbox": {
           "style": "light"
          },
          "paper_bgcolor": "white",
          "plot_bgcolor": "#E5ECF6",
          "polar": {
           "angularaxis": {
            "gridcolor": "white",
            "linecolor": "white",
            "ticks": ""
           },
           "bgcolor": "#E5ECF6",
           "radialaxis": {
            "gridcolor": "white",
            "linecolor": "white",
            "ticks": ""
           }
          },
          "scene": {
           "xaxis": {
            "backgroundcolor": "#E5ECF6",
            "gridcolor": "white",
            "gridwidth": 2,
            "linecolor": "white",
            "showbackground": true,
            "ticks": "",
            "zerolinecolor": "white"
           },
           "yaxis": {
            "backgroundcolor": "#E5ECF6",
            "gridcolor": "white",
            "gridwidth": 2,
            "linecolor": "white",
            "showbackground": true,
            "ticks": "",
            "zerolinecolor": "white"
           },
           "zaxis": {
            "backgroundcolor": "#E5ECF6",
            "gridcolor": "white",
            "gridwidth": 2,
            "linecolor": "white",
            "showbackground": true,
            "ticks": "",
            "zerolinecolor": "white"
           }
          },
          "shapedefaults": {
           "line": {
            "color": "#2a3f5f"
           }
          },
          "ternary": {
           "aaxis": {
            "gridcolor": "white",
            "linecolor": "white",
            "ticks": ""
           },
           "baxis": {
            "gridcolor": "white",
            "linecolor": "white",
            "ticks": ""
           },
           "bgcolor": "#E5ECF6",
           "caxis": {
            "gridcolor": "white",
            "linecolor": "white",
            "ticks": ""
           }
          },
          "title": {
           "x": 0.05
          },
          "xaxis": {
           "automargin": true,
           "gridcolor": "white",
           "linecolor": "white",
           "ticks": "",
           "title": {
            "standoff": 15
           },
           "zerolinecolor": "white",
           "zerolinewidth": 2
          },
          "yaxis": {
           "automargin": true,
           "gridcolor": "white",
           "linecolor": "white",
           "ticks": "",
           "title": {
            "standoff": 15
           },
           "zerolinecolor": "white",
           "zerolinewidth": 2
          }
         }
        }
       }
      }
     },
     "metadata": {}
    }
   ],
   "source": [
    "create_3d_scatter(df[(df['radius_bin'] == 4) & (df['insol_bin'] == 4) & (df['st_Teff_bin'] == 2)])"
   ]
  },
  {
   "cell_type": "code",
   "execution_count": 55,
   "metadata": {},
   "outputs": [
    {
     "output_type": "execute_result",
     "data": {
      "text/plain": [
       "   1.733525  107.534784    1143.893197   0.094008   \n",
       "173        0.0  10.777000   4.061885  138.157405    7329.167795   0.018850   \n",
       "377        0.0   8.580000   2.769020  115.823706    2084.768611   0.055557   \n",
       "629        0.0  10.594000  29.112880  218.948821     120.542334   1.816365   \n",
       "379        0.0   7.280000   1.717727   97.142072    1636.068455   0.059375   \n",
       "316        0.0   9.490000   3.216821  104.239872    3571.544191   0.029186   \n",
       "468        0.0  11.559000  12.478885  132.982914    1595.726207   0.083337   \n",
       "6          0.0  10.590000   2.245208   43.269585   20192.802397   0.002143   \n",
       "547        0.0   9.931000   8.544846  117.365892     759.803778   0.154469   \n",
       "627        0.0  10.329000  42.910122  329.155292      43.470079   7.571997   \n",
       "282        0.0   9.510000   2.603890  111.239776    5552.194810   0.020035   \n",
       "176        0.0  11.272000   3.474546   65.665178   15802.065228   0.004155   \n",
       "99         0.0  11.106000   0.598936   10.121925  456403.307700   0.000022   \n",
       "458        0.0   9.595000   3.236214   33.719956    3887.187482   0.008675   \n",
       "267        0.0  10.221000   0.935269   13.308595   82839.317536   0.000161   \n",
       "45         0.0  12.635000   3.648136   10.946558   50299.977261   0.000218   \n",
       "611        0.0   8.950000  13.362461   40.409836     125.874285   0.321033   \n",
       "178        0.0  11.256000   2.930167   56.881396   21894.006628   0.002598   \n",
       "98         0.0   9.560000   0.468845   18.016295  179329.212912   0.000100   \n",
       "236        0.0   9.706000   2.615389   59.584813    6592.306842   0.009039   \n",
       "423        0.0  11.076000   1.951906   23.214913   41801.507934   0.000555   \n",
       "70         0.0  10.635000   0.916692    4.951299  126259.266162   0.000039   \n",
       "319        0.0   9.460000   3.077064   85.211152    3796.967592   0.022442   \n",
       "278        0.0   8.933000   3.641828  187.354569    1668.288031   0.112303   \n",
       "147        0.0   7.221420   1.151633   89.430432    3448.654574   0.025932   \n",
       "529        0.0  12.597000  34.954847  183.809854     529.048054   0.347435   \n",
       "446        0.0  10.237000   5.107956   99.558685    2818.484434   0.035323   \n",
       "231        0.0   9.830000   4.045549  107.648399    3088.552264   0.034854   \n",
       "501        0.0  10.520000  18.417525  249.303683     281.350296   0.886097   \n",
       "38         0.0  10.838000   1.241341   34.405105   83009.450254   0.000414   \n",
       "52         0.0  10.838000   1.232567    5.404479   84195.464552   0.000064   \n",
       "440        0.0  12.224000   5.357295   48.827771   15974.187685   0.003057   \n",
       "95         0.0  11.925000   1.140400   18.774181  267667.371610   0.000070   \n",
       "97         0.0   8.740000   0.538196   19.790744   63948.248680   0.000309   \n",
       "266        0.0  12.281000   2.085348   21.822690  111109.887407   0.000196   \n",
       "258        0.0  11.638000   1.867851   21.140684   76599.431247   0.000276   \n",
       "259        0.0  12.346000   1.778981   20.447043  162094.126258   0.000126   \n",
       "422        0.0   9.139000   3.752301  133.052632    1899.828919   0.070034   \n",
       "281        0.0   9.139000   2.822917  130.677215    3356.708744   0.038930   \n",
       "265        0.0   9.996000   1.426892   23.887670   28928.608901   0.000826   \n",
       "59         0.0   8.710000   0.467460    9.041010   82455.595492   0.000110   \n",
       "626        0.0   8.150000  20.070908  365.931633      26.703974  13.703265   \n",
       "129        0.0   9.366000   1.112596   67.299259   26633.905076   0.002527   \n",
       "485        0.0  10.263000   8.049490   43.569094    1162.447181   0.037480   \n",
       "280        0.0  10.250000   3.163873  133.621913    7434.843400   0.017972   \n",
       "367        0.0  11.162000   4.706687   75.113315    7781.785306   0.009652   \n",
       "555        0.0  12.367000  16.857347   53.006938    1840.481506   0.028801   \n",
       "68         0.0   8.400000   1.621998   16.249996    5147.655129   0.003157   \n",
       "550        0.0  10.330000  10.716603   70.119345     697.582654   0.100518   \n",
       "566        0.0  12.665000  42.801766  234.117679     375.652725   0.623229   \n",
       "196        0.0  10.900000   3.982379   74.376989    8539.347865   0.008710   \n",
       "633        0.0   9.200000  15.932086  108.590538     111.471711   0.974153   \n",
       "192        0.0   8.419000   2.335822  162.326418    2525.982886   0.064263   \n",
       "17         0.0  11.390000   2.877133   44.558044   25691.537617   0.001734   \n",
       "60         0.0  10.000000   2.842960  116.774705    7314.226686   0.015965   \n",
       "439        0.0  11.871000   4.891033   55.870286   13845.502044   0.004035   \n",
       "83         0.0  11.580000   1.866617   58.377628   72710.924042   0.000803   \n",
       "64         0.0  11.361000   2.017684    6.905486   50863.193692   0.000136   \n",
       "376        0.0   9.182000   4.132586  118.413673    1629.544420   0.072667   \n",
       "268        0.0  10.670000  11.360833  747.838361     848.964651   0.880883   \n",
       "506        0.0  10.501000  12.674947  118.465975     583.737558   0.202944   \n",
       "234        0.0   9.919000   3.470055   89.720537    4556.561046   0.019690   \n",
       "571        0.0  12.970000  48.740072  155.860967     383.652105   0.406256   \n",
       "150        0.0   9.310000   1.526267   52.432466   13441.533732   0.003901   \n",
       "58         0.0   8.260000   1.146325   12.253961    9059.295448   0.001353   \n",
       "545        0.0  11.648000  15.864991  122.323122    1071.593947   0.114151   \n",
       "318        0.0   8.250000   1.920874   86.385377    3196.775933   0.027023   \n",
       "230        0.0   5.950840   2.999766  455.239540     157.714324   2.886482   \n",
       "255        0.0  11.930000   3.623383   82.486050   26636.765809   0.003097   \n",
       "50         0.0  11.469000   1.950158   36.603364   60140.956611   0.000609   \n",
       "53         0.0  11.546000   1.355255    4.827387  133680.409149   0.000036   \n",
       "151        0.0   8.863000   1.417980   45.118543   10317.388657   0.004373   \n",
       "39         0.0  11.794000   0.830370    3.470550  447472.566299   0.000008   \n",
       "32         0.0  12.230000   2.026155    9.243456  112296.112599   0.000082   \n",
       "101        0.0  12.230000   3.149984   79.047707   46461.508328   0.001701   \n",
       "434        0.0  12.390000  11.653890  134.915225    3933.399732   0.034300   \n",
       "313        0.0   6.920350   1.734137  193.511870    1152.612474   0.167890   \n",
       "191        0.0   6.920350   1.758848  212.598959    1120.452145   0.189744   \n",
       "473        0.0   8.960000   5.858789  174.407928     660.836705   0.263920   \n",
       "499        0.0  11.436000  16.906352  156.077598     776.265170   0.201062   \n",
       "469        0.0  11.446000  11.926515  116.048502    1574.282901   0.073715   \n",
       "193        0.0   6.995640   1.529912  123.549297    1587.205798   0.077841   \n",
       "175        0.0  10.970000   3.589482   89.969432   11211.049584   0.008025   \n",
       "418        0.0  10.970000   5.910641   86.459725    4134.668844   0.020911   \n",
       "548        0.0   9.889000   3.434325   85.823370    4525.088909   0.018966   \n",
       "149        0.0   9.624000   1.810934   63.671541   12749.832853   0.004994   \n",
       "504        0.0   9.920000   9.659885  172.869782     588.526450   0.293733   \n",
       "124        0.0   8.370000   1.766216  119.593367    4223.012499   0.028319   \n",
       "419        0.0  10.990000   3.266454   36.332828   13789.763644   0.002635   \n",
       "417        0.0   9.145001   7.595654  103.360934     466.208221   0.221706   \n",
       "482        0.0  10.337000   7.423242   60.987453    1463.264096   0.041679   \n",
       "450        0.0  12.020000   9.287745   66.961811    4404.426174   0.015203   \n",
       "194        0.0   8.844000   2.362245   97.258434    3653.087060   0.026624   \n",
       "445        0.0   9.200000   3.969217  102.621488    1795.974551   0.057140   \n",
       "37         0.0   5.569110   0.872497   41.919206    1311.673520   0.031959   \n",
       "49         0.0   5.569110   0.985338   51.581412    1028.451102   0.050154   \n",
       "26         0.0  12.500000   2.797071   14.536522   75561.907357   0.000192   \n",
       "75         0.0  12.500000   3.097830   88.323028   61601.990473   0.001434   \n",
       "104        0.0  12.293000   2.277148   61.002188   94216.598676   0.000647   \n",
       "67         0.0   6.479150   0.937878   16.638351    2624.684255   0.006339   \n",
       "69         0.0  10.936000   1.979602    6.727395   35723.499293   0.000188   \n",
       "229        0.0  12.006000   2.736772   45.030156   50076.361586   0.000899   \n",
       "63         0.0  10.631000   1.317690    7.041841   60881.198281   0.000116   \n",
       "148        0.0   8.780000   1.029344   71.529613   18137.981165   0.003944   \n",
       "125        0.0   9.190000   2.053198   97.366257    6650.409218   0.014641   \n",
       "438        0.0  11.308000   7.226467   80.242179    3776.224645   0.021249   \n",
       "569        0.0  11.741000  17.554008  185.888078     953.580415   0.194937   \n",
       "174        0.0   9.910000   2.735778   98.548680    7270.232196   0.013555   \n",
       "477        0.0   8.860000   4.598778   83.149948     978.193961   0.085004   \n",
       "531        0.0  12.343000  18.932283  175.426364    1427.262884   0.122911   \n",
       "51         0.0  10.510000   1.781814   11.630715   29784.140196   0.000391   \n",
       "366        0.0  11.111000   6.752781  117.908189    3606.987575   0.032689   \n",
       "315        0.0   8.970000   3.370558  130.815680    2015.145159   0.064916   \n",
       "133        0.0  11.337000   2.801488   50.419966   25806.695144   0.001954   \n",
       "475        0.0  10.445000   8.276751  146.458791    1300.140053   0.112648   \n",
       "534        0.0  12.784000  17.936794   83.396012    2386.823357   0.034940   \n",
       "471        0.0  11.758000   8.322015   78.391731    4309.758180   0.018189   \n",
       "79         0.0  12.941000   3.248883   71.011232   84070.152472   0.000845   \n",
       "570        0.0  11.471000  24.238265  180.548396     390.037940   0.462900   \n",
       "62         0.0   9.358000   1.850292   15.088590    9559.370195   0.001578   \n",
       "628        0.0  11.646000  41.413159  232.918741     156.975979   1.483786   \n",
       "589        0.0  11.513000  27.274840  183.485045     320.173599   0.573080   \n",
       "372        0.0  11.632000   3.169240   35.886688   26460.604256   0.001356   \n",
       "370        0.0  11.632000   3.842847   42.626336   17997.146464   0.002369   \n",
       "228        0.0  12.777000   4.038221   48.790641   46787.486279   0.001043   \n",
       "46         0.0  12.796000   2.137838    5.748944  169887.111674   0.000034   \n",
       "111        0.0  12.796000   3.526711   49.854376   62426.674218   0.000799   \n",
       "587        0.0  11.302000  29.948292  214.438844     218.658226   0.980703   \n",
       "127        0.0  10.988000   2.840019   69.901771   18208.218970   0.003839   \n",
       "466        0.0  10.879000  14.844673  209.453293     602.793636   0.347471   \n",
       "449        0.0   9.534000   3.255495   71.373820    3631.414657   0.019655   \n",
       "586        0.0   9.540000  16.798724  222.751097     137.137849   1.624286   \n",
       "\n",
       "             TIC  TSM_Vmag_priority  X_priority  vip_rank  KP_flag  \n",
       "503  335499997.0                1.0         1.0       NaN    False  \n",
       "384  124573851.0                NaN         5.0       NaN    False  \n",
       "599   53189332.0                NaN         5.0       NaN    False  \n",
       "232   78154865.0                2.0         3.0       NaN    False  \n",
       "271  296739893.0                NaN         2.0       NaN    False  \n",
       "505    1003831.0                NaN         5.0       NaN    False  \n",
       "65   377064495.0                2.0         1.0       NaN    False  \n",
       "279  101011575.0                2.0         2.0       NaN    False  \n",
       "378  407966340.0                1.0         1.0       NaN    False  \n",
       "173   50618703.0                2.0         1.0       NaN    False  \n",
       "377  453211454.0                2.0         4.0       NaN    False  \n",
       "629  427352241.0                NaN         3.0       NaN    False  \n",
       "379  317548889.0                NaN         3.0       NaN    False  \n",
       "316   33692729.0                NaN         3.0       NaN    False  \n",
       "468  270380593.0                NaN         3.0       NaN    False  \n",
       "6     98796344.0                NaN         1.0       NaN    False  \n",
       "547   94986319.0                NaN         1.0       NaN    False  \n",
       "627  250386181.0                2.0         2.0       NaN    False  \n",
       "282  318753380.0                NaN         4.0       NaN    False  \n",
       "176   10837041.0                NaN         4.0       NaN    False  \n",
       "99   165554103.0                3.0         3.0       NaN    False  \n",
       "458   48018596.0                NaN         5.0       NaN    False  \n",
       "267  284361752.0                NaN         4.0       NaN    False  \n",
       "45   321688498.0                NaN         2.0       NaN    False  \n",
       "611  115583726.0                NaN         4.0       NaN    False  \n",
       "178  115623434.0                NaN         5.0       NaN    False  \n",
       "98   198456933.0                2.0         2.0       NaN    False  \n",
       "236  310231275.0                NaN         5.0       NaN    False  \n",
       "423  235943205.0                1.0         1.0       NaN    False  \n",
       "70   264303333.0                NaN         5.0       NaN    False  \n",
       "319  287256467.0                NaN         5.0       NaN    False  \n",
       "278   75878355.0                1.0         1.0       NaN    False  \n",
       "147   21832928.0                1.0         1.0       NaN    False  \n",
       "529   21744120.0                1.0         1.0       NaN    False  \n",
       "446  105840719.0                NaN         2.0       NaN    False  \n",
       "231  356235833.0                3.0         2.0       NaN    False  \n",
       "501  393911494.0                2.0         2.0       NaN    False  \n",
       "38   367630162.0                2.0         2.0       NaN    False  \n",
       "52   367630162.0                NaN         4.0       NaN    False  \n",
       "440  230386397.0                NaN         5.0       NaN    False  \n",
       "95   402898317.0                1.0         1.0       NaN    False  \n",
       "97   219778329.0                1.0         1.0       NaN    False  \n",
       "266  341815197.0                NaN         3.0       NaN    False  \n",
       "258  441765914.0                NaN         2.0       NaN    False  \n",
       "259  367739494.0                NaN         3.0       NaN    False  \n",
       "422   27491137.0                1.0         1.0       NaN    False  \n",
       "281   27491137.0                NaN         3.0       NaN    False  \n",
       "265  441642457.0                1.0         1.0       NaN    False  \n",
       "59   198187049.0                NaN         2.0       NaN    False  \n",
       "626  255930614.0                1.0         1.0       NaN    False  \n",
       "129   16884216.0                NaN         4.0       NaN    False  \n",
       "485  159781361.0                NaN         5.0       NaN    False  \n",
       "280  357501308.0                3.0         5.0       NaN    False  \n",
       "367  219508169.0                2.0         2.0       NaN    False  \n",
       "555  288636599.0                NaN         4.0       NaN    False  \n",
       "68   202426247.0                NaN         3.0       NaN    False  \n",
       "550  229742722.0                NaN         3.0       NaN    False  \n",
       "566  198108326.0                1.0         1.0       NaN    False  \n",
       "196  381714186.0                NaN         5.0       NaN    False  \n",
       "633  144441148.0                NaN         5.0       NaN    False  \n",
       "192  347332255.0                2.0         3.0       NaN    False  \n",
       "17   390651552.0                1.0         1.0       NaN    False  \n",
       "60   180695581.0                2.0         1.0       NaN    False  \n",
       "439  144401492.0                NaN         4.0       NaN    False  \n",
       "83   119584412.0                NaN         3.0       NaN    False  \n",
       "64   198153540.0                NaN         3.0       NaN    False  \n",
       "376  368435330.0                3.0         2.0       NaN    False  \n",
       "268  138819293.0                1.0         1.0       NaN    False  \n",
       "506  135083444.0                NaN         4.0       NaN    False  \n",
       "234  229938290.0                NaN         4.0       NaN    False  \n",
       "571   99834717.0                NaN         3.0       NaN    False  \n",
       "150   29191624.0                NaN         5.0       NaN    False  \n",
       "58    21535395.0                1.0         1.0       NaN    False  \n",
       "545    9348006.0                NaN         2.0       NaN    False  \n",
       "318    4897275.0                NaN         4.0       NaN    False  \n",
       "230  332064670.0                1.0         1.0       NaN    False  \n",
       "255  408636441.0                1.0         1.0       NaN    False  \n",
       "50   233071926.0                2.0         2.0       NaN    False  \n",
       "53   233071822.0                NaN         5.0       NaN    False  \n",
       "151  219857012.0                NaN         3.0       NaN    False  \n",
       "39   198206613.0                NaN         3.0       NaN    False  \n",
       "32   318022259.0                NaN         5.0       NaN    False  \n",
       "101  318022259.0                1.0         1.0       NaN    False  \n",
       "434  285048486.0                1.0         1.0       NaN    False  \n",
       "313  130181866.0                1.0         1.0       NaN    False  \n",
       "191  130181866.0                1.0         1.0       NaN    False  \n",
       "473  257241363.0                1.0         1.0       NaN    False  \n",
       "499   15863518.0                1.0         1.0       NaN    False  \n",
       "469  396740648.0                NaN         4.0       NaN    False  \n",
       "193  198384408.0                NaN         2.0       NaN    False  \n",
       "175   58542531.0                NaN         3.0       NaN    False  \n",
       "418  321041369.0                2.0         2.0       NaN    False  \n",
       "548  441739020.0                NaN         5.0       NaN    False  \n",
       "149  317597583.0                3.0         2.0       NaN    False  \n",
       "504  388076005.0                NaN         3.0       NaN    False  \n",
       "124  264678534.0                1.0         1.0       NaN    False  \n",
       "419  219776325.0                3.0         3.0       NaN    False  \n",
       "417   67418624.0                1.0         1.0       NaN    False  \n",
       "482  186599508.0                NaN         4.0       NaN    False  \n",
       "450  299158887.0                NaN         4.0       NaN    False  \n",
       "194  352413427.0                NaN         4.0       NaN    False  \n",
       "445  306263608.0                1.0         1.0       NaN    False  \n",
       "37   283722336.0                1.0         1.0       NaN    False  \n",
       "49   283722336.0                1.0         1.0       NaN    False  \n",
       "26   243185500.0                NaN         2.0       NaN    False  \n",
       "75   243185500.0                NaN         1.0       NaN    False  \n",
       "104  240968774.0                NaN         5.0       NaN    False  \n",
       "67   188768068.0                1.0         2.0       NaN    False  \n",
       "69   258514800.0                NaN         4.0       NaN    False  \n",
       "229  154383539.0                1.0         2.0       NaN    False  \n",
       "63   153976959.0                NaN         4.0       NaN    False  \n",
       "148  138588540.0                2.0         4.0       NaN    False  \n",
       "125  293954617.0                NaN         2.0       NaN    False  \n",
       "438  418959198.0                NaN         2.0       NaN    False  \n",
       "569  346418409.0                NaN         4.0       NaN    False  \n",
       "174  158025009.0                1.0         2.0       NaN    False  \n",
       "477  148782377.0                NaN         3.0       NaN    False  \n",
       "531  116483734.0                NaN         2.0       NaN    False  \n",
       "51   116483514.0                NaN         3.0       NaN    False  \n",
       "366  199444169.0                1.0         1.0       NaN    False  \n",
       "315  269701147.0                2.0         2.0       NaN    False  \n",
       "133  356867115.0                NaN         5.0       NaN    False  \n",
       "475  365733349.0                2.0         2.0       NaN    False  \n",
       "534  459969957.0                NaN         3.0       NaN    False  \n",
       "471  417948359.0                NaN         5.0       NaN    False  \n",
       "79   467179528.0                NaN         2.0       NaN    False  \n",
       "570  416195870.0                NaN         2.0       NaN    False  \n",
       "62   406672232.0                1.0         2.0       NaN    False  \n",
       "628  236714379.0                3.0         4.0       NaN    False  \n",
       "589  233120979.0                NaN         3.0       NaN    False  \n",
       "372  230127302.0                NaN         4.0       NaN    False  \n",
       "370  230127302.0                NaN         3.0       NaN    False  \n",
       "228  198212955.0                2.0         1.0       NaN    False  \n",
       "46   153951307.0                NaN         4.0       NaN    False  \n",
       "111  153951307.0                NaN         2.0       NaN    False  \n",
       "587  147950620.0                2.0         2.0       NaN    False  \n",
       "127  233087860.0                NaN         3.0       NaN    False  \n",
       "466  148914726.0                1.0         1.0       NaN    False  \n",
       "449  142276270.0                NaN         3.0       NaN    False  \n",
       "586  154872375.0                1.0         1.0       NaN    False  "
      ],
      "text/html": "<div>\n<style scoped>\n    .dataframe tbody tr th:only-of-type {\n        vertical-align: middle;\n    }\n\n    .dataframe tbody tr th {\n        vertical-align: top;\n    }\n\n    .dataframe thead th {\n        text-align: right;\n    }\n</style>\n<table border=\"1\" class=\"dataframe\">\n  <thead>\n    <tr style=\"text-align: right;\">\n      <th></th>\n      <th>radius_bin</th>\n      <th>insol_bin</th>\n      <th>st_Teff_bin</th>\n      <th>Source Pipeline</th>\n      <th>Full TOI ID</th>\n      <th>Planet Radius Value</th>\n      <th>Orbital Period Value</th>\n      <th>Effective Temperature Value</th>\n      <th>Effective Stellar Flux Value</th>\n      <th>Planet Equilibrium Temperature (K) Value</th>\n      <th>mass_flag</th>\n      <th>V mag</th>\n      <th>K_amp</th>\n      <th>TSM</th>\n      <th>t_HIRES</th>\n      <th>X</th>\n      <th>TIC</th>\n      <th>TSM_Vmag_priority</th>\n      <th>X_priority</th>\n      <th>vip_rank</th>\n      <th>KP_flag</th>\n    </tr>\n  </thead>\n  <tbody>\n    <tr>\n      <th>503</th>\n      <td>4</td>\n      <td>5</td>\n      <td>3</td>\n      <td>spoc</td>\n      <td>680.01</td>\n      <td>5.741712</td>\n      <td>0.433716</td>\n      <td>5967.00</td>\n      <td>3891.410000</td>\n      <td>2200.000000</td>\n      <td>0.0</td>\n      <td>9.530000</td>\n      <td>22.328840</td>\n      <td>173.664799</td>\n      <td>76.909076</td>\n      <td>2.258053</td>\n      <td>335499997.0</td>\n      <td>1.0</td>\n      <td>1.0</td>\n      <td>NaN</td>\n      <td>False</td>\n    </tr>\n    <tr>\n      <th>384</th>\n      <td>3</td>\n      <td>4</td>\n      <td>3</td>\n      <td>spoc</td>\n      <td>669.01</td>\n      <td>3.842242</td>\n      <td>3.948678</td>\n      <td>5581.90</td>\n      <td>641.234094</td>\n      <td>1283.435066</td>\n      <td>0.0</td>\n      <td>10.606000</td>\n      <td>7.619698</td>\n      <td>66.390053</td>\n      <td>1779.239269</td>\n      <td>0.037314</td>\n      <td>124573851.0</td>\n      <td>NaN</td>\n      <td>5.0</td>\n      <td>NaN</td>\n      <td>False</td>\n    </tr>\n    <tr>\n      <th>599</th>\n      <td>5</td>\n      <td>4</td>\n      <td>3</td>\n      <td>spoc</td>\n      <td>660.01</td>\n      <td>11.115877</td>\n      <td>9.290298</td>\n      <td>6055.00</td>\n      <td>276.548736</td>\n      <td>1040.070237</td>\n      <td>0.0</td>\n      <td>11.210000</td>\n      <td>23.375511</td>\n      <td>86.807017</td>\n      <td>329.752185</td>\n      <td>0.263249</td>\n      <td>53189332.0</td>\n      <td>NaN</td>\n      <td>5.0</td>\n      <td>NaN</td>\n      <td>False</td>\n    </tr>\n    <tr>\n      <th>232</th>\n      <td>2</td>\n      <td>5</td>\n      <td>3</td>\n      <td>spoc</td>\n      <td>638.01</td>\n      <td>1.940277</td>\n      <td>0.493826</td>\n      <td>6030.00</td>\n      <td>8648.339203</td>\n      <td>2459.534554</td>\n      <td>0.0</td>\n      <td>9.475000</td>\n      <td>3.333463</td>\n      <td>98.195545</td>\n      <td>3280.337450</td>\n      <td>0.029935</td>\n      <td>78154865.0</td>\n      <td>2.0</td>\n      <td>3.0</td>\n      <td>NaN</td>\n      <td>False</td>\n    </tr>\n    <tr>\n      <th>271</th>\n      <td>3</td>\n      <td>3</td>\n      <td>1</td>\n      <td>spoc</td>\n      <td>620.01</td>\n      <td>2.729669</td>\n      <td>5.098373</td>\n      <td>3633.00</td>\n      <td>15.711624</td>\n      <td>507.779331</td>\n      <td>0.0</td>\n      <td>12.262000</td>\n      <td>4.759802</td>\n      <td>146.337182</td>\n      <td>20957.148712</td>\n      <td>0.006983</td>\n      <td>296739893.0</td>\n      <td>NaN</td>\n      <td>2.0</td>\n      <td>NaN</td>\n      <td>False</td>\n    </tr>\n    <tr>\n      <th>505</th>\n      <td>4</td>\n      <td>5</td>\n      <td>3</td>\n      <td>spoc</td>\n      <td>564.01</td>\n      <td>5.450351</td>\n      <td>1.651142</td>\n      <td>5752.00</td>\n      <td>1226.219431</td>\n      <td>1509.252132</td>\n      <td>0.0</td>\n      <td>11.097000</td>\n      <td>13.640141</td>\n      <td>123.023204</td>\n      <td>872.714522</td>\n      <td>0.140966</td>\n      <td>1003831.0</td>\n      <td>NaN</td>\n      <td>5.0</td>\n      <td>NaN</td>\n      <td>False</td>\n    </tr>\n    <tr>\n      <th>65</th>\n      <td>1</td>\n      <td>5</td>\n      <td>3</td>\n      <td>spoc</td>\n      <td>561.02</td>\n      <td>1.554210</td>\n      <td>0.446547</td>\n      <td>5391.00</td>\n      <td>4628.630447</td>\n      <td>2103.695493</td>\n      <td>0.0</td>\n      <td>10.252000</td>\n      <td>2.661764</td>\n      <td>78.276586</td>\n      <td>10523.754937</td>\n      <td>0.007438</td>\n      <td>377064495.0</td>\n      <td>2.0</td>\n      <td>1.0</td>\n      <td>NaN</td>\n      <td>False</td>\n    </tr>\n    <tr>\n      <th>279</th>\n      <td>3</td>\n      <td>3</td>\n      <td>2</td>\n      <td>spoc</td>\n      <td>560.01</td>\n      <td>2.847985</td>\n      <td>6.397438</td>\n      <td>4695.00</td>\n      <td>66.244631</td>\n      <td>727.624679</td>\n      <td>0.0</td>\n      <td>9.670000</td>\n      <td>4.599972</td>\n      <td>184.415973</td>\n      <td>2061.577170</td>\n      <td>0.089454</td>\n      <td>101011575.0</td>\n      <td>2.0</td>\n      <td>2.0</td>\n      <td>NaN</td>\n      <td>False</td>\n    </tr>\n    <tr>\n      <th>378</th>\n      <td>3</td>\n      <td>4</td>\n      <td>3</td>\n      <td>spoc</td>\n      <td>554.01</td>\n      <td>3.411592</td>\n      <td>7.048602</td>\n      <td>6337.87</td>\n      <td>416.682397</td>\n      <td>1152.314530</td>\n      <td>0.0</td>\n      <td>6.911340</td>\n      <td>1.733525</td>\n      <td>107.534784</td>\n      <td>1143.893197</td>\n      <td>0.094008</td>\n      <td>407966340.0</td>\n      <td>1.0</td>\n      <td>1.0</td>\n      <td>NaN</td>\n      <td>False</td>\n    </tr>\n    <tr>\n      <th>173</th>\n      <td>2</td>\n      <td>4</td>\n      <td>2</td>\n      <td>spoc</td>\n      <td>544.01</td>\n      <td>2.322642</td>\n      <td>1.548214</td>\n      <td>4665.00</td>\n      <td>323.377022</td>\n      <td>1081.551089</td>\n      <td>0.0</td>\n      <td>10.777000</td>\n      <td>4.061885</td>\n      <td>138.157405</td>\n      <td>7329.167795</td>\n      <td>0.018850</td>\n      <td>50618703.0</td>\n      <td>2.0</td>\n      <td>1.0</td>\n      <td>NaN</td>\n      <td>False</td>\n    </tr>\n    <tr>\n      <th>377</th>\n      <td>3</td>\n      <td>4</td>\n      <td>3</td>\n      <td>spoc</td>\n      <td>509.01</td>\n      <td>2.936300</td>\n      <td>9.059882</td>\n      <td>5560.26</td>\n      <td>135.582100</td>\n      <td>948.478000</td>\n      <td>0.0</td>\n      <td>8.580000</td>\n      <td>2.769020</td>\n      <td>115.823706</td>\n      <td>2084.768611</td>\n      <td>0.055557</td>\n      <td>453211454.0</td>\n      <td>2.0</td>\n      <td>4.0</td>\n      <td>NaN</td>\n      <td>False</td>\n    </tr>\n    <tr>\n      <th>629</th>\n      <td>5</td>\n      <td>5</td>\n      <td>3</td>\n      <td>spoc</td>\n      <td>485.01</td>\n      <td>8.411166</td>\n      <td>1.264563</td>\n      <td>6084.00</td>\n      <td>1027.020000</td>\n      <td>1577.000000</td>\n      <td>0.0</td>\n      <td>10.594000</td>\n      <td>29.112880</td>\n      <td>218.948821</td>\n      <td>120.542334</td>\n      <td>1.816365</td>\n      <td>427352241.0</td>\n      <td>NaN</td>\n      <td>3.0</td>\n      <td>NaN</td>\n      <td>False</td>\n    </tr>\n    <tr>\n      <th>379</th>\n      <td>3</td>\n      <td>4</td>\n      <td>3</td>\n      <td>spoc</td>\n      <td>480.01</td>\n      <td>3.083112</td>\n      <td>6.866196</td>\n      <td>6212.63</td>\n      <td>368.832599</td>\n      <td>1117.704692</td>\n      <td>0.0</td>\n      <td>7.280000</td>\n      <td>1.717727</td>\n      <td>97.142072</td>\n      <td>1636.068455</td>\n      <td>0.059375</td>\n      <td>317548889.0</td>\n      <td>NaN</td>\n      <td>3.0</td>\n      <td>NaN</td>\n      <td>False</td>\n    </tr>\n    <tr>\n      <th>316</th>\n      <td>3</td>\n      <td>3</td>\n      <td>3</td>\n      <td>spoc</td>\n      <td>469.01</td>\n      <td>3.685246</td>\n      <td>13.632935</td>\n      <td>6114.00</td>\n      <td>89.071512</td>\n      <td>783.527882</td>\n      <td>0.0</td>\n      <td>9.490000</td>\n      <td>3.216821</td>\n      <td>104.239872</td>\n      <td>3571.544191</td>\n      <td>0.029186</td>\n      <td>33692729.0</td>\n      <td>NaN</td>\n      <td>3.0</td>\n      <td>NaN</td>\n      <td>False</td>\n    </tr>\n    <tr>\n      <th>468</th>\n      <td>4</td>\n      <td>4</td>\n      <td>2</td>\n      <td>spoc</td>\n      <td>465.01</td>\n      <td>5.635860</td>\n      <td>3.836317</td>\n      <td>4910.00</td>\n      <td>146.636007</td>\n      <td>887.523592</td>\n      <td>0.0</td>\n      <td>11.559000</td>\n      <td>12.478885</td>\n      <td>132.982914</td>\n      <td>1595.726207</td>\n      <td>0.083337</td>\n      <td>270380593.0</td>\n      <td>NaN</td>\n      <td>3.0</td>\n      <td>NaN</td>\n      <td>False</td>\n    </tr>\n    <tr>\n      <th>6</th>\n      <td>1</td>\n      <td>2</td>\n      <td>1</td>\n      <td>spoc</td>\n      <td>455.01</td>\n      <td>1.368307</td>\n      <td>5.358807</td>\n      <td>3562.00</td>\n      <td>7.379879</td>\n      <td>420.370338</td>\n      <td>0.0</td>\n      <td>10.590000</td>\n      <td>2.245208</td>\n      <td>43.269585</td>\n      <td>20192.802397</td>\n      <td>0.002143</td>\n      <td>98796344.0</td>\n      <td>NaN</td>\n      <td>1.0</td>\n      <td>NaN</td>\n      <td>False</td>\n    </tr>\n    <tr>\n      <th>547</th>\n      <td>5</td>\n      <td>3</td>\n      <td>3</td>\n      <td>spoc</td>\n      <td>421.01</td>\n      <td>6.445067</td>\n      <td>16.068919</td>\n      <td>5718.00</td>\n      <td>74.824872</td>\n      <td>750.120865</td>\n      <td>0.0</td>\n      <td>9.931000</td>\n      <td>8.544846</td>\n      <td>117.365892</td>\n      <td>759.803778</td>\n      <td>0.154469</td>\n      <td>94986319.0</td>\n      <td>NaN</td>\n      <td>1.0</td>\n      <td>NaN</td>\n      <td>False</td>\n    </tr>\n    <tr>\n      <th>627</th>\n      <td>5</td>\n      <td>5</td>\n      <td>3</td>\n      <td>spoc</td>\n      <td>390.01</td>\n      <td>8.656736</td>\n      <td>1.470258</td>\n      <td>6321.46</td>\n      <td>3333.408567</td>\n      <td>1937.946959</td>\n      <td>0.0</td>\n      <td>10.329000</td>\n      <td>42.910122</td>\n      <td>329.155292</td>\n      <td>43.470079</td>\n      <td>7.571997</td>\n      <td>250386181.0</td>\n      <td>2.0</td>\n      <td>2.0</td>\n      <td>NaN</td>\n      <td>False</td>\n    </tr>\n    <tr>\n      <th>282</th>\n      <td>3</td>\n      <td>3</td>\n      <td>2</td>\n      <td>spoc</td>\n      <td>2443.01</td>\n      <td>2.686889</td>\n      <td>15.669232</td>\n      <td>4214.44</td>\n      <td>13.293118</td>\n      <td>486.997196</td>\n      <td>0.0</td>\n      <td>9.510000</td>\n      <td>2.603890</td>\n      <td>111.239776</td>\n      <td>5552.194810</td>\n      <td>0.020035</td>\n      <td>318753380.0</td>\n      <td>NaN</td>\n      <td>4.0</td>\n      <td>NaN</td>\n      <td>False</td>\n    </tr>\n    <tr>\n      <th>176</th>\n      <td>2</td>\n      <td>4</td>\n      <td>2</td>\n      <td>spoc</td>\n      <td>2411.01</td>\n      <td>1.747271</td>\n      <td>0.782765</td>\n      <td>4099.00</td>\n      <td>651.908207</td>\n      <td>1288.743126</td>\n      <td>0.0</td>\n      <td>11.272000</td>\n      <td>3.474546</td>\n      <td>65.665178</td>\n      <td>15802.065228</td>\n      <td>0.004155</td>\n      <td>10837041.0</td>\n      <td>NaN</td>\n      <td>4.0</td>\n      <td>NaN</td>\n      <td>False</td>\n    </tr>\n    <tr>\n      <th>99</th>\n      <td>2</td>\n      <td>2</td>\n      <td>3</td>\n      <td>spoc</td>\n      <td>2296.01</td>\n      <td>1.988073</td>\n      <td>139.247566</td>\n      <td>5373.01</td>\n      <td>2.328972</td>\n      <td>315.072725</td>\n      <td>0.0</td>\n      <td>11.106000</td>\n      <td>0.598936</td>\n      <td>10.121925</td>\n      <td>456403.307700</td>\n      <td>0.000022</td>\n      <td>165554103.0</td>\n      <td>3.0</td>\n      <td>3.0</td>\n      <td>NaN</td>\n      <td>False</td>\n    </tr>\n    <tr>\n      <th>458</th>\n      <td>4</td>\n      <td>3</td>\n      <td>3</td>\n      <td>spoc</td>\n      <td>2295.01</td>\n      <td>5.180090</td>\n      <td>100.114794</td>\n      <td>5660.00</td>\n      <td>11.129472</td>\n      <td>465.841728</td>\n      <td>0.0</td>\n      <td>9.595000</td>\n      <td>3.236214</td>\n      <td>33.719956</td>\n      <td>3887.187482</td>\n      <td>0.008675</td>\n      <td>48018596.0</td>\n      <td>NaN</td>\n      <td>5.0</td>\n      <td>NaN</td>\n      <td>False</td>\n    </tr>\n    <tr>\n      <th>267</th>\n      <td>3</td>\n      <td>2</td>\n      <td>3</td>\n      <td>spoc</td>\n      <td>2294.01</td>\n      <td>3.504342</td>\n      <td>340.384651</td>\n      <td>6424.00</td>\n      <td>2.302143</td>\n      <td>314.161384</td>\n      <td>0.0</td>\n      <td>10.221000</td>\n      <td>0.935269</td>\n      <td>13.308595</td>\n      <td>82839.317536</td>\n      <td>0.000161</td>\n      <td>284361752.0</td>\n      <td>NaN</td>\n      <td>4.0</td>\n      <td>NaN</td>\n      <td>False</td>\n    </tr>\n    <tr>\n      <th>45</th>\n      <td>1</td>\n      <td>4</td>\n      <td>1</td>\n      <td>spoc</td>\n      <td>2290.01</td>\n      <td>1.485881</td>\n      <td>0.386230</td>\n      <td>3863.00</td>\n      <td>873.590550</td>\n      <td>1386.585746</td>\n      <td>0.0</td>\n      <td>12.635000</td>\n      <td>3.648136</td>\n      <td>10.946558</td>\n      <td>50299.977261</td>\n      <td>0.000218</td>\n      <td>321688498.0</td>\n      <td>NaN</td>\n      <td>2.0</td>\n      <td>NaN</td>\n      <td>False</td>\n    </tr>\n    <tr>\n      <th>611</th>\n      <td>5</td>\n      <td>4</td>\n      <td>3</td>\n      <td>spoc</td>\n      <td>2280.01</td>\n      <td>9.130028</td>\n      <td>18.601675</td>\n      <td>6175.00</td>\n      <td>845.874404</td>\n      <td>1375.454474</td>\n      <td>0.0</td>\n      <td>8.950000</td>\n      <td>13.362461</td>\n      <td>40.409836</td>\n      <td>125.874285</td>\n      <td>0.321033</td>\n      <td>115583726.0</td>\n      <td>NaN</td>\n      <td>4.0</td>\n      <td>NaN</td>\n      <td>False</td>\n    </tr>\n    <tr>\n      <th>178</th>\n      <td>2</td>\n      <td>4</td>\n      <td>2</td>\n      <td>spoc</td>\n      <td>2279.01</td>\n      <td>2.288670</td>\n      <td>3.143362</td>\n      <td>4962.00</td>\n      <td>221.933632</td>\n      <td>984.408896</td>\n      <td>0.0</td>\n      <td>11.256000</td>\n      <td>2.930167</td>\n      <td>56.881396</td>\n      <td>21894.006628</td>\n      <td>0.002598</td>\n      <td>115623434.0</td>\n      <td>NaN</td>\n      <td>5.0</td>\n      <td>NaN</td>\n      <td>False</td>\n    </tr>\n    <tr>\n      <th>98</th>\n      <td>2</td>\n      <td>2</td>\n      <td>3</td>\n      <td>spoc</td>\n      <td>2276.01</td>\n      <td>1.776300</td>\n      <td>153.717211</td>\n      <td>5482.02</td>\n      <td>2.025774</td>\n      <td>304.275856</td>\n      <td>0.0</td>\n      <td>9.560000</td>\n      <td>0.468845</td>\n      <td>18.016295</td>\n      <td>179329.212912</td>\n      <td>0.000100</td>\n      <td>198456933.0</td>\n      <td>2.0</td>\n      <td>2.0</td>\n      <td>NaN</td>\n      <td>False</td>\n    </tr>\n    <tr>\n      <th>236</th>\n      <td>2</td>\n      <td>5</td>\n      <td>3</td>\n      <td>spoc</td>\n      <td>2265.01</td>\n      <td>2.479919</td>\n      <td>0.829408</td>\n      <td>5951.67</td>\n      <td>4983.613208</td>\n      <td>2142.919376</td>\n      <td>0.0</td>\n      <td>9.706000</td>\n      <td>2.615389</td>\n      <td>59.584813</td>\n      <td>6592.306842</td>\n      <td>0.009039</td>\n      <td>310231275.0</td>\n      <td>NaN</td>\n      <td>5.0</td>\n      <td>NaN</td>\n      <td>False</td>\n    </tr>\n    <tr>\n      <th>423</th>\n      <td>4</td>\n      <td>2</td>\n      <td>3</td>\n      <td>spoc</td>\n      <td>2264.01</td>\n      <td>4.232144</td>\n      <td>121.337716</td>\n      <td>6140.00</td>\n      <td>4.579569</td>\n      <td>373.100558</td>\n      <td>0.0</td>\n      <td>11.076000</td>\n      <td>1.951906</td>\n      <td>23.214913</td>\n      <td>41801.507934</td>\n      <td>0.000555</td>\n      <td>235943205.0</td>\n      <td>1.0</td>\n      <td>1.0</td>\n      <td>NaN</td>\n      <td>False</td>\n    </tr>\n    <tr>\n      <th>70</th>\n      <td>1</td>\n      <td>5</td>\n      <td>3</td>\n      <td>spoc</td>\n      <td>2250.01</td>\n      <td>1.097663</td>\n      <td>0.815298</td>\n      <td>5729.00</td>\n      <td>3059.482345</td>\n      <td>1896.844534</td>\n      <td>0.0</td>\n      <td>10.635000</td>\n      <td>0.916692</td>\n      <td>4.951299</td>\n      <td>126259.266162</td>\n      <td>0.000039</td>\n      <td>264303333.0</td>\n      <td>NaN</td>\n      <td>5.0</td>\n      <td>NaN</td>\n      <td>False</td>\n    </tr>\n    <tr>\n      <th>319</th>\n      <td>3</td>\n      <td>3</td>\n      <td>3</td>\n      <td>spoc</td>\n      <td>2141.01</td>\n      <td>3.609043</td>\n      <td>18.258947</td>\n      <td>5674.00</td>\n      <td>44.347244</td>\n      <td>658.167463</td>\n      <td>0.0</td>\n      <td>9.460000</td>\n      <td>3.077064</td>\n      <td>85.211152</td>\n      <td>3796.967592</td>\n      <td>0.022442</td>\n      <td>287256467.0</td>\n      <td>NaN</td>\n      <td>5.0</td>\n      <td>NaN</td>\n      <td>False</td>\n    </tr>\n    <tr>\n      <th>278</th>\n      <td>3</td>\n      <td>3</td>\n      <td>2</td>\n      <td>spoc</td>\n      <td>2134.01</td>\n      <td>3.002290</td>\n      <td>9.229281</td>\n      <td>4406.00</td>\n      <td>34.511126</td>\n      <td>618.172287</td>\n      <td>0.0</td>\n      <td>8.933000</td>\n      <td>3.641828</td>\n      <td>187.354569</td>\n      <td>1668.288031</td>\n      <td>0.112303</td>\n      <td>75878355.0</td>\n      <td>1.0</td>\n      <td>1.0</td>\n      <td>NaN</td>\n      <td>False</td>\n    </tr>\n    <tr>\n      <th>147</th>\n      <td>2</td>\n      <td>3</td>\n      <td>3</td>\n      <td>spoc</td>\n      <td>2128.01</td>\n      <td>2.048394</td>\n      <td>16.341914</td>\n      <td>5991.11</td>\n      <td>86.227771</td>\n      <td>777.197758</td>\n      <td>0.0</td>\n      <td>7.221420</td>\n      <td>1.151633</td>\n      <td>89.430432</td>\n      <td>3448.654574</td>\n      <td>0.025932</td>\n      <td>21832928.0</td>\n      <td>1.0</td>\n      <td>1.0</td>\n      <td>NaN</td>\n      <td>False</td>\n    </tr>\n    <tr>\n      <th>529</th>\n      <td>5</td>\n      <td>3</td>\n      <td>2</td>\n      <td>spoc</td>\n      <td>2127.01</td>\n      <td>10.729980</td>\n      <td>5.508068</td>\n      <td>4790.00</td>\n      <td>82.240662</td>\n      <td>768.053369</td>\n      <td>0.0</td>\n      <td>12.597000</td>\n      <td>34.954847</td>\n      <td>183.809854</td>\n      <td>529.048054</td>\n      <td>0.347435</td>\n      <td>21744120.0</td>\n      <td>1.0</td>\n      <td>1.0</td>\n      <td>NaN</td>\n      <td>False</td>\n    </tr>\n    <tr>\n      <th>446</th>\n      <td>4</td>\n      <td>3</td>\n      <td>3</td>\n      <td>spoc</td>\n      <td>2123.01</td>\n      <td>4.244428</td>\n      <td>10.316187</td>\n      <td>5432.00</td>\n      <td>66.728461</td>\n      <td>728.949641</td>\n      <td>0.0</td>\n      <td>10.237000</td>\n      <td>5.107956</td>\n      <td>99.558685</td>\n      <td>2818.484434</td>\n      <td>0.035323</td>\n      <td>105840719.0</td>\n      <td>NaN</td>\n      <td>2.0</td>\n      <td>NaN</td>\n      <td>False</td>\n    </tr>\n    <tr>\n      <th>231</th>\n      <td>2</td>\n      <td>5</td>\n      <td>3</td>\n      <td>spoc</td>\n      <td>2111.01</td>\n      <td>2.458628</td>\n      <td>1.269342</td>\n      <td>5477.00</td>\n      <td>1427.166029</td>\n      <td>1567.611260</td>\n      <td>0.0</td>\n      <td>9.830000</td>\n      <td>4.045549</td>\n      <td>107.648399</td>\n      <td>3088.552264</td>\n      <td>0.034854</td>\n      <td>356235833.0</td>\n      <td>3.0</td>\n      <td>2.0</td>\n      <td>NaN</td>\n      <td>False</td>\n    </tr>\n    <tr>\n      <th>501</th>\n      <td>4</td>\n      <td>5</td>\n      <td>3</td>\n      <td>spoc</td>\n      <td>2106.01</td>\n      <td>5.302790</td>\n      <td>0.633259</td>\n      <td>5590.00</td>\n      <td>4030.751247</td>\n      <td>2032.199073</td>\n      <td>0.0</td>\n      <td>10.520000</td>\n      <td>18.417525</td>\n      <td>249.303683</td>\n      <td>281.350296</td>\n      <td>0.886097</td>\n      <td>393911494.0</td>\n      <td>2.0</td>\n      <td>2.0</td>\n      <td>NaN</td>\n      <td>False</td>\n    </tr>\n    <tr>\n      <th>38</th>\n      <td>1</td>\n      <td>3</td>\n      <td>2</td>\n      <td>spoc</td>\n      <td>2104.02</td>\n      <td>1.544811</td>\n      <td>5.904441</td>\n      <td>4907.00</td>\n      <td>77.164766</td>\n      <td>755.917693</td>\n      <td>0.0</td>\n      <td>10.838000</td>\n      <td>1.241341</td>\n      <td>34.405105</td>\n      <td>83009.450254</td>\n      <td>0.000414</td>\n      <td>367630162.0</td>\n      <td>2.0</td>\n      <td>2.0</td>\n      <td>NaN</td>\n      <td>False</td>\n    </tr>\n    <tr>\n      <th>52</th>\n      <td>1</td>\n      <td>4</td>\n      <td>2</td>\n      <td>spoc</td>\n      <td>2104.01</td>\n      <td>1.370264</td>\n      <td>3.272336</td>\n      <td>4907.00</td>\n      <td>169.504153</td>\n      <td>920.269090</td>\n      <td>0.0</td>\n      <td>10.838000</td>\n      <td>1.232567</td>\n      <td>5.404479</td>\n      <td>84195.464552</td>\n      <td>0.000064</td>\n      <td>367630162.0</td>\n      <td>NaN</td>\n      <td>4.0</td>\n      <td>NaN</td>\n      <td>False</td>\n    </tr>\n    <tr>\n      <th>440</th>\n      <td>4</td>\n      <td>3</td>\n      <td>2</td>\n      <td>spoc</td>\n      <td>2099.01</td>\n      <td>4.313055</td>\n      <td>19.509289</td>\n      <td>4316.00</td>\n      <td>10.202253</td>\n      <td>455.820415</td>\n      <td>0.0</td>\n      <td>12.224000</td>\n      <td>5.357295</td>\n      <td>48.827771</td>\n      <td>15974.187685</td>\n      <td>0.003057</td>\n      <td>230386397.0</td>\n      <td>NaN</td>\n      <td>5.0</td>\n      <td>NaN</td>\n      <td>False</td>\n    </tr>\n    <tr>\n      <th>95</th>\n      <td>2</td>\n      <td>2</td>\n      <td>2</td>\n      <td>spoc</td>\n      <td>2093.01</td>\n      <td>2.154915</td>\n      <td>53.820626</td>\n      <td>4455.00</td>\n      <td>3.063957</td>\n      <td>337.435231</td>\n      <td>0.0</td>\n      <td>11.925000</td>\n      <td>1.140400</td>\n      <td>18.774181</td>\n      <td>267667.371610</td>\n      <td>0.000070</td>\n      <td>402898317.0</td>\n      <td>1.0</td>\n      <td>1.0</td>\n      <td>NaN</td>\n      <td>False</td>\n    </tr>\n    <tr>\n      <th>97</th>\n      <td>2</td>\n      <td>2</td>\n      <td>3</td>\n      <td>spoc</td>\n      <td>2091.01</td>\n      <td>2.044101</td>\n      <td>177.219004</td>\n      <td>5809.00</td>\n      <td>3.445282</td>\n      <td>347.476908</td>\n      <td>0.0</td>\n      <td>8.740000</td>\n      <td>0.538196</td>\n      <td>19.790744</td>\n      <td>63948.248680</td>\n      <td>0.000309</td>\n      <td>219778329.0</td>\n      <td>1.0</td>\n      <td>1.0</td>\n      <td>NaN</td>\n      <td>False</td>\n    </tr>\n    <tr>\n      <th>266</th>\n      <td>3</td>\n      <td>2</td>\n      <td>3</td>\n      <td>spoc</td>\n      <td>2089.01</td>\n      <td>3.348866</td>\n      <td>49.994324</td>\n      <td>5274.27</td>\n      <td>6.384106</td>\n      <td>405.410291</td>\n      <td>0.0</td>\n      <td>12.281000</td>\n      <td>2.085348</td>\n      <td>21.822690</td>\n      <td>111109.887407</td>\n      <td>0.000196</td>\n      <td>341815197.0</td>\n      <td>NaN</td>\n      <td>3.0</td>\n      <td>NaN</td>\n      <td>False</td>\n    </tr>\n    <tr>\n      <th>258</th>\n      <td>3</td>\n      <td>2</td>\n      <td>2</td>\n      <td>spoc</td>\n      <td>2088.01</td>\n      <td>3.582759</td>\n      <td>124.725199</td>\n      <td>4902.00</td>\n      <td>1.733858</td>\n      <td>292.666600</td>\n      <td>0.0</td>\n      <td>11.638000</td>\n      <td>1.867851</td>\n      <td>21.140684</td>\n      <td>76599.431247</td>\n      <td>0.000276</td>\n      <td>441765914.0</td>\n      <td>NaN</td>\n      <td>2.0</td>\n      <td>NaN</td>\n      <td>False</td>\n    </tr>\n    <tr>\n      <th>259</th>\n      <td>3</td>\n      <td>2</td>\n      <td>2</td>\n      <td>spoc</td>\n      <td>2080.01</td>\n      <td>3.037177</td>\n      <td>63.586253</td>\n      <td>4868.00</td>\n      <td>3.150427</td>\n      <td>339.791185</td>\n      <td>0.0</td>\n      <td>12.346000</td>\n      <td>1.778981</td>\n      <td>20.447043</td>\n      <td>162094.126258</td>\n      <td>0.000126</td>\n      <td>367739494.0</td>\n      <td>NaN</td>\n      <td>3.0</td>\n      <td>NaN</td>\n      <td>False</td>\n    </tr>\n    <tr>\n      <th>422</th>\n      <td>4</td>\n      <td>2</td>\n      <td>2</td>\n      <td>spoc</td>\n      <td>2076.02</td>\n      <td>4.304942</td>\n      <td>33.689695</td>\n      <td>5149.60</td>\n      <td>9.983073</td>\n      <td>453.352284</td>\n      <td>0.0</td>\n      <td>9.139000</td>\n      <td>3.752301</td>\n      <td>133.052632</td>\n      <td>1899.828919</td>\n      <td>0.070034</td>\n      <td>27491137.0</td>\n      <td>1.0</td>\n      <td>1.0</td>\n      <td>NaN</td>\n      <td>False</td>\n    </tr>\n    <tr>\n      <th>281</th>\n      <td>3</td>\n      <td>3</td>\n      <td>2</td>\n      <td>spoc</td>\n      <td>2076.01</td>\n      <td>2.889400</td>\n      <td>10.355753</td>\n      <td>5149.60</td>\n      <td>48.122862</td>\n      <td>671.749903</td>\n      <td>0.0</td>\n      <td>9.139000</td>\n      <td>2.822917</td>\n      <td>130.677215</td>\n      <td>3356.708744</td>\n      <td>0.038930</td>\n      <td>27491137.0</td>\n      <td>NaN</td>\n      <td>3.0</td>\n      <td>NaN</td>\n      <td>False</td>\n    </tr>\n    <tr>\n      <th>265</th>\n      <td>3</td>\n      <td>2</td>\n      <td>3</td>\n      <td>spoc</td>\n      <td>2073.01</td>\n      <td>3.082279</td>\n      <td>79.828946</td>\n      <td>5729.00</td>\n      <td>9.644464</td>\n      <td>449.458169</td>\n      <td>0.0</td>\n      <td>9.996000</td>\n      <td>1.426892</td>\n      <td>23.887670</td>\n      <td>28928.608901</td>\n      <td>0.000826</td>\n      <td>441642457.0</td>\n      <td>1.0</td>\n      <td>1.0</td>\n      <td>NaN</td>\n      <td>False</td>\n    </tr>\n    <tr>\n      <th>59</th>\n      <td>1</td>\n      <td>4</td>\n      <td>3</td>\n      <td>spoc</td>\n      <td>2069.01</td>\n      <td>1.068044</td>\n      <td>5.921258</td>\n      <td>5268.00</td>\n      <td>122.105009</td>\n      <td>847.818951</td>\n      <td>0.0</td>\n      <td>8.710000</td>\n      <td>0.467460</td>\n      <td>9.041010</td>\n      <td>82455.595492</td>\n      <td>0.000110</td>\n      <td>198187049.0</td>\n      <td>NaN</td>\n      <td>2.0</td>\n      <td>NaN</td>\n      <td>False</td>\n    </tr>\n    <tr>\n      <th>626</th>\n      <td>5</td>\n      <td>5</td>\n      <td>3</td>\n      <td>spoc</td>\n      <td>2024.01</td>\n      <td>7.966423</td>\n      <td>2.875930</td>\n      <td>6084.00</td>\n      <td>1529.951731</td>\n      <td>1595.104653</td>\n      <td>0.0</td>\n      <td>8.150000</td>\n      <td>20.070908</td>\n      <td>365.931633</td>\n      <td>26.703974</td>\n      <td>13.703265</td>\n      <td>255930614.0</td>\n      <td>1.0</td>\n      <td>1.0</td>\n      <td>NaN</td>\n      <td>False</td>\n    </tr>\n    <tr>\n      <th>129</th>\n      <td>2</td>\n      <td>3</td>\n      <td>2</td>\n      <td>spoc</td>\n      <td>2023.01</td>\n      <td>1.660818</td>\n      <td>11.190049</td>\n      <td>4958.00</td>\n      <td>31.192573</td>\n      <td>602.743520</td>\n      <td>0.0</td>\n      <td>9.366000</td>\n      <td>1.112596</td>\n      <td>67.299259</td>\n      <td>26633.905076</td>\n      <td>0.002527</td>\n      <td>16884216.0</td>\n      <td>NaN</td>\n      <td>4.0</td>\n      <td>NaN</td>\n      <td>False</td>\n    </tr>\n    <tr>\n      <th>485</th>\n      <td>4</td>\n      <td>4</td>\n      <td>3</td>\n      <td>spoc</td>\n      <td>2019.01</td>\n      <td>6.086156</td>\n      <td>15.347453</td>\n      <td>5588.00</td>\n      <td>194.754085</td>\n      <td>952.777282</td>\n      <td>0.0</td>\n      <td>10.263000</td>\n      <td>8.049490</td>\n      <td>43.569094</td>\n      <td>1162.447181</td>\n      <td>0.037480</td>\n      <td>159781361.0</td>\n      <td>NaN</td>\n      <td>5.0</td>\n      <td>NaN</td>\n      <td>False</td>\n    </tr>\n    <tr>\n      <th>280</th>\n      <td>3</td>\n      <td>3</td>\n      <td>2</td>\n      <td>spoc</td>\n      <td>2018.01</td>\n      <td>2.605087</td>\n      <td>7.437115</td>\n      <td>4218.90</td>\n      <td>26.068541</td>\n      <td>576.300415</td>\n      <td>0.0</td>\n      <td>10.250000</td>\n      <td>3.163873</td>\n      <td>133.621913</td>\n      <td>7434.843400</td>\n      <td>0.017972</td>\n      <td>357501308.0</td>\n      <td>3.0</td>\n      <td>5.0</td>\n      <td>NaN</td>\n      <td>False</td>\n    </tr>\n    <tr>\n      <th>367</th>\n      <td>3</td>\n      <td>4</td>\n      <td>2</td>\n      <td>spoc</td>\n      <td>2016.02</td>\n      <td>2.971602</td>\n      <td>2.458967</td>\n      <td>5175.00</td>\n      <td>386.273419</td>\n      <td>1130.689751</td>\n      <td>0.0</td>\n      <td>11.162000</td>\n      <td>4.706687</td>\n      <td>75.113315</td>\n      <td>7781.785306</td>\n      <td>0.009652</td>\n      <td>219508169.0</td>\n      <td>2.0</td>\n      <td>2.0</td>\n      <td>NaN</td>\n      <td>False</td>\n    </tr>\n    <tr>\n      <th>555</th>\n      <td>5</td>\n      <td>3</td>\n      <td>3</td>\n      <td>spoc</td>\n      <td>1890.01</td>\n      <td>10.215659</td>\n      <td>19.967924</td>\n      <td>5857.00</td>\n      <td>78.687882</td>\n      <td>759.620566</td>\n      <td>0.0</td>\n      <td>12.367000</td>\n      <td>16.857347</td>\n      <td>53.006938</td>\n      <td>1840.481506</td>\n      <td>0.028801</td>\n      <td>288636599.0</td>\n      <td>NaN</td>\n      <td>4.0</td>\n      <td>NaN</td>\n      <td>False</td>\n    </tr>\n    <tr>\n      <th>68</th>\n      <td>1</td>\n      <td>5</td>\n      <td>3</td>\n      <td>spoc</td>\n      <td>1860.01</td>\n      <td>1.424505</td>\n      <td>1.066211</td>\n      <td>5668.00</td>\n      <td>1901.754506</td>\n      <td>1684.257008</td>\n      <td>0.0</td>\n      <td>8.400000</td>\n      <td>1.621998</td>\n      <td>16.249996</td>\n      <td>5147.655129</td>\n      <td>0.003157</td>\n      <td>202426247.0</td>\n      <td>NaN</td>\n      <td>3.0</td>\n      <td>NaN</td>\n      <td>False</td>\n    </tr>\n    <tr>\n      <th>550</th>\n      <td>5</td>\n      <td>3</td>\n      <td>3</td>\n      <td>spoc</td>\n      <td>1859.01</td>\n      <td>10.610818</td>\n      <td>63.483408</td>\n      <td>6415.00</td>\n      <td>25.888812</td>\n      <td>575.304513</td>\n      <td>0.0</td>\n      <td>10.330000</td>\n      <td>10.716603</td>\n      <td>70.119345</td>\n      <td>697.582654</td>\n      <td>0.100518</td>\n      <td>229742722.0</td>\n      <td>NaN</td>\n      <td>3.0</td>\n      <td>NaN</td>\n      <td>False</td>\n    </tr>\n    <tr>\n      <th>566</th>\n      <td>5</td>\n      <td>4</td>\n      <td>2</td>\n      <td>spoc</td>\n      <td>1844.01</td>\n      <td>10.690659</td>\n      <td>3.212983</td>\n      <td>4652.87</td>\n      <td>139.775854</td>\n      <td>876.955969</td>\n      <td>0.0</td>\n      <td>12.665000</td>\n      <td>42.801766</td>\n      <td>234.117679</td>\n      <td>375.652725</td>\n      <td>0.623229</td>\n      <td>198108326.0</td>\n      <td>1.0</td>\n      <td>1.0</td>\n      <td>NaN</td>\n      <td>False</td>\n    </tr>\n    <tr>\n      <th>196</th>\n      <td>2</td>\n      <td>4</td>\n      <td>3</td>\n      <td>spoc</td>\n      <td>1839.01</td>\n      <td>2.470334</td>\n      <td>1.424817</td>\n      <td>5382.69</td>\n      <td>920.975578</td>\n      <td>1405.017644</td>\n      <td>0.0</td>\n      <td>10.900000</td>\n      <td>3.982379</td>\n      <td>74.376989</td>\n      <td>8539.347865</td>\n      <td>0.008710</td>\n      <td>381714186.0</td>\n      <td>NaN</td>\n      <td>5.0</td>\n      <td>NaN</td>\n      <td>False</td>\n    </tr>\n    <tr>\n      <th>633</th>\n      <td>5</td>\n      <td>5</td>\n      <td>3</td>\n      <td>spoc</td>\n      <td>1837.01</td>\n      <td>7.823103</td>\n      <td>5.818224</td>\n      <td>5961.28</td>\n      <td>1053.479741</td>\n      <td>1453.035740</td>\n      <td>0.0</td>\n      <td>9.200000</td>\n      <td>15.932086</td>\n      <td>108.590538</td>\n      <td>111.471711</td>\n      <td>0.974153</td>\n      <td>144441148.0</td>\n      <td>NaN</td>\n      <td>5.0</td>\n      <td>NaN</td>\n      <td>False</td>\n    </tr>\n    <tr>\n      <th>192</th>\n      <td>2</td>\n      <td>4</td>\n      <td>3</td>\n      <td>spoc</td>\n      <td>1835.01</td>\n      <td>2.340000</td>\n      <td>5.641960</td>\n      <td>5297.00</td>\n      <td>119.417118</td>\n      <td>843.114185</td>\n      <td>0.0</td>\n      <td>8.419000</td>\n      <td>2.335822</td>\n      <td>162.326418</td>\n      <td>2525.982886</td>\n      <td>0.064263</td>\n      <td>347332255.0</td>\n      <td>2.0</td>\n      <td>3.0</td>\n      <td>NaN</td>\n      <td>False</td>\n    </tr>\n    <tr>\n      <th>17</th>\n      <td>1</td>\n      <td>3</td>\n      <td>1</td>\n      <td>spoc</td>\n      <td>1827.01</td>\n      <td>1.333326</td>\n      <td>1.467126</td>\n      <td>3297.00</td>\n      <td>39.491955</td>\n      <td>639.362128</td>\n      <td>0.0</td>\n      <td>11.390000</td>\n      <td>2.877133</td>\n      <td>44.558044</td>\n      <td>25691.537617</td>\n      <td>0.001734</td>\n      <td>390651552.0</td>\n      <td>1.0</td>\n      <td>1.0</td>\n      <td>NaN</td>\n      <td>False</td>\n    </tr>\n    <tr>\n      <th>60</th>\n      <td>1</td>\n      <td>5</td>\n      <td>2</td>\n      <td>spoc</td>\n      <td>1807.01</td>\n      <td>1.525893</td>\n      <td>0.549343</td>\n      <td>4612.99</td>\n      <td>1592.916641</td>\n      <td>1611.268853</td>\n      <td>0.0</td>\n      <td>10.000000</td>\n      <td>2.842960</td>\n      <td>116.774705</td>\n      <td>7314.226686</td>\n      <td>0.015965</td>\n      <td>180695581.0</td>\n      <td>2.0</td>\n      <td>1.0</td>\n      <td>NaN</td>\n      <td>False</td>\n    </tr>\n    <tr>\n      <th>439</th>\n      <td>4</td>\n      <td>3</td>\n      <td>2</td>\n      <td>spoc</td>\n      <td>1803.01</td>\n      <td>4.026665</td>\n      <td>12.891153</td>\n      <td>4868.61</td>\n      <td>24.094820</td>\n      <td>565.067942</td>\n      <td>0.0</td>\n      <td>11.871000</td>\n      <td>4.891033</td>\n      <td>55.870286</td>\n      <td>13845.502044</td>\n      <td>0.004035</td>\n      <td>144401492.0</td>\n      <td>NaN</td>\n      <td>4.0</td>\n      <td>NaN</td>\n      <td>False</td>\n    </tr>\n    <tr>\n      <th>83</th>\n      <td>2</td>\n      <td>2</td>\n      <td>1</td>\n      <td>spoc</td>\n      <td>1801.01</td>\n      <td>2.170286</td>\n      <td>21.284406</td>\n      <td>3815.00</td>\n      <td>3.760847</td>\n      <td>355.174002</td>\n      <td>0.0</td>\n      <td>11.580000</td>\n      <td>1.866617</td>\n      <td>58.377628</td>\n      <td>72710.924042</td>\n      <td>0.000803</td>\n      <td>119584412.0</td>\n      <td>NaN</td>\n      <td>3.0</td>\n      <td>NaN</td>\n      <td>False</td>\n    </tr>\n    <tr>\n      <th>64</th>\n      <td>1</td>\n      <td>5</td>\n      <td>2</td>\n      <td>spoc</td>\n      <td>1798.02</td>\n      <td>1.279839</td>\n      <td>0.437783</td>\n      <td>5165.20</td>\n      <td>3369.723124</td>\n      <td>1943.203590</td>\n      <td>0.0</td>\n      <td>11.361000</td>\n      <td>2.017684</td>\n      <td>6.905486</td>\n      <td>50863.193692</td>\n      <td>0.000136</td>\n      <td>198153540.0</td>\n      <td>NaN</td>\n      <td>3.0</td>\n      <td>NaN</td>\n      <td>False</td>\n    </tr>\n    <tr>\n      <th>376</th>\n      <td>3</td>\n      <td>4</td>\n      <td>3</td>\n      <td>spoc</td>\n      <td>1797.01</td>\n      <td>3.213549</td>\n      <td>3.645428</td>\n      <td>5922.00</td>\n      <td>535.519147</td>\n      <td>1226.912244</td>\n      <td>0.0</td>\n      <td>9.182000</td>\n      <td>4.132586</td>\n      <td>118.413673</td>\n      <td>1629.544420</td>\n      <td>0.072667</td>\n      <td>368435330.0</td>\n      <td>3.0</td>\n      <td>2.0</td>\n      <td>NaN</td>\n      <td>False</td>\n    </tr>\n    <tr>\n      <th>268</th>\n      <td>3</td>\n      <td>3</td>\n      <td>1</td>\n      <td>spoc</td>\n      <td>1796.01</td>\n      <td>3.764061</td>\n      <td>2.643973</td>\n      <td>3456.00</td>\n      <td>29.430907</td>\n      <td>594.046803</td>\n      <td>0.0</td>\n      <td>10.670000</td>\n      <td>11.360833</td>\n      <td>747.838361</td>\n      <td>848.964651</td>\n      <td>0.880883</td>\n      <td>138819293.0</td>\n      <td>1.0</td>\n      <td>1.0</td>\n      <td>NaN</td>\n      <td>False</td>\n    </tr>\n    <tr>\n      <th>506</th>\n      <td>4</td>\n      <td>5</td>\n      <td>3</td>\n      <td>spoc</td>\n      <td>1795.01</td>\n      <td>6.000207</td>\n      <td>2.791791</td>\n      <td>6071.00</td>\n      <td>1003.835844</td>\n      <td>1435.606527</td>\n      <td>0.0</td>\n      <td>10.501000</td>\n      <td>12.674947</td>\n      <td>118.465975</td>\n      <td>583.737558</td>\n      <td>0.202944</td>\n      <td>135083444.0</td>\n      <td>NaN</td>\n      <td>4.0</td>\n      <td>NaN</td>\n      <td>False</td>\n    </tr>\n    <tr>\n      <th>234</th>\n      <td>2</td>\n      <td>5</td>\n      <td>3</td>\n      <td>spoc</td>\n      <td>1783.01</td>\n      <td>2.282278</td>\n      <td>1.419866</td>\n      <td>5406.00</td>\n      <td>1263.183253</td>\n      <td>1520.499702</td>\n      <td>0.0</td>\n      <td>9.919000</td>\n      <td>3.470055</td>\n      <td>89.720537</td>\n      <td>4556.561046</td>\n      <td>0.019690</td>\n      <td>229938290.0</td>\n      <td>NaN</td>\n      <td>4.0</td>\n      <td>NaN</td>\n      <td>False</td>\n    </tr>\n    <tr>\n      <th>571</th>\n      <td>5</td>\n      <td>4</td>\n      <td>2</td>\n      <td>spoc</td>\n      <td>1780.01</td>\n      <td>10.611799</td>\n      <td>1.706307</td>\n      <td>4974.00</td>\n      <td>652.774216</td>\n      <td>1289.170911</td>\n      <td>0.0</td>\n      <td>12.970000</td>\n      <td>48.740072</td>\n      <td>155.860967</td>\n      <td>383.652105</td>\n      <td>0.406256</td>\n      <td>99834717.0</td>\n      <td>NaN</td>\n      <td>3.0</td>\n      <td>NaN</td>\n      <td>False</td>\n    </tr>\n    <tr>\n      <th>150</th>\n      <td>2</td>\n      <td>3</td>\n      <td>3</td>\n      <td>spoc</td>\n      <td>1777.01</td>\n      <td>2.332202</td>\n      <td>14.653199</td>\n      <td>5859.45</td>\n      <td>71.507681</td>\n      <td>741.665236</td>\n      <td>0.0</td>\n      <td>9.310000</td>\n      <td>1.526267</td>\n      <td>52.432466</td>\n      <td>13441.533732</td>\n      <td>0.003901</td>\n      <td>29191624.0</td>\n      <td>NaN</td>\n      <td>5.0</td>\n      <td>NaN</td>\n      <td>False</td>\n    </tr>\n    <tr>\n      <th>58</th>\n      <td>1</td>\n      <td>4</td>\n      <td>3</td>\n      <td>spoc</td>\n      <td>1776.01</td>\n      <td>1.403392</td>\n      <td>2.800991</td>\n      <td>5723.87</td>\n      <td>560.334922</td>\n      <td>1240.885393</td>\n      <td>0.0</td>\n      <td>8.260000</td>\n      <td>1.146325</td>\n      <td>12.253961</td>\n      <td>9059.295448</td>\n      <td>0.001353</td>\n      <td>21535395.0</td>\n      <td>1.0</td>\n      <td>1.0</td>\n      <td>NaN</td>\n      <td>False</td>\n    </tr>\n    <tr>\n      <th>545</th>\n      <td>5</td>\n      <td>3</td>\n      <td>3</td>\n      <td>spoc</td>\n      <td>1775.01</td>\n      <td>8.074810</td>\n      <td>10.240374</td>\n      <td>5251.00</td>\n      <td>60.479059</td>\n      <td>711.247913</td>\n      <td>0.0</td>\n      <td>11.648000</td>\n      <td>15.864991</td>\n      <td>122.323122</td>\n      <td>1071.593947</td>\n      <td>0.114151</td>\n      <td>9348006.0</td>\n      <td>NaN</td>\n      <td>2.0</td>\n      <td>NaN</td>\n      <td>False</td>\n    </tr>\n    <tr>\n      <th>318</th>\n      <td>3</td>\n      <td>3</td>\n      <td>3</td>\n      <td>spoc</td>\n      <td>1774.01</td>\n      <td>2.739662</td>\n      <td>16.710042</td>\n      <td>5853.70</td>\n      <td>73.760947</td>\n      <td>747.440061</td>\n      <td>0.0</td>\n      <td>8.250000</td>\n      <td>1.920874</td>\n      <td>86.385377</td>\n      <td>3196.775933</td>\n      <td>0.027023</td>\n      <td>4897275.0</td>\n      <td>NaN</td>\n      <td>4.0</td>\n      <td>NaN</td>\n      <td>False</td>\n    </tr>\n    <tr>\n      <th>230</th>\n      <td>2</td>\n      <td>5</td>\n      <td>3</td>\n      <td>spoc</td>\n      <td>1773.01</td>\n      <td>1.798180</td>\n      <td>0.736650</td>\n      <td>5250.00</td>\n      <td>2132.930000</td>\n      <td>1893.000000</td>\n      <td>0.0</td>\n      <td>5.950840</td>\n      <td>2.999766</td>\n      <td>455.239540</td>\n      <td>157.714324</td>\n      <td>2.886482</td>\n      <td>332064670.0</td>\n      <td>1.0</td>\n      <td>1.0</td>\n      <td>NaN</td>\n      <td>False</td>\n    </tr>\n    <tr>\n      <th>255</th>\n      <td>3</td>\n      <td>2</td>\n      <td>2</td>\n      <td>spoc</td>\n      <td>1759.01</td>\n      <td>3.279929</td>\n      <td>18.848100</td>\n      <td>3960.00</td>\n      <td>2.485872</td>\n      <td>320.250225</td>\n      <td>0.0</td>\n      <td>11.930000</td>\n      <td>3.623383</td>\n      <td>82.486050</td>\n      <td>26636.765809</td>\n      <td>0.003097</td>\n      <td>408636441.0</td>\n      <td>1.0</td>\n      <td>1.0</td>\n      <td>NaN</td>\n      <td>False</td>\n    </tr>\n    <tr>\n      <th>50</th>\n      <td>1</td>\n      <td>4</td>\n      <td>2</td>\n      <td>spoc</td>\n      <td>1748.01</td>\n      <td>1.528908</td>\n      <td>1.831887</td>\n      <td>4837.00</td>\n      <td>404.915561</td>\n      <td>1144.091783</td>\n      <td>0.0</td>\n      <td>11.469000</td>\n      <td>1.950158</td>\n      <td>36.603364</td>\n      <td>60140.956611</td>\n      <td>0.000609</td>\n      <td>233071926.0</td>\n      <td>2.0</td>\n      <td>2.0</td>\n      <td>NaN</td>\n      <td>False</td>\n    </tr>\n    <tr>\n      <th>53</th>\n      <td>1</td>\n      <td>4</td>\n      <td>2</td>\n      <td>spoc</td>\n      <td>1747.01</td>\n      <td>1.324237</td>\n      <td>2.754791</td>\n      <td>4435.00</td>\n      <td>146.032569</td>\n      <td>886.609092</td>\n      <td>0.0</td>\n      <td>11.546000</td>\n      <td>1.355255</td>\n      <td>4.827387</td>\n      <td>133680.409149</td>\n      <td>0.000036</td>\n      <td>233071822.0</td>\n      <td>NaN</td>\n      <td>5.0</td>\n      <td>NaN</td>\n      <td>False</td>\n    </tr>\n    <tr>\n      <th>151</th>\n      <td>2</td>\n      <td>3</td>\n      <td>3</td>\n      <td>spoc</td>\n      <td>1742.01</td>\n      <td>2.366756</td>\n      <td>21.270741</td>\n      <td>5707.00</td>\n      <td>55.709719</td>\n      <td>696.790933</td>\n      <td>0.0</td>\n      <td>8.863000</td>\n      <td>1.417980</td>\n      <td>45.118543</td>\n      <td>10317.388657</td>\n      <td>0.004373</td>\n      <td>219857012.0</td>\n      <td>NaN</td>\n      <td>3.0</td>\n      <td>NaN</td>\n      <td>False</td>\n    </tr>\n    <tr>\n      <th>39</th>\n      <td>1</td>\n      <td>3</td>\n      <td>2</td>\n      <td>spoc</td>\n      <td>1741.01</td>\n      <td>1.293527</td>\n      <td>10.940714</td>\n      <td>4324.00</td>\n      <td>16.292419</td>\n      <td>512.408280</td>\n      <td>0.0</td>\n      <td>11.794000</td>\n      <td>0.830370</td>\n      <td>3.470550</td>\n      <td>447472.566299</td>\n      <td>0.000008</td>\n      <td>198206613.0</td>\n      <td>NaN</td>\n      <td>3.0</td>\n      <td>NaN</td>\n      <td>False</td>\n    </tr>\n    <tr>\n      <th>32</th>\n      <td>1</td>\n      <td>3</td>\n      <td>1</td>\n      <td>spoc</td>\n      <td>1730.02</td>\n      <td>1.440684</td>\n      <td>2.155669</td>\n      <td>3691.00</td>\n      <td>67.449404</td>\n      <td>730.910630</td>\n      <td>0.0</td>\n      <td>12.230000</td>\n      <td>2.026155</td>\n      <td>9.243456</td>\n      <td>112296.112599</td>\n      <td>0.000082</td>\n      <td>318022259.0</td>\n      <td>NaN</td>\n      <td>5.0</td>\n      <td>NaN</td>\n      <td>False</td>\n    </tr>\n    <tr>\n      <th>101</th>\n      <td>2</td>\n      <td>3</td>\n      <td>1</td>\n      <td>spoc</td>\n      <td>1730.01</td>\n      <td>2.299128</td>\n      <td>6.222236</td>\n      <td>3691.00</td>\n      <td>16.411904</td>\n      <td>513.345186</td>\n      <td>0.0</td>\n      <td>12.230000</td>\n      <td>3.149984</td>\n      <td>79.047707</td>\n      <td>46461.508328</td>\n      <td>0.001701</td>\n      <td>318022259.0</td>\n      <td>1.0</td>\n      <td>1.0</td>\n      <td>NaN</td>\n      <td>False</td>\n    </tr>\n    <tr>\n      <th>434</th>\n      <td>4</td>\n      <td>3</td>\n      <td>2</td>\n      <td>spoc</td>\n      <td>1728.01</td>\n      <td>4.699432</td>\n      <td>3.491567</td>\n      <td>3907.00</td>\n      <td>57.019625</td>\n      <td>700.851229</td>\n      <td>0.0</td>\n      <td>12.390000</td>\n      <td>11.653890</td>\n      <td>134.915225</td>\n      <td>3933.399732</td>\n      <td>0.034300</td>\n      <td>285048486.0</td>\n      <td>1.0</td>\n      <td>1.0</td>\n      <td>NaN</td>\n      <td>False</td>\n    </tr>\n    <tr>\n      <th>313</th>\n      <td>3</td>\n      <td>3</td>\n      <td>3</td>\n      <td>spoc</td>\n      <td>1726.02</td>\n      <td>2.635970</td>\n      <td>20.545913</td>\n      <td>5694.11</td>\n      <td>35.353393</td>\n      <td>621.909976</td>\n      <td>0.0</td>\n      <td>6.920350</td>\n      <td>1.734137</td>\n      <td>193.511870</td>\n      <td>1152.612474</td>\n      <td>0.167890</td>\n      <td>130181866.0</td>\n      <td>1.0</td>\n      <td>1.0</td>\n      <td>NaN</td>\n      <td>False</td>\n    </tr>\n    <tr>\n      <th>191</th>\n      <td>2</td>\n      <td>4</td>\n      <td>3</td>\n      <td>spoc</td>\n      <td>1726.01</td>\n      <td>2.158585</td>\n      <td>7.108153</td>\n      <td>5694.11</td>\n      <td>145.564668</td>\n      <td>885.898044</td>\n      <td>0.0</td>\n      <td>6.920350</td>\n      <td>1.758848</td>\n      <td>212.598959</td>\n      <td>1120.452145</td>\n      <td>0.189744</td>\n      <td>130181866.0</td>\n      <td>1.0</td>\n      <td>1.0</td>\n      <td>NaN</td>\n      <td>False</td>\n    </tr>\n    <tr>\n      <th>473</th>\n      <td>4</td>\n      <td>4</td>\n      <td>3</td>\n      <td>spoc</td>\n      <td>1718.01</td>\n      <td>4.042342</td>\n      <td>5.586947</td>\n      <td>5378.00</td>\n      <td>182.580139</td>\n      <td>937.525594</td>\n      <td>0.0</td>\n      <td>8.960000</td>\n      <td>5.858789</td>\n      <td>174.407928</td>\n      <td>660.836705</td>\n      <td>0.263920</td>\n      <td>257241363.0</td>\n      <td>1.0</td>\n      <td>1.0</td>\n      <td>NaN</td>\n      <td>False</td>\n    </tr>\n    <tr>\n      <th>499</th>\n      <td>4</td>\n      <td>5</td>\n      <td>2</td>\n      <td>spoc</td>\n      <td>1713.01</td>\n      <td>4.653690</td>\n      <td>0.557201</td>\n      <td>5097.60</td>\n      <td>3415.825831</td>\n      <td>1949.816221</td>\n      <td>0.0</td>\n      <td>11.436000</td>\n      <td>16.906352</td>\n      <td>156.077598</td>\n      <td>776.265170</td>\n      <td>0.201062</td>\n      <td>15863518.0</td>\n      <td>1.0</td>\n      <td>1.0</td>\n      <td>NaN</td>\n      <td>False</td>\n    </tr>\n    <tr>\n      <th>469</th>\n      <td>4</td>\n      <td>4</td>\n      <td>2</td>\n      <td>spoc</td>\n      <td>1694.01</td>\n      <td>5.480027</td>\n      <td>3.770130</td>\n      <td>5058.00</td>\n      <td>195.288170</td>\n      <td>953.419593</td>\n      <td>0.0</td>\n      <td>11.446000</td>\n      <td>11.926515</td>\n      <td>116.048502</td>\n      <td>1574.282901</td>\n      <td>0.073715</td>\n      <td>396740648.0</td>\n      <td>NaN</td>\n      <td>4.0</td>\n      <td>NaN</td>\n      <td>False</td>\n    </tr>\n    <tr>\n      <th>193</th>\n      <td>2</td>\n      <td>4</td>\n      <td>3</td>\n      <td>spoc</td>\n      <td>1689.01</td>\n      <td>2.047184</td>\n      <td>9.123810</td>\n      <td>5470.16</td>\n      <td>148.745590</td>\n      <td>890.698610</td>\n      <td>0.0</td>\n      <td>6.995640</td>\n      <td>1.529912</td>\n      <td>123.549297</td>\n      <td>1587.205798</td>\n      <td>0.077841</td>\n      <td>198384408.0</td>\n      <td>NaN</td>\n      <td>2.0</td>\n      <td>NaN</td>\n      <td>False</td>\n    </tr>\n    <tr>\n      <th>175</th>\n      <td>2</td>\n      <td>4</td>\n      <td>2</td>\n      <td>spoc</td>\n      <td>1683.01</td>\n      <td>2.390933</td>\n      <td>3.057601</td>\n      <td>4402.00</td>\n      <td>122.333824</td>\n      <td>848.215857</td>\n      <td>0.0</td>\n      <td>10.970000</td>\n      <td>3.589482</td>\n      <td>89.969432</td>\n      <td>11211.049584</td>\n      <td>0.008025</td>\n      <td>58542531.0</td>\n      <td>NaN</td>\n      <td>3.0</td>\n      <td>NaN</td>\n      <td>False</td>\n    </tr>\n    <tr>\n      <th>418</th>\n      <td>3</td>\n      <td>5</td>\n      <td>3</td>\n      <td>spoc</td>\n      <td>1681.01</td>\n      <td>3.261850</td>\n      <td>1.537559</td>\n      <td>5672.50</td>\n      <td>1160.699357</td>\n      <td>1488.674282</td>\n      <td>0.0</td>\n      <td>10.970000</td>\n      <td>5.910641</td>\n      <td>86.459725</td>\n      <td>4134.668844</td>\n      <td>0.020911</td>\n      <td>321041369.0</td>\n      <td>2.0</td>\n      <td>2.0</td>\n      <td>NaN</td>\n      <td>False</td>\n    </tr>\n    <tr>\n      <th>548</th>\n      <td>5</td>\n      <td>3</td>\n      <td>3</td>\n      <td>spoc</td>\n      <td>1670.01</td>\n      <td>11.053420</td>\n      <td>40.749442</td>\n      <td>6453.00</td>\n      <td>39.909847</td>\n      <td>641.046843</td>\n      <td>0.0</td>\n      <td>9.889000</td>\n      <td>3.434325</td>\n      <td>85.823370</td>\n      <td>4525.088909</td>\n      <td>0.018966</td>\n      <td>441739020.0</td>\n      <td>NaN</td>\n      <td>5.0</td>\n      <td>NaN</td>\n      <td>False</td>\n    </tr>\n    <tr>\n      <th>149</th>\n      <td>2</td>\n      <td>3</td>\n      <td>3</td>\n      <td>spoc</td>\n      <td>1630.01</td>\n      <td>2.385641</td>\n      <td>12.055626</td>\n      <td>5504.00</td>\n      <td>52.423469</td>\n      <td>686.279758</td>\n      <td>0.0</td>\n      <td>9.624000</td>\n      <td>1.810934</td>\n      <td>63.671541</td>\n      <td>12749.832853</td>\n      <td>0.004994</td>\n      <td>317597583.0</td>\n      <td>3.0</td>\n      <td>2.0</td>\n      <td>NaN</td>\n      <td>False</td>\n    </tr>\n    <tr>\n      <th>504</th>\n      <td>4</td>\n      <td>5</td>\n      <td>3</td>\n      <td>spoc</td>\n      <td>1622.01</td>\n      <td>4.606829</td>\n      <td>1.714019</td>\n      <td>5932.20</td>\n      <td>1384.314474</td>\n      <td>1555.709270</td>\n      <td>0.0</td>\n      <td>9.920000</td>\n      <td>9.659885</td>\n      <td>172.869782</td>\n      <td>588.526450</td>\n      <td>0.293733</td>\n      <td>388076005.0</td>\n      <td>NaN</td>\n      <td>3.0</td>\n      <td>NaN</td>\n      <td>False</td>\n    </tr>\n    <tr>\n      <th>124</th>\n      <td>2</td>\n      <td>3</td>\n      <td>2</td>\n      <td>spoc</td>\n      <td>1611.01</td>\n      <td>2.370706</td>\n      <td>16.202166</td>\n      <td>5071.00</td>\n      <td>25.575860</td>\n      <td>573.557960</td>\n      <td>0.0</td>\n      <td>8.370000</td>\n      <td>1.766216</td>\n      <td>119.593367</td>\n      <td>4223.012499</td>\n      <td>0.028319</td>\n      <td>264678534.0</td>\n      <td>1.0</td>\n      <td>1.0</td>\n      <td>NaN</td>\n      <td>False</td>\n    </tr>\n    <tr>\n      <th>419</th>\n      <td>3</td>\n      <td>5</td>\n      <td>3</td>\n      <td>spoc</td>\n      <td>1610.01</td>\n      <td>2.549592</td>\n      <td>2.528739</td>\n      <td>5740.20</td>\n      <td>1017.612067</td>\n      <td>1440.506797</td>\n      <td>0.0</td>\n      <td>10.990000</td>\n      <td>3.266454</td>\n      <td>36.332828</td>\n      <td>13789.763644</td>\n      <td>0.002635</td>\n      <td>219776325.0</td>\n      <td>3.0</td>\n      <td>3.0</td>\n      <td>NaN</td>\n      <td>False</td>\n    </tr>\n    <tr>\n      <th>417</th>\n      <td>3</td>\n      <td>5</td>\n      <td>3</td>\n      <td>spoc</td>\n      <td>1598.01</td>\n      <td>3.780692</td>\n      <td>1.103694</td>\n      <td>6011.00</td>\n      <td>8050.412440</td>\n      <td>2415.874013</td>\n      <td>0.0</td>\n      <td>9.145001</td>\n      <td>7.595654</td>\n      <td>103.360934</td>\n      <td>466.208221</td>\n      <td>0.221706</td>\n      <td>67418624.0</td>\n      <td>1.0</td>\n      <td>1.0</td>\n      <td>NaN</td>\n      <td>False</td>\n    </tr>\n    <tr>\n      <th>482</th>\n      <td>4</td>\n      <td>4</td>\n      <td>3</td>\n      <td>spoc</td>\n      <td>1592.01</td>\n      <td>4.821769</td>\n      <td>5.631807</td>\n      <td>5669.90</td>\n      <td>474.491912</td>\n      <td>1190.356241</td>\n      <td>0.0</td>\n      <td>10.337000</td>\n      <td>7.423242</td>\n      <td>60.987453</td>\n      <td>1463.264096</td>\n      <td>0.041679</td>\n      <td>186599508.0</td>\n      <td>NaN</td>\n      <td>4.0</td>\n      <td>NaN</td>\n      <td>False</td>\n    </tr>\n    <tr>\n      <th>450</th>\n      <td>4</td>\n      <td>3</td>\n      <td>3</td>\n      <td>spoc</td>\n      <td>1554.01</td>\n      <td>5.975876</td>\n      <td>9.435260</td>\n      <td>5450.40</td>\n      <td>96.578429</td>\n      <td>799.539241</td>\n      <td>0.0</td>\n      <td>12.020000</td>\n      <td>9.287745</td>\n      <td>66.961811</td>\n      <td>4404.426174</td>\n      <td>0.015203</td>\n      <td>299158887.0</td>\n      <td>NaN</td>\n      <td>4.0</td>\n      <td>NaN</td>\n      <td>False</td>\n    </tr>\n    <tr>\n      <th>194</th>\n      <td>2</td>\n      <td>4</td>\n      <td>3</td>\n      <td>spoc</td>\n      <td>1473.01</td>\n      <td>2.493360</td>\n      <td>5.255294</td>\n      <td>5958.00</td>\n      <td>299.625751</td>\n      <td>1061.120081</td>\n      <td>0.0</td>\n      <td>8.844000</td>\n      <td>2.362245</td>\n      <td>97.258434</td>\n      <td>3653.087060</td>\n      <td>0.026624</td>\n      <td>352413427.0</td>\n      <td>NaN</td>\n      <td>4.0</td>\n      <td>NaN</td>\n      <td>False</td>\n    </tr>\n    <tr>\n      <th>445</th>\n      <td>4</td>\n      <td>3</td>\n      <td>3</td>\n      <td>spoc</td>\n      <td>1471.01</td>\n      <td>4.282738</td>\n      <td>20.772024</td>\n      <td>5625.56</td>\n      <td>81.617867</td>\n      <td>766.595136</td>\n      <td>0.0</td>\n      <td>9.200000</td>\n      <td>3.969217</td>\n      <td>102.621488</td>\n      <td>1795.974551</td>\n      <td>0.057140</td>\n      <td>306263608.0</td>\n      <td>1.0</td>\n      <td>1.0</td>\n      <td>NaN</td>\n      <td>False</td>\n    </tr>\n    <tr>\n      <th>37</th>\n      <td>1</td>\n      <td>3</td>\n      <td>2</td>\n      <td>spoc</td>\n      <td>1469.02</td>\n      <td>1.291695</td>\n      <td>6.765084</td>\n      <td>4884.29</td>\n      <td>67.951307</td>\n      <td>732.266562</td>\n      <td>0.0</td>\n      <td>5.569110</td>\n      <td>0.872497</td>\n      <td>41.919206</td>\n      <td>1311.673520</td>\n      <td>0.031959</td>\n      <td>283722336.0</td>\n      <td>1.0</td>\n      <td>1.0</td>\n      <td>NaN</td>\n      <td>False</td>\n    </tr>\n    <tr>\n      <th>49</th>\n      <td>1</td>\n      <td>4</td>\n      <td>2</td>\n      <td>spoc</td>\n      <td>1469.01</td>\n      <td>1.211322</td>\n      <td>3.092927</td>\n      <td>4884.29</td>\n      <td>192.931228</td>\n      <td>950.539966</td>\n      <td>0.0</td>\n      <td>5.569110</td>\n      <td>0.985338</td>\n      <td>51.581412</td>\n      <td>1028.451102</td>\n      <td>0.050154</td>\n      <td>283722336.0</td>\n      <td>1.0</td>\n      <td>1.0</td>\n      <td>NaN</td>\n      <td>False</td>\n    </tr>\n    <tr>\n      <th>26</th>\n      <td>1</td>\n      <td>3</td>\n      <td>1</td>\n      <td>spoc</td>\n      <td>1468.02</td>\n      <td>1.452351</td>\n      <td>1.880305</td>\n      <td>3382.00</td>\n      <td>35.733782</td>\n      <td>623.576148</td>\n      <td>0.0</td>\n      <td>12.500000</td>\n      <td>2.797071</td>\n      <td>14.536522</td>\n      <td>75561.907357</td>\n      <td>0.000192</td>\n      <td>243185500.0</td>\n      <td>NaN</td>\n      <td>2.0</td>\n      <td>NaN</td>\n      <td>False</td>\n    </tr>\n    <tr>\n      <th>75</th>\n      <td>2</td>\n      <td>2</td>\n      <td>1</td>\n      <td>spoc</td>\n      <td>1468.01</td>\n      <td>2.333273</td>\n      <td>15.531925</td>\n      <td>3382.00</td>\n      <td>2.140013</td>\n      <td>308.477758</td>\n      <td>0.0</td>\n      <td>12.500000</td>\n      <td>3.097830</td>\n      <td>88.323028</td>\n      <td>61601.990473</td>\n      <td>0.001434</td>\n      <td>243185500.0</td>\n      <td>NaN</td>\n      <td>1.0</td>\n      <td>NaN</td>\n      <td>False</td>\n    </tr>\n    <tr>\n      <th>104</th>\n      <td>2</td>\n      <td>3</td>\n      <td>1</td>\n      <td>spoc</td>\n      <td>1467.01</td>\n      <td>1.827003</td>\n      <td>5.973384</td>\n      <td>3834.00</td>\n      <td>18.079169</td>\n      <td>525.913556</td>\n      <td>0.0</td>\n      <td>12.293000</td>\n      <td>2.277148</td>\n      <td>61.002188</td>\n      <td>94216.598676</td>\n      <td>0.000647</td>\n      <td>240968774.0</td>\n      <td>NaN</td>\n      <td>5.0</td>\n      <td>NaN</td>\n      <td>False</td>\n    </tr>\n    <tr>\n      <th>67</th>\n      <td>1</td>\n      <td>5</td>\n      <td>3</td>\n      <td>spoc</td>\n      <td>1462.01</td>\n      <td>1.214249</td>\n      <td>2.177946</td>\n      <td>5801.89</td>\n      <td>1460.744395</td>\n      <td>1576.751696</td>\n      <td>0.0</td>\n      <td>6.479150</td>\n      <td>0.937878</td>\n      <td>16.638351</td>\n      <td>2624.684255</td>\n      <td>0.006339</td>\n      <td>188768068.0</td>\n      <td>1.0</td>\n      <td>2.0</td>\n      <td>NaN</td>\n      <td>False</td>\n    </tr>\n    <tr>\n      <th>69</th>\n      <td>1</td>\n      <td>5</td>\n      <td>3</td>\n      <td>spoc</td>\n      <td>1444.01</td>\n      <td>1.329707</td>\n      <td>0.470254</td>\n      <td>5466.00</td>\n      <td>5028.883351</td>\n      <td>2147.769348</td>\n      <td>0.0</td>\n      <td>10.936000</td>\n      <td>1.979602</td>\n      <td>6.727395</td>\n      <td>35723.499293</td>\n      <td>0.000188</td>\n      <td>258514800.0</td>\n      <td>NaN</td>\n      <td>4.0</td>\n      <td>NaN</td>\n      <td>False</td>\n    </tr>\n    <tr>\n      <th>229</th>\n      <td>2</td>\n      <td>5</td>\n      <td>2</td>\n      <td>spoc</td>\n      <td>1436.01</td>\n      <td>1.717836</td>\n      <td>0.867492</td>\n      <td>5011.22</td>\n      <td>1118.225214</td>\n      <td>1474.864321</td>\n      <td>0.0</td>\n      <td>12.006000</td>\n      <td>2.736772</td>\n      <td>45.030156</td>\n      <td>50076.361586</td>\n      <td>0.000899</td>\n      <td>154383539.0</td>\n      <td>1.0</td>\n      <td>2.0</td>\n      <td>NaN</td>\n      <td>False</td>\n    </tr>\n    <tr>\n      <th>63</th>\n      <td>1</td>\n      <td>5</td>\n      <td>2</td>\n      <td>spoc</td>\n      <td>1435.01</td>\n      <td>1.159860</td>\n      <td>0.685999</td>\n      <td>5142.00</td>\n      <td>2009.332222</td>\n      <td>1707.586398</td>\n      <td>0.0</td>\n      <td>10.631000</td>\n      <td>1.317690</td>\n      <td>7.041841</td>\n      <td>60881.198281</td>\n      <td>0.000116</td>\n      <td>153976959.0</td>\n      <td>NaN</td>\n      <td>4.0</td>\n      <td>NaN</td>\n      <td>False</td>\n    </tr>\n    <tr>\n      <th>148</th>\n      <td>2</td>\n      <td>3</td>\n      <td>3</td>\n      <td>spoc</td>\n      <td>1434.01</td>\n      <td>2.029456</td>\n      <td>29.889399</td>\n      <td>5393.86</td>\n      <td>12.020798</td>\n      <td>474.900993</td>\n      <td>0.0</td>\n      <td>8.780000</td>\n      <td>1.029344</td>\n      <td>71.529613</td>\n      <td>18137.981165</td>\n      <td>0.003944</td>\n      <td>138588540.0</td>\n      <td>2.0</td>\n      <td>4.0</td>\n      <td>NaN</td>\n      <td>False</td>\n    </tr>\n    <tr>\n      <th>125</th>\n      <td>2</td>\n      <td>3</td>\n      <td>2</td>\n      <td>spoc</td>\n      <td>1430.01</td>\n      <td>2.229178</td>\n      <td>7.434007</td>\n      <td>5064.00</td>\n      <td>72.546440</td>\n      <td>744.344144</td>\n      <td>0.0</td>\n      <td>9.190000</td>\n      <td>2.053198</td>\n      <td>97.366257</td>\n      <td>6650.409218</td>\n      <td>0.014641</td>\n      <td>293954617.0</td>\n      <td>NaN</td>\n      <td>2.0</td>\n      <td>NaN</td>\n      <td>False</td>\n    </tr>\n    <tr>\n      <th>438</th>\n      <td>4</td>\n      <td>3</td>\n      <td>2</td>\n      <td>spoc</td>\n      <td>1424.01</td>\n      <td>4.012561</td>\n      <td>4.897647</td>\n      <td>4528.99</td>\n      <td>95.044646</td>\n      <td>796.345745</td>\n      <td>0.0</td>\n      <td>11.308000</td>\n      <td>7.226467</td>\n      <td>80.242179</td>\n      <td>3776.224645</td>\n      <td>0.021249</td>\n      <td>418959198.0</td>\n      <td>NaN</td>\n      <td>2.0</td>\n      <td>NaN</td>\n      <td>False</td>\n    </tr>\n    <tr>\n      <th>569</th>\n      <td>5</td>\n      <td>4</td>\n      <td>2</td>\n      <td>spoc</td>\n      <td>1423.01</td>\n      <td>6.414552</td>\n      <td>2.755653</td>\n      <td>4993.00</td>\n      <td>207.238637</td>\n      <td>967.692625</td>\n      <td>0.0</td>\n      <td>11.741000</td>\n      <td>17.554008</td>\n      <td>185.888078</td>\n      <td>953.580415</td>\n      <td>0.194937</td>\n      <td>346418409.0</td>\n      <td>NaN</td>\n      <td>4.0</td>\n      <td>NaN</td>\n      <td>False</td>\n    </tr>\n    <tr>\n      <th>174</th>\n      <td>2</td>\n      <td>4</td>\n      <td>2</td>\n      <td>spoc</td>\n      <td>1416.01</td>\n      <td>1.770756</td>\n      <td>1.069606</td>\n      <td>4946.00</td>\n      <td>945.960557</td>\n      <td>1414.451324</td>\n      <td>0.0</td>\n      <td>9.910000</td>\n      <td>2.735778</td>\n      <td>98.548680</td>\n      <td>7270.232196</td>\n      <td>0.013555</td>\n      <td>158025009.0</td>\n      <td>1.0</td>\n      <td>2.0</td>\n      <td>NaN</td>\n      <td>False</td>\n    </tr>\n    <tr>\n      <th>477</th>\n      <td>4</td>\n      <td>4</td>\n      <td>3</td>\n      <td>spoc</td>\n      <td>1415.01</td>\n      <td>4.783583</td>\n      <td>14.419358</td>\n      <td>6383.00</td>\n      <td>186.899216</td>\n      <td>943.021554</td>\n      <td>0.0</td>\n      <td>8.860000</td>\n      <td>4.598778</td>\n      <td>83.149948</td>\n      <td>978.193961</td>\n      <td>0.085004</td>\n      <td>148782377.0</td>\n      <td>NaN</td>\n      <td>3.0</td>\n      <td>NaN</td>\n      <td>False</td>\n    </tr>\n    <tr>\n      <th>531</th>\n      <td>5</td>\n      <td>3</td>\n      <td>2</td>\n      <td>spoc</td>\n      <td>1412.01</td>\n      <td>6.824999</td>\n      <td>4.731974</td>\n      <td>4223.45</td>\n      <td>53.912502</td>\n      <td>691.101955</td>\n      <td>0.0</td>\n      <td>12.343000</td>\n      <td>18.932283</td>\n      <td>175.426364</td>\n      <td>1427.262884</td>\n      <td>0.122911</td>\n      <td>116483734.0</td>\n      <td>NaN</td>\n      <td>2.0</td>\n      <td>NaN</td>\n      <td>False</td>\n    </tr>\n    <tr>\n      <th>51</th>\n      <td>1</td>\n      <td>4</td>\n      <td>2</td>\n      <td>spoc</td>\n      <td>1411.01</td>\n      <td>1.340201</td>\n      <td>1.452042</td>\n      <td>4184.00</td>\n      <td>276.019086</td>\n      <td>1039.571891</td>\n      <td>0.0</td>\n      <td>10.510000</td>\n      <td>1.781814</td>\n      <td>11.630715</td>\n      <td>29784.140196</td>\n      <td>0.000391</td>\n      <td>116483514.0</td>\n      <td>NaN</td>\n      <td>3.0</td>\n      <td>NaN</td>\n      <td>False</td>\n    </tr>\n    <tr>\n      <th>366</th>\n      <td>3</td>\n      <td>4</td>\n      <td>2</td>\n      <td>spoc</td>\n      <td>1410.01</td>\n      <td>2.943638</td>\n      <td>1.216835</td>\n      <td>4634.60</td>\n      <td>565.541505</td>\n      <td>1243.757952</td>\n      <td>0.0</td>\n      <td>11.111000</td>\n      <td>6.752781</td>\n      <td>117.908189</td>\n      <td>3606.987575</td>\n      <td>0.032689</td>\n      <td>199444169.0</td>\n      <td>1.0</td>\n      <td>1.0</td>\n      <td>NaN</td>\n      <td>False</td>\n    </tr>\n    <tr>\n      <th>315</th>\n      <td>3</td>\n      <td>3</td>\n      <td>3</td>\n      <td>spoc</td>\n      <td>1339.01</td>\n      <td>3.233810</td>\n      <td>8.880251</td>\n      <td>5555.70</td>\n      <td>99.074489</td>\n      <td>804.655919</td>\n      <td>0.0</td>\n      <td>8.970000</td>\n      <td>3.370558</td>\n      <td>130.815680</td>\n      <td>2015.145159</td>\n      <td>0.064916</td>\n      <td>269701147.0</td>\n      <td>2.0</td>\n      <td>2.0</td>\n      <td>NaN</td>\n      <td>False</td>\n    </tr>\n    <tr>\n      <th>133</th>\n      <td>2</td>\n      <td>3</td>\n      <td>2</td>\n      <td>spoc</td>\n      <td>1301.01</td>\n      <td>2.485496</td>\n      <td>6.096347</td>\n      <td>4820.40</td>\n      <td>69.864279</td>\n      <td>737.366742</td>\n      <td>0.0</td>\n      <td>11.337000</td>\n      <td>2.801488</td>\n      <td>50.419966</td>\n      <td>25806.695144</td>\n      <td>0.001954</td>\n      <td>356867115.0</td>\n      <td>NaN</td>\n      <td>5.0</td>\n      <td>NaN</td>\n      <td>False</td>\n    </tr>\n    <tr>\n      <th>475</th>\n      <td>4</td>\n      <td>4</td>\n      <td>3</td>\n      <td>spoc</td>\n      <td>1288.01</td>\n      <td>4.721018</td>\n      <td>2.699830</td>\n      <td>6180.00</td>\n      <td>691.875275</td>\n      <td>1308.057099</td>\n      <td>0.0</td>\n      <td>10.445000</td>\n      <td>8.276751</td>\n      <td>146.458791</td>\n      <td>1300.140053</td>\n      <td>0.112648</td>\n      <td>365733349.0</td>\n      <td>2.0</td>\n      <td>2.0</td>\n      <td>NaN</td>\n      <td>False</td>\n    </tr>\n    <tr>\n      <th>534</th>\n      <td>5</td>\n      <td>3</td>\n      <td>2</td>\n      <td>spoc</td>\n      <td>1274.01</td>\n      <td>9.146268</td>\n      <td>19.320336</td>\n      <td>4968.10</td>\n      <td>17.075047</td>\n      <td>518.454000</td>\n      <td>0.0</td>\n      <td>12.784000</td>\n      <td>17.936794</td>\n      <td>83.396012</td>\n      <td>2386.823357</td>\n      <td>0.034940</td>\n      <td>459969957.0</td>\n      <td>NaN</td>\n      <td>3.0</td>\n      <td>NaN</td>\n      <td>False</td>\n    </tr>\n    <tr>\n      <th>471</th>\n      <td>4</td>\n      <td>4</td>\n      <td>2</td>\n      <td>spoc</td>\n      <td>1272.01</td>\n      <td>4.289363</td>\n      <td>3.315997</td>\n      <td>4972.70</td>\n      <td>217.521583</td>\n      <td>979.479471</td>\n      <td>0.0</td>\n      <td>11.758000</td>\n      <td>8.322015</td>\n      <td>78.391731</td>\n      <td>4309.758180</td>\n      <td>0.018189</td>\n      <td>417948359.0</td>\n      <td>NaN</td>\n      <td>5.0</td>\n      <td>NaN</td>\n      <td>False</td>\n    </tr>\n    <tr>\n      <th>79</th>\n      <td>2</td>\n      <td>2</td>\n      <td>1</td>\n      <td>spoc</td>\n      <td>1266.01</td>\n      <td>2.411583</td>\n      <td>10.895412</td>\n      <td>3618.00</td>\n      <td>5.513363</td>\n      <td>390.817398</td>\n      <td>0.0</td>\n      <td>12.941000</td>\n      <td>3.248883</td>\n      <td>71.011232</td>\n      <td>84070.152472</td>\n      <td>0.000845</td>\n      <td>467179528.0</td>\n      <td>NaN</td>\n      <td>2.0</td>\n      <td>NaN</td>\n      <td>False</td>\n    </tr>\n    <tr>\n      <th>570</th>\n      <td>5</td>\n      <td>4</td>\n      <td>2</td>\n      <td>spoc</td>\n      <td>1264.01</td>\n      <td>7.796351</td>\n      <td>2.744163</td>\n      <td>5040.00</td>\n      <td>418.583565</td>\n      <td>1153.626683</td>\n      <td>0.0</td>\n      <td>11.471000</td>\n      <td>24.238265</td>\n      <td>180.548396</td>\n      <td>390.037940</td>\n      <td>0.462900</td>\n      <td>416195870.0</td>\n      <td>NaN</td>\n      <td>2.0</td>\n      <td>NaN</td>\n      <td>False</td>\n    </tr>\n    <tr>\n      <th>62</th>\n      <td>1</td>\n      <td>5</td>\n      <td>2</td>\n      <td>spoc</td>\n      <td>1263.01</td>\n      <td>1.427326</td>\n      <td>1.021332</td>\n      <td>5098.00</td>\n      <td>1136.034650</td>\n      <td>1480.701935</td>\n      <td>0.0</td>\n      <td>9.358000</td>\n      <td>1.850292</td>\n      <td>15.088590</td>\n      <td>9559.370195</td>\n      <td>0.001578</td>\n      <td>406672232.0</td>\n      <td>1.0</td>\n      <td>2.0</td>\n      <td>NaN</td>\n      <td>False</td>\n    </tr>\n    <tr>\n      <th>628</th>\n      <td>5</td>\n      <td>5</td>\n      <td>3</td>\n      <td>spoc</td>\n      <td>1254.01</td>\n      <td>9.238729</td>\n      <td>1.018003</td>\n      <td>5451.00</td>\n      <td>2488.228088</td>\n      <td>1801.325913</td>\n      <td>0.0</td>\n      <td>11.646000</td>\n      <td>41.413159</td>\n      <td>232.918741</td>\n      <td>156.975979</td>\n      <td>1.483786</td>\n      <td>236714379.0</td>\n      <td>3.0</td>\n      <td>4.0</td>\n      <td>NaN</td>\n      <td>False</td>\n    </tr>\n    <tr>\n      <th>589</th>\n      <td>5</td>\n      <td>4</td>\n      <td>3</td>\n      <td>spoc</td>\n      <td>1251.01</td>\n      <td>9.945957</td>\n      <td>5.963059</td>\n      <td>5273.00</td>\n      <td>160.614127</td>\n      <td>907.957844</td>\n      <td>0.0</td>\n      <td>11.513000</td>\n      <td>27.274840</td>\n      <td>183.485045</td>\n      <td>320.173599</td>\n      <td>0.573080</td>\n      <td>233120979.0</td>\n      <td>NaN</td>\n      <td>3.0</td>\n      <td>NaN</td>\n      <td>False</td>\n    </tr>\n    <tr>\n      <th>372</th>\n      <td>3</td>\n      <td>4</td>\n      <td>2</td>\n      <td>spoc</td>\n      <td>1246.03</td>\n      <td>2.773251</td>\n      <td>5.904144</td>\n      <td>5141.00</td>\n      <td>129.040606</td>\n      <td>859.609781</td>\n      <td>0.0</td>\n      <td>11.632000</td>\n      <td>3.169240</td>\n      <td>35.886688</td>\n      <td>26460.604256</td>\n      <td>0.001356</td>\n      <td>230127302.0</td>\n      <td>NaN</td>\n      <td>4.0</td>\n      <td>NaN</td>\n      <td>False</td>\n    </tr>\n    <tr>\n      <th>370</th>\n      <td>3</td>\n      <td>4</td>\n      <td>2</td>\n      <td>spoc</td>\n      <td>1246.02</td>\n      <td>2.919932</td>\n      <td>4.307437</td>\n      <td>5141.00</td>\n      <td>196.476409</td>\n      <td>954.876824</td>\n      <td>0.0</td>\n      <td>11.632000</td>\n      <td>3.842847</td>\n      <td>42.626336</td>\n      <td>17997.146464</td>\n      <td>0.002369</td>\n      <td>230127302.0</td>\n      <td>NaN</td>\n      <td>3.0</td>\n      <td>NaN</td>\n      <td>False</td>\n    </tr>\n    <tr>\n      <th>228</th>\n      <td>2</td>\n      <td>5</td>\n      <td>2</td>\n      <td>spoc</td>\n      <td>1242.01</td>\n      <td>1.683639</td>\n      <td>0.381481</td>\n      <td>4255.00</td>\n      <td>1840.065132</td>\n      <td>1670.429105</td>\n      <td>0.0</td>\n      <td>12.777000</td>\n      <td>4.038221</td>\n      <td>48.790641</td>\n      <td>46787.486279</td>\n      <td>0.001043</td>\n      <td>198212955.0</td>\n      <td>2.0</td>\n      <td>1.0</td>\n      <td>NaN</td>\n      <td>False</td>\n    </tr>\n    <tr>\n      <th>46</th>\n      <td>1</td>\n      <td>4</td>\n      <td>1</td>\n      <td>spoc</td>\n      <td>1238.02</td>\n      <td>1.280385</td>\n      <td>0.764601</td>\n      <td>3853.00</td>\n      <td>399.258210</td>\n      <td>1140.074452</td>\n      <td>0.0</td>\n      <td>12.796000</td>\n      <td>2.137838</td>\n      <td>5.748944</td>\n      <td>169887.111674</td>\n      <td>0.000034</td>\n      <td>153951307.0</td>\n      <td>NaN</td>\n      <td>4.0</td>\n      <td>NaN</td>\n      <td>False</td>\n    </tr>\n    <tr>\n      <th>111</th>\n      <td>2</td>\n      <td>3</td>\n      <td>1</td>\n      <td>spoc</td>\n      <td>1238.01</td>\n      <td>2.288668</td>\n      <td>3.293706</td>\n      <td>3853.00</td>\n      <td>56.962266</td>\n      <td>700.674906</td>\n      <td>0.0</td>\n      <td>12.796000</td>\n      <td>3.526711</td>\n      <td>49.854376</td>\n      <td>62426.674218</td>\n      <td>0.000799</td>\n      <td>153951307.0</td>\n      <td>NaN</td>\n      <td>2.0</td>\n      <td>NaN</td>\n      <td>False</td>\n    </tr>\n    <tr>\n      <th>587</th>\n      <td>5</td>\n      <td>4</td>\n      <td>3</td>\n      <td>spoc</td>\n      <td>1194.01</td>\n      <td>8.860766</td>\n      <td>2.310602</td>\n      <td>5339.90</td>\n      <td>640.679340</td>\n      <td>1283.157390</td>\n      <td>0.0</td>\n      <td>11.302000</td>\n      <td>29.948292</td>\n      <td>214.438844</td>\n      <td>218.658226</td>\n      <td>0.980703</td>\n      <td>147950620.0</td>\n      <td>2.0</td>\n      <td>2.0</td>\n      <td>NaN</td>\n      <td>False</td>\n    </tr>\n    <tr>\n      <th>127</th>\n      <td>2</td>\n      <td>3</td>\n      <td>2</td>\n      <td>spoc</td>\n      <td>1184.01</td>\n      <td>2.393360</td>\n      <td>5.748418</td>\n      <td>4534.00</td>\n      <td>57.763164</td>\n      <td>703.124924</td>\n      <td>0.0</td>\n      <td>10.988000</td>\n      <td>2.840019</td>\n      <td>69.901771</td>\n      <td>18208.218970</td>\n      <td>0.003839</td>\n      <td>233087860.0</td>\n      <td>NaN</td>\n      <td>3.0</td>\n      <td>NaN</td>\n      <td>False</td>\n    </tr>\n    <tr>\n      <th>466</th>\n      <td>4</td>\n      <td>4</td>\n      <td>2</td>\n      <td>spoc</td>\n      <td>1179.01</td>\n      <td>4.955913</td>\n      <td>1.261524</td>\n      <td>4927.90</td>\n      <td>708.171641</td>\n      <td>1315.692450</td>\n      <td>0.0</td>\n      <td>10.879000</td>\n      <td>14.844673</td>\n      <td>209.453293</td>\n      <td>602.793636</td>\n      <td>0.347471</td>\n      <td>148914726.0</td>\n      <td>1.0</td>\n      <td>1.0</td>\n      <td>NaN</td>\n      <td>False</td>\n    </tr>\n    <tr>\n      <th>449</th>\n      <td>4</td>\n      <td>3</td>\n      <td>3</td>\n      <td>spoc</td>\n      <td>1136.03</td>\n      <td>4.037327</td>\n      <td>26.321864</td>\n      <td>5729.00</td>\n      <td>30.940040</td>\n      <td>601.519853</td>\n      <td>0.0</td>\n      <td>9.534000</td>\n      <td>3.255495</td>\n      <td>71.373820</td>\n      <td>3631.414657</td>\n      <td>0.019655</td>\n      <td>142276270.0</td>\n      <td>NaN</td>\n      <td>3.0</td>\n      <td>NaN</td>\n      <td>False</td>\n    </tr>\n    <tr>\n      <th>586</th>\n      <td>5</td>\n      <td>4</td>\n      <td>3</td>\n      <td>spoc</td>\n      <td>1135.01</td>\n      <td>8.818492</td>\n      <td>8.027722</td>\n      <td>5962.70</td>\n      <td>246.925530</td>\n      <td>1011.023495</td>\n      <td>0.0</td>\n      <td>9.540000</td>\n      <td>16.798724</td>\n      <td>222.751097</td>\n      <td>137.137849</td>\n      <td>1.624286</td>\n      <td>154872375.0</td>\n      <td>1.0</td>\n      <td>1.0</td>\n      <td>NaN</td>\n      <td>False</td>\n    </tr>\n  </tbody>\n</table>\n</div>"
     },
     "metadata": {},
     "execution_count": 55
    }
   ],
   "source": [
    "df[(~df['X_priority'].isnull()) & (df['V mag'] < 13)].sort_values('Full TOI ID', ascending=False)"
   ]
  },
  {
   "cell_type": "code",
   "execution_count": null,
   "metadata": {},
   "outputs": [],
   "source": []
  }
 ]
}